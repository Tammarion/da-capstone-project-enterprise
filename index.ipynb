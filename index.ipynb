{
 "cells": [
  {
   "cell_type": "markdown",
   "metadata": {
    "index": 0
   },
   "source": [
    "# Capstone Regression Project\n",
    "\n",
    "## Introduction \n",
    "\n",
    "In this notebook you'll perform a linear regression analysis and report the findings of your model, including both predictive model performance metrics and interpretation of fitted model parameters.\n",
    "\n",
    "## Objectives\n",
    "\n",
    "You will be able to:\n",
    "\n",
    "* Describe the business use case solved by your analysis\n",
    "* Complete data cleaning and exploratory data analysis using Pandas and/or SQL\n",
    "* Perform a linear regression analysis starting with a baseline model and then making improvements\n",
    "* Evaluate your models and interpret their predictive performance metrics\n",
    "* Apply an inferential lens to interpret relationships between variables identified by the top model"
   ]
  },
  {
   "cell_type": "markdown",
   "metadata": {
    "index": 2
   },
   "source": [
    "## Business Understanding\n",
    "\n",
    "*Task*: (Five to ten sentences) Explain the background needed for someone with little to no background in your topic to understand the business goals of your project. Discuss the issues seen currently that your analysis can address.\n",
    "\n",
    "*YOUR ANSWER HERE*\n",
    "\n",
    "## Data Understanding\n",
    "\n",
    "*Task*: (Five to ten sentences) Where does your data come from? What are you trying to predict? What limitations does this data have? \n",
    "\n",
    "*YOUR ANSWER HERE*\n",
    "\n",
    "\n",
    "## Loading the Data\n",
    "\n",
    "*Task*: (Three to five sentences) Explain how to load the data using Python. Clearly address which packages you are using and include the code to `import` those packages below.\n",
    "\n",
    "*YOUR ANSWER HERE*"
   ]
  },
  {
   "cell_type": "code",
   "execution_count": 194,
   "metadata": {
    "index": 3
   },
   "outputs": [],
   "source": [
    "# *YOUR ANSWER HERE for importing packages*"
   ]
  },
  {
   "cell_type": "markdown",
   "metadata": {
    "index": 7
   },
   "source": [
    "## Analysis Requirements\n",
    "\n",
    "### 1. Data Exploration and Cleaning\n",
    "\n",
    "During the data exploration phase, the datatypes of columns should be checked, the distribution of the target variable should be inspected, null values should be either removed or replaced, and duplicates (in most cases) should be dropped. \n",
    "\n",
    "### 2. Create a Baseline Model\n",
    "\n",
    "In order to evaluate how a simple linear regression model is understanding the dependent variable, you will begin by first creating a model that predicts the mean of the dependent variable for every observation. Predicting the mean of your target variable/feature can be considered a highly naive model. If a simple linear regression model performs worse than this naive approach, you can safely say that it is not a very good model. The same can be said of multiple linear regression models as well.\n",
    "\n",
    "### 3. Interpret a Correlation Heatmap\n",
    "\n",
    "To develop a simple linear regression model, you will identify the independent variable that is most correlated with our dependent variable. To do this this you will plot a correlation heatmap to identify the variable most correlated with your target.\n",
    "\n",
    "### 4. Build a Simple Linear Regression Model\n",
    "\n",
    "Now, create a linear regression model where the most correlated feature is used as the independent variable and the dependent variable is properly set. \n",
    "\n",
    "### 5. Interpret the Simple Linear Regression Model\n",
    "\n",
    "Once the model has been fit, the coefficient for our independent variable, its p-value, and the coefficient confidence interval should be interpeted. You should ask yourself whether or not the relationship your model is finding seems plausible. \n",
    "\n",
    "### 6. Evaluate the Simple Linear Regression Model\n",
    "\n",
    "Before you can make a final assessment of our model, you need to compare its metrics with the baseline model created in step one, and you need to check the assumptions of linear regression.\n",
    "\n",
    "### 7. Build a Multiple Linear Regression Model\n",
    "\n",
    "Now, create a multiple linear regression model by adding at least one feature to the model beyond the most correlated one.\n",
    "\n",
    "### 8. Interpret this Multiple Linear Regression Model\n",
    "\n",
    "Interpret the coefficients for our independent variables, their p-values, and the coefficient confidence intervals. As before, you should ask yourself whether or not the relationship your model is finding seems plausible. \n",
    "\n",
    "### 9. Evaluate the Multiple Linear Regression Model\n",
    "\n",
    "Compare the metrics with the baseline model created in step one and the similar linear regression model in step four.\n",
    "\n",
    "### 10. Decide on how next to proceed\n",
    "\n",
    "Explore other multiple linear regression models with a variety of features. Use inferential statistics and your business understanding to talk about reasons for including particular features and compare your final model back to the (1) baseline, (2) simple linear regression, and (3) initial multiple linear regression model built in step seven.\n",
    "\n"
   ]
  },
  {
   "cell_type": "markdown",
   "metadata": {
    "index": 8
   },
   "source": [
    "# 1. Data Exploration and Cleaning\n",
    "\n",
    "**Note:** Some steps have been given here to get you going with your analysis. Please add in any additional cleaning steps, data visualizations, and exploratory analysis you've done in Python here.\n",
    "\n",
    "Inspect the dataframe by outputting the first five rows."
   ]
  },
  {
   "cell_type": "code",
   "execution_count": 198,
   "metadata": {
    "index": 9
   },
   "outputs": [],
   "source": [
    "# Replace None with your code\n",
    "\n",
    "None"
   ]
  },
  {
   "cell_type": "markdown",
   "metadata": {
    "index": 12
   },
   "source": [
    "Produce high-level descriptive information about your training data"
   ]
  },
  {
   "cell_type": "code",
   "execution_count": 200,
   "metadata": {
    "index": 13
   },
   "outputs": [],
   "source": [
    "# Replace None with your code\n",
    "\n",
    "None"
   ]
  },
  {
   "cell_type": "markdown",
   "metadata": {
    "index": 15
   },
   "source": [
    "Display the number of null values for each column"
   ]
  },
  {
   "cell_type": "code",
   "execution_count": 202,
   "metadata": {
    "index": 16
   },
   "outputs": [],
   "source": [
    "# Replace None with your code\n",
    "\n",
    "None"
   ]
  },
  {
   "cell_type": "markdown",
   "metadata": {
    "index": 26
   },
   "source": [
    "Check the datatypes of the columns in the dataframe. \n",
    "> Remember, the target column and any columns you use as independent variables *must* have a numeric datatype. After inspecting the datatypes of the columns, convert columns to numeric where necessary. "
   ]
  },
  {
   "cell_type": "code",
   "execution_count": 209,
   "metadata": {
    "index": 27
   },
   "outputs": [],
   "source": [
    "# Replace None with your code\n",
    "\n",
    "None"
   ]
  },
  {
   "cell_type": "markdown",
   "metadata": {
    "index": 29
   },
   "source": [
    "In the cell below, output the number of duplicate rows in the dataframe. If duplicates are found, drop them."
   ]
  },
  {
   "cell_type": "code",
   "execution_count": 211,
   "metadata": {
    "index": 30
   },
   "outputs": [],
   "source": [
    "# Replace None with your code\n",
    "\n",
    "None"
   ]
  },
  {
   "cell_type": "markdown",
   "metadata": {
    "index": 32
   },
   "source": [
    "Visualize the distribution of the dependent variable"
   ]
  },
  {
   "cell_type": "code",
   "execution_count": 213,
   "metadata": {
    "index": 33
   },
   "outputs": [],
   "source": [
    "# Replace None with your code\n",
    "\n",
    "None"
   ]
  },
  {
   "cell_type": "markdown",
   "metadata": {},
   "source": [
    "### What additional stories can you tell by exploring your data? Add them below."
   ]
  },
  {
   "cell_type": "markdown",
   "metadata": {
    "index": 35
   },
   "source": [
    "# Create a Baseline Model\n",
    "\n",
    "Below, create a baseline model by using the mean of the response."
   ]
  },
  {
   "cell_type": "markdown",
   "metadata": {
    "index": 38
   },
   "source": [
    "Now that you have baseline predictions, you can use the predictions to calculate metrics about the model's performance. "
   ]
  },
  {
   "cell_type": "code",
   "execution_count": null,
   "metadata": {
    "index": 39
   },
   "outputs": [],
   "source": [
    "from sklearn.metrics import r2_score, mean_squared_error\n"
   ]
  },
  {
   "cell_type": "markdown",
   "metadata": {
    "index": 40
   },
   "source": [
    "**Interpret the resulting metrics for the baseline model.**\n",
    "\n",
    "- How is the model explaining the variance of the dependent variable?\n",
    "- For example, on average, how many dollars off are the models predictions?"
   ]
  },
  {
   "cell_type": "markdown",
   "metadata": {
    "index": "Placeholder"
   },
   "source": [
    "*YOUR ANSWER HERE*"
   ]
  },
  {
   "cell_type": "markdown",
   "metadata": {
    "index": 42
   },
   "source": [
    "# 2. Interpret a Correlation Heatmap to Build a Baseline Model\n",
    "\n",
    "## Correlation Heatmap\n",
    "\n",
    "Produce a heatmap showing the correlations between all of the numeric values in the data. The x and y axis labels should indicate the pair of values that are being compared, and then the color and the number should represent the correlation. \n",
    "\n",
    "The most important column or row shows the correlations between the target and other attributes."
   ]
  },
  {
   "cell_type": "code",
   "execution_count": 218,
   "metadata": {
    "index": 43
   },
   "outputs": [],
   "source": [
    "# Run this cell without changes\n",
    "\n",
    "import seaborn as sns\n",
    "import numpy as np"
   ]
  },
  {
   "cell_type": "code",
   "execution_count": 220,
   "metadata": {
    "index": 45
   },
   "outputs": [],
   "source": [
    "# Replace None with your code\n",
    "\n",
    "None"
   ]
  },
  {
   "cell_type": "markdown",
   "metadata": {},
   "source": [
    "**Task**: (Five to ten sentences) What are the major findings of the correlation analysis?"
   ]
  },
  {
   "cell_type": "markdown",
   "metadata": {},
   "source": [
    "*YOUR ANSWER HERE*"
   ]
  },
  {
   "cell_type": "markdown",
   "metadata": {
    "index": 54
   },
   "source": [
    "# 3. Build a Simple Linear Regression Model\n",
    "\n",
    "Now, you'll build a linear regression model using just the most correlated feature. \n",
    "\n",
    "In the cell below, fit a `statsmodels` linear regression model to the data and output a summary for the model. "
   ]
  },
  {
   "cell_type": "code",
   "execution_count": 226,
   "metadata": {
    "index": 55
   },
   "outputs": [],
   "source": [
    "import statsmodels.formula.api as smf\n",
    "\n",
    "# Replace None with your code\n",
    "\n",
    "model = None"
   ]
  },
  {
   "cell_type": "markdown",
   "metadata": {
    "index": 57
   },
   "source": [
    "# 4. Interpret the Simple Linear Regression Model"
   ]
  },
  {
   "cell_type": "markdown",
   "metadata": {
    "index": 58
   },
   "source": [
    "Now that the model has been fit, you should interpret the model parameters. \n",
    "\n",
    "Specifically:\n",
    "- What do the coefficients for the intercept and independent variable suggest about the dependent variable?\n",
    "- Are the coefficients found to be statistically significant?\n",
    "- What are the confidence intervals for the coefficients?\n",
    "- Do the relationships found by the model seem plausible? "
   ]
  },
  {
   "cell_type": "markdown",
   "metadata": {
    "index": "Placeholder"
   },
   "source": [
    "*YOUR ANSWER HERE*"
   ]
  },
  {
   "cell_type": "markdown",
   "metadata": {
    "index": 60
   },
   "source": [
    "# 5. Evaluate the Simple Linear Regression Model"
   ]
  },
  {
   "cell_type": "markdown",
   "metadata": {
    "index": 61
   },
   "source": [
    "Now that the model parameters have been interpreted, the model must be assessed based on predictive metrics and whether or not the model is meeting the assumptions of linear regression. "
   ]
  },
  {
   "cell_type": "markdown",
   "metadata": {
    "index": 62
   },
   "source": [
    "### Compare the $R^2$ and the Root Mean Squared Error of the simple linear regression model with the baseline model. "
   ]
  },
  {
   "cell_type": "code",
   "execution_count": null,
   "metadata": {
    "index": 63
   },
   "outputs": [],
   "source": [
    "# Replace None with your code\n",
    "model_r2 = None\n",
    "\n",
    "model_rmse = None\n",
    "\n",
    "print('Baseline R^2: ', baseline_r2)\n",
    "print('Baseline RMSE:', baseline_rmse)\n",
    "print('----------------------------')\n",
    "print('Regression R^2: ', model_r2)\n",
    "print('Regression RMSE:', model_rmse)"
   ]
  },
  {
   "cell_type": "markdown",
   "metadata": {
    "index": 65
   },
   "source": [
    "### Interpret the model metrics"
   ]
  },
  {
   "cell_type": "markdown",
   "metadata": {
    "index": "Placeholder"
   },
   "source": [
    "*YOUR ANSWER HERE*"
   ]
  },
  {
   "cell_type": "markdown",
   "metadata": {
    "index": 67
   },
   "source": [
    "### Check the assumptions of simple linear regression"
   ]
  },
  {
   "cell_type": "markdown",
   "metadata": {
    "index": 68
   },
   "source": [
    "#### Investigating Linearity\n",
    "\n",
    "First, let's check whether the linearity assumption holds."
   ]
  },
  {
   "cell_type": "code",
   "execution_count": null,
   "metadata": {},
   "outputs": [],
   "source": [
    "# YOUR CODE HERE"
   ]
  },
  {
   "cell_type": "markdown",
   "metadata": {
    "index": 71
   },
   "source": [
    "Are you violating the linearity assumption?"
   ]
  },
  {
   "cell_type": "markdown",
   "metadata": {
    "index": "Placeholder"
   },
   "source": [
    "*YOUR ANSWER HERE*"
   ]
  },
  {
   "cell_type": "markdown",
   "metadata": {
    "index": 73
   },
   "source": [
    "#### Investigating Normality\n",
    "\n",
    "Now let's check whether the normality assumption holds for our model."
   ]
  },
  {
   "cell_type": "code",
   "execution_count": null,
   "metadata": {},
   "outputs": [],
   "source": [
    "# YOUR CODE HERE"
   ]
  },
  {
   "cell_type": "markdown",
   "metadata": {
    "index": 76
   },
   "source": [
    "Are you violating the normality assumption?"
   ]
  },
  {
   "cell_type": "markdown",
   "metadata": {
    "index": "Placeholder"
   },
   "source": [
    "*YOUR ANSWER HERE*"
   ]
  },
  {
   "cell_type": "markdown",
   "metadata": {
    "index": 78
   },
   "source": [
    "#### Investigating Homoscedasticity\n",
    "\n",
    "Now let's check whether the model's errors are indeed homoscedastic or if they violate this principle and display heteroscedasticity."
   ]
  },
  {
   "cell_type": "code",
   "execution_count": null,
   "metadata": {},
   "outputs": [],
   "source": [
    "# YOUR CODE HERE"
   ]
  },
  {
   "cell_type": "markdown",
   "metadata": {
    "index": 81
   },
   "source": [
    "Are you violating the homoscedasticity assumption?"
   ]
  },
  {
   "cell_type": "markdown",
   "metadata": {
    "index": "Placeholder"
   },
   "source": [
    "*YOUR ANSWER HERE*"
   ]
  },
  {
   "cell_type": "markdown",
   "metadata": {
    "index": 83
   },
   "source": [
    "### Linear Regression Assumptions Conclusion\n",
    "\n",
    "Given your answers above, how should you interpret our model's coefficients? Do you have a model that can be used for inferential as well as predictive purposes?"
   ]
  },
  {
   "cell_type": "markdown",
   "metadata": {
    "index": "Placeholder"
   },
   "source": [
    "*YOUR ANSWER HERE*"
   ]
  },
  {
   "cell_type": "markdown",
   "metadata": {},
   "source": [
    "# STEPS 6-10 here"
   ]
  },
  {
   "cell_type": "markdown",
   "metadata": {},
   "source": [
    "Feel free to use much of the scaffolding that has been provided for you above to continue steps six to 10 here."
   ]
  },
  {
   "cell_type": "markdown",
   "metadata": {
    "index": 85
   },
   "source": [
    "# Level Up: Project Enhancements\n",
    "\n",
    "After completing the project, you could consider the following enhancements if you have time:\n",
    "\n",
    "* Identify and remove outliers, then redo the analysis\n",
    "* Compile the data cleaning code into a function"
   ]
  },
  {
   "cell_type": "markdown",
   "metadata": {
    "index": 86
   },
   "source": [
    "## Summary"
   ]
  },
  {
   "cell_type": "markdown",
   "metadata": {
    "index": 87
   },
   "source": [
    "**Task**: (Ten to fifteen sentences) What has been determined by your analysis? What would you do next if you had more time? What things do you wish you had known before you started this capstone? Which steps did you find most useful in your analysis? Why?\n",
    "\n",
    "*YOUR ANSWER HERE*"
   ]
  },
  {
   "cell_type": "code",
   "execution_count": null,
   "metadata": {},
   "outputs": [],
   "source": []
  }
 ],
 "metadata": {
  "kernelspec": {
   "display_name": "Python 3 (ipykernel)",
   "language": "python",
   "name": "python3"
  },
  "language_info": {
   "codemirror_mode": {
    "name": "ipython",
    "version": 3
   },
   "file_extension": ".py",
   "mimetype": "text/x-python",
   "name": "python",
   "nbconvert_exporter": "python",
   "pygments_lexer": "ipython3",
   "version": "3.9.7"
  }
 },
 "nbformat": 4,
 "nbformat_minor": 4
}
