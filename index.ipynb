{
 "cells": [
  {
   "cell_type": "markdown",
   "metadata": {
    "index": 0
   },
   "source": [
    "# Capstone Regression Project"
   ]
  },
  {
   "cell_type": "markdown",
   "metadata": {
    "index": 2
   },
   "source": [
    "## Business Understanding"
   ]
  },
  {
   "cell_type": "markdown",
   "metadata": {},
   "source": [
    "At an important meeting that occurred at the local taco house, the company head of *MSB, INC.* wondered if it was possible to see any changes in the buying habits of 'average' people in the King's County area during 2021 and 2022 of the pandemic. Now, assuming we have a data set / analysis of pre-COVID years and 2020 to compare it to, to see what major features will effect the price. "
   ]
  },
  {
   "cell_type": "markdown",
   "metadata": {
    "index": 2
   },
   "source": [
    "## Data Understanding"
   ]
  },
  {
   "cell_type": "code",
   "execution_count": null,
   "metadata": {},
   "outputs": [],
   "source": []
  },
  {
   "cell_type": "markdown",
   "metadata": {},
   "source": [
    " ### Data Source\n",
    "    \n",
    "    This data set is complied from data from the King's County Assessors office and the location data was mined using a third party API. \n",
    "    \n",
    " ### Column Details\n",
    "\n",
    "* `id` - Unique identifier for a house\n",
    "* `date` - Date house was sold\n",
    "* `price` - Sale price (prediction target)\n",
    "* `bedrooms` - Number of bedrooms\n",
    "* `bathrooms` - Number of bathrooms\n",
    "* `sqft_living` - Square footage of living space in the home\n",
    "* `sqft_lot` - Square footage of the lot\n",
    "* `floors` - Number of floors (levels) in house\n",
    "* `waterfront` - Whether the house is on a waterfront\n",
    "  * Includes Duwamish, Elliott Bay, Puget Sound, Lake Union, Ship Canal, Lake Washington, Lake Sammamish, other lake, and river/slough waterfronts\n",
    "* `greenbelt` - Whether the house is adjacent to a green belt\n",
    "* `nuisance` - Whether the house has traffic noise or other recorded nuisances\n",
    "* `view` - Quality of view from house\n",
    "  * Includes views of Mt. Rainier, Olympics, Cascades, Territorial, Seattle Skyline, Puget Sound, Lake Washington, Lake Sammamish, small lake / river / creek, and other\n",
    "* `condition` - How good the overall condition of the house is. Related to maintenance of house.\n",
    "  * Relative to age and grade. Coded 1-5.\n",
    "      * 1 = Poor - Worn out. Repair and overhaul needed on painted surfaces, roofing, plumbing, heating and numerous functional inadequacies. Excessive deferred maintenance and abuse, limited value-in-use, approaching abandonment or major reconstruction; reuse or change in occupancy is imminent. Effective age is near the end of the scale regardless of the actual chronological age.\n",
    "      * 2 = Fair - Badly worn. Much repair needed. Many items need refinishing or overhauling, deferred maintenance obvious, inadequate building utility and systems all shortening the life expectancy and increasing the effective age.\n",
    "      * 3 = Average - Some evidence of deferred maintenance and normal obsolescence with age in that a few minor repairs are needed, along with some refinishing. All major components still functional and contributing toward an extended life expectancy. Effective age and utility is standard for like properties of its class and usage.\n",
    "      * 4 = Good - No obvious maintenance required but neither is everything new. Appearance and utility are above the standard and the overall effective age will be lower than the typical property.\n",
    "      * 5 = Very Good - All items well maintained, many having been overhauled and repaired as they have shown signs of wear, increasing the life expectancy and lowering the effective age with little deterioration or obsolescence evident with a high degree of utility.\n",
    "* `grade` - Overall grade of the house. Related to the construction and design of the house.\n",
    "    * Represents the construction quality of improvements. Grades run from grade 1 to 13. Generally defined as:\n",
    "        * 1-3 = Falls short of minimum building standards. Normally cabin or inferior structure.\n",
    "        * 4 = Generally older, low quality construction. Does not meet code.\n",
    "        * 5 = Low construction costs and workmanship. Small, simple design.\n",
    "        * 6 = Lowest grade currently meeting building code. Low quality materials and simple designs.\n",
    "        * 7 = Average grade of construction and design. Commonly seen in plats and older sub-divisions.\n",
    "        * 8 = Just above average in construction and design. Usually better materials in both the exterior and interior finish work.\n",
    "        * 9 = Better architectural design with extra interior and exterior design and quality.\n",
    "        * 10 = Homes of this quality generally have high quality features. Finish work is better and more design quality is seen in the floor plans. Generally have a larger square footage.\n",
    "        * 11 = Custom design and higher quality finish work with added amenities of solid woods, bathroom fixtures and more luxurious options.\n",
    "        * 12 = Custom design and excellent builders. All materials are of the highest quality and all conveniences are present.\n",
    "        * 13 = Generally custom designed and built. Mansion level. Large amount of highest quality cabinet work, wood trim, marble, entry ways etc.\n",
    "* `heat_source` - Heat source for the house\n",
    "* `sewer_system` - Sewer system for the house\n",
    "* `sqft_above` - Square footage of house apart from basement\n",
    "* `sqft_basement` - Square footage of the basement\n",
    "* `sqft_garage` - Square footage of garage space\n",
    "* `sqft_patio` - Square footage of outdoor porch or deck space\n",
    "* `yr_built` - Year when house was built\n",
    "* `yr_renovated` - Year when house was renovated\n",
    "* `address` - The street address\n",
    "* `lat` - Latitude coordinate\n",
    "* `long` - Longitude coordinate\n"
   ]
  },
  {
   "cell_type": "markdown",
   "metadata": {
    "index": 2
   },
   "source": [
    "## Data Preparation"
   ]
  },
  {
   "cell_type": "code",
   "execution_count": 152,
   "metadata": {},
   "outputs": [],
   "source": [
    "import matplotlib.pyplot as plt\n",
    "import pandas as pd\n",
    "import seaborn as sns\n",
    "import statsmodels.api as sm"
   ]
  },
  {
   "cell_type": "markdown",
   "metadata": {},
   "source": [
    "### Loading the Data"
   ]
  },
  {
   "cell_type": "markdown",
   "metadata": {},
   "source": [
    "Importing the csv into a dataframe."
   ]
  },
  {
   "cell_type": "code",
   "execution_count": 153,
   "metadata": {
    "index": 3
   },
   "outputs": [],
   "source": [
    "data = pd.read_csv(\"./data/kc_house_data.csv\", index_col=0)"
   ]
  },
  {
   "cell_type": "code",
   "execution_count": 154,
   "metadata": {},
   "outputs": [],
   "source": [
    "pd.set_option('display.float_format', lambda x: '%.2f' % x)"
   ]
  },
  {
   "cell_type": "markdown",
   "metadata": {
    "index": 8
   },
   "source": [
    "### Data Exploration"
   ]
  },
  {
   "cell_type": "markdown",
   "metadata": {},
   "source": [
    "Time to see what we're working with."
   ]
  },
  {
   "cell_type": "code",
   "execution_count": 155,
   "metadata": {},
   "outputs": [
    {
     "data": {
      "text/html": [
       "<div>\n",
       "<style scoped>\n",
       "    .dataframe tbody tr th:only-of-type {\n",
       "        vertical-align: middle;\n",
       "    }\n",
       "\n",
       "    .dataframe tbody tr th {\n",
       "        vertical-align: top;\n",
       "    }\n",
       "\n",
       "    .dataframe thead th {\n",
       "        text-align: right;\n",
       "    }\n",
       "</style>\n",
       "<table border=\"1\" class=\"dataframe\">\n",
       "  <thead>\n",
       "    <tr style=\"text-align: right;\">\n",
       "      <th></th>\n",
       "      <th>date</th>\n",
       "      <th>price</th>\n",
       "      <th>bedrooms</th>\n",
       "      <th>bathrooms</th>\n",
       "      <th>sqft_living</th>\n",
       "      <th>sqft_lot</th>\n",
       "      <th>floors</th>\n",
       "      <th>waterfront</th>\n",
       "      <th>greenbelt</th>\n",
       "      <th>nuisance</th>\n",
       "      <th>...</th>\n",
       "      <th>sewer_system</th>\n",
       "      <th>sqft_above</th>\n",
       "      <th>sqft_basement</th>\n",
       "      <th>sqft_garage</th>\n",
       "      <th>sqft_patio</th>\n",
       "      <th>yr_built</th>\n",
       "      <th>yr_renovated</th>\n",
       "      <th>address</th>\n",
       "      <th>lat</th>\n",
       "      <th>long</th>\n",
       "    </tr>\n",
       "    <tr>\n",
       "      <th>id</th>\n",
       "      <th></th>\n",
       "      <th></th>\n",
       "      <th></th>\n",
       "      <th></th>\n",
       "      <th></th>\n",
       "      <th></th>\n",
       "      <th></th>\n",
       "      <th></th>\n",
       "      <th></th>\n",
       "      <th></th>\n",
       "      <th></th>\n",
       "      <th></th>\n",
       "      <th></th>\n",
       "      <th></th>\n",
       "      <th></th>\n",
       "      <th></th>\n",
       "      <th></th>\n",
       "      <th></th>\n",
       "      <th></th>\n",
       "      <th></th>\n",
       "      <th></th>\n",
       "    </tr>\n",
       "  </thead>\n",
       "  <tbody>\n",
       "    <tr>\n",
       "      <th>7399300360</th>\n",
       "      <td>5/24/2022</td>\n",
       "      <td>675000.00</td>\n",
       "      <td>4</td>\n",
       "      <td>1.00</td>\n",
       "      <td>1180</td>\n",
       "      <td>7140</td>\n",
       "      <td>1.00</td>\n",
       "      <td>NO</td>\n",
       "      <td>NO</td>\n",
       "      <td>NO</td>\n",
       "      <td>...</td>\n",
       "      <td>PUBLIC</td>\n",
       "      <td>1180</td>\n",
       "      <td>0</td>\n",
       "      <td>0</td>\n",
       "      <td>40</td>\n",
       "      <td>1969</td>\n",
       "      <td>0</td>\n",
       "      <td>2102 Southeast 21st Court, Renton, Washington ...</td>\n",
       "      <td>47.46</td>\n",
       "      <td>-122.19</td>\n",
       "    </tr>\n",
       "    <tr>\n",
       "      <th>8910500230</th>\n",
       "      <td>12/13/2021</td>\n",
       "      <td>920000.00</td>\n",
       "      <td>5</td>\n",
       "      <td>2.50</td>\n",
       "      <td>2770</td>\n",
       "      <td>6703</td>\n",
       "      <td>1.00</td>\n",
       "      <td>NO</td>\n",
       "      <td>NO</td>\n",
       "      <td>YES</td>\n",
       "      <td>...</td>\n",
       "      <td>PUBLIC</td>\n",
       "      <td>1570</td>\n",
       "      <td>1570</td>\n",
       "      <td>0</td>\n",
       "      <td>240</td>\n",
       "      <td>1950</td>\n",
       "      <td>0</td>\n",
       "      <td>11231 Greenwood Avenue North, Seattle, Washing...</td>\n",
       "      <td>47.71</td>\n",
       "      <td>-122.36</td>\n",
       "    </tr>\n",
       "    <tr>\n",
       "      <th>1180000275</th>\n",
       "      <td>9/29/2021</td>\n",
       "      <td>311000.00</td>\n",
       "      <td>6</td>\n",
       "      <td>2.00</td>\n",
       "      <td>2880</td>\n",
       "      <td>6156</td>\n",
       "      <td>1.00</td>\n",
       "      <td>NO</td>\n",
       "      <td>NO</td>\n",
       "      <td>NO</td>\n",
       "      <td>...</td>\n",
       "      <td>PUBLIC</td>\n",
       "      <td>1580</td>\n",
       "      <td>1580</td>\n",
       "      <td>0</td>\n",
       "      <td>0</td>\n",
       "      <td>1956</td>\n",
       "      <td>0</td>\n",
       "      <td>8504 South 113th Street, Seattle, Washington 9...</td>\n",
       "      <td>47.50</td>\n",
       "      <td>-122.23</td>\n",
       "    </tr>\n",
       "    <tr>\n",
       "      <th>1604601802</th>\n",
       "      <td>12/14/2021</td>\n",
       "      <td>775000.00</td>\n",
       "      <td>3</td>\n",
       "      <td>3.00</td>\n",
       "      <td>2160</td>\n",
       "      <td>1400</td>\n",
       "      <td>2.00</td>\n",
       "      <td>NO</td>\n",
       "      <td>NO</td>\n",
       "      <td>NO</td>\n",
       "      <td>...</td>\n",
       "      <td>PUBLIC</td>\n",
       "      <td>1090</td>\n",
       "      <td>1070</td>\n",
       "      <td>200</td>\n",
       "      <td>270</td>\n",
       "      <td>2010</td>\n",
       "      <td>0</td>\n",
       "      <td>4079 Letitia Avenue South, Seattle, Washington...</td>\n",
       "      <td>47.57</td>\n",
       "      <td>-122.29</td>\n",
       "    </tr>\n",
       "    <tr>\n",
       "      <th>8562780790</th>\n",
       "      <td>8/24/2021</td>\n",
       "      <td>592500.00</td>\n",
       "      <td>2</td>\n",
       "      <td>2.00</td>\n",
       "      <td>1120</td>\n",
       "      <td>758</td>\n",
       "      <td>2.00</td>\n",
       "      <td>NO</td>\n",
       "      <td>NO</td>\n",
       "      <td>YES</td>\n",
       "      <td>...</td>\n",
       "      <td>PUBLIC</td>\n",
       "      <td>1120</td>\n",
       "      <td>550</td>\n",
       "      <td>550</td>\n",
       "      <td>30</td>\n",
       "      <td>2012</td>\n",
       "      <td>0</td>\n",
       "      <td>2193 Northwest Talus Drive, Issaquah, Washingt...</td>\n",
       "      <td>47.53</td>\n",
       "      <td>-122.07</td>\n",
       "    </tr>\n",
       "  </tbody>\n",
       "</table>\n",
       "<p>5 rows × 24 columns</p>\n",
       "</div>"
      ],
      "text/plain": [
       "                  date     price  bedrooms  bathrooms  sqft_living  sqft_lot  \\\n",
       "id                                                                             \n",
       "7399300360   5/24/2022 675000.00         4       1.00         1180      7140   \n",
       "8910500230  12/13/2021 920000.00         5       2.50         2770      6703   \n",
       "1180000275   9/29/2021 311000.00         6       2.00         2880      6156   \n",
       "1604601802  12/14/2021 775000.00         3       3.00         2160      1400   \n",
       "8562780790   8/24/2021 592500.00         2       2.00         1120       758   \n",
       "\n",
       "            floors waterfront greenbelt nuisance  ... sewer_system sqft_above  \\\n",
       "id                                                ...                           \n",
       "7399300360    1.00         NO        NO       NO  ...       PUBLIC       1180   \n",
       "8910500230    1.00         NO        NO      YES  ...       PUBLIC       1570   \n",
       "1180000275    1.00         NO        NO       NO  ...       PUBLIC       1580   \n",
       "1604601802    2.00         NO        NO       NO  ...       PUBLIC       1090   \n",
       "8562780790    2.00         NO        NO      YES  ...       PUBLIC       1120   \n",
       "\n",
       "           sqft_basement sqft_garage sqft_patio  yr_built  yr_renovated  \\\n",
       "id                                                                        \n",
       "7399300360             0           0         40      1969             0   \n",
       "8910500230          1570           0        240      1950             0   \n",
       "1180000275          1580           0          0      1956             0   \n",
       "1604601802          1070         200        270      2010             0   \n",
       "8562780790           550         550         30      2012             0   \n",
       "\n",
       "                                                      address   lat    long  \n",
       "id                                                                           \n",
       "7399300360  2102 Southeast 21st Court, Renton, Washington ... 47.46 -122.19  \n",
       "8910500230  11231 Greenwood Avenue North, Seattle, Washing... 47.71 -122.36  \n",
       "1180000275  8504 South 113th Street, Seattle, Washington 9... 47.50 -122.23  \n",
       "1604601802  4079 Letitia Avenue South, Seattle, Washington... 47.57 -122.29  \n",
       "8562780790  2193 Northwest Talus Drive, Issaquah, Washingt... 47.53 -122.07  \n",
       "\n",
       "[5 rows x 24 columns]"
      ]
     },
     "execution_count": 155,
     "metadata": {},
     "output_type": "execute_result"
    }
   ],
   "source": [
    "data.head()"
   ]
  },
  {
   "cell_type": "code",
   "execution_count": 156,
   "metadata": {
    "index": 33,
    "scrolled": true
   },
   "outputs": [
    {
     "name": "stdout",
     "output_type": "stream",
     "text": [
      "<class 'pandas.core.frame.DataFrame'>\n",
      "Int64Index: 30155 entries, 7399300360 to 9557800100\n",
      "Data columns (total 24 columns):\n",
      " #   Column         Non-Null Count  Dtype  \n",
      "---  ------         --------------  -----  \n",
      " 0   date           30155 non-null  object \n",
      " 1   price          30155 non-null  float64\n",
      " 2   bedrooms       30155 non-null  int64  \n",
      " 3   bathrooms      30155 non-null  float64\n",
      " 4   sqft_living    30155 non-null  int64  \n",
      " 5   sqft_lot       30155 non-null  int64  \n",
      " 6   floors         30155 non-null  float64\n",
      " 7   waterfront     30155 non-null  object \n",
      " 8   greenbelt      30155 non-null  object \n",
      " 9   nuisance       30155 non-null  object \n",
      " 10  view           30155 non-null  object \n",
      " 11  condition      30155 non-null  object \n",
      " 12  grade          30155 non-null  object \n",
      " 13  heat_source    30123 non-null  object \n",
      " 14  sewer_system   30141 non-null  object \n",
      " 15  sqft_above     30155 non-null  int64  \n",
      " 16  sqft_basement  30155 non-null  int64  \n",
      " 17  sqft_garage    30155 non-null  int64  \n",
      " 18  sqft_patio     30155 non-null  int64  \n",
      " 19  yr_built       30155 non-null  int64  \n",
      " 20  yr_renovated   30155 non-null  int64  \n",
      " 21  address        30155 non-null  object \n",
      " 22  lat            30155 non-null  float64\n",
      " 23  long           30155 non-null  float64\n",
      "dtypes: float64(5), int64(9), object(10)\n",
      "memory usage: 5.8+ MB\n"
     ]
    }
   ],
   "source": [
    "data.info()"
   ]
  },
  {
   "cell_type": "markdown",
   "metadata": {},
   "source": [
    "It looks like heat_source and sewer_system are the only two categories are that are short on data points.\n",
    "The other columns are fully stocked. "
   ]
  },
  {
   "cell_type": "code",
   "execution_count": 157,
   "metadata": {
    "scrolled": false
   },
   "outputs": [
    {
     "data": {
      "text/plain": [
       "Gas                  20583\n",
       "Electricity           6465\n",
       "Oil                   2899\n",
       "Gas/Solar               93\n",
       "Electricity/Solar       59\n",
       "Other                   20\n",
       "Oil/Solar                4\n",
       "Name: heat_source, dtype: int64"
      ]
     },
     "execution_count": 157,
     "metadata": {},
     "output_type": "execute_result"
    }
   ],
   "source": [
    "data.heat_source.value_counts()"
   ]
  },
  {
   "cell_type": "code",
   "execution_count": 158,
   "metadata": {},
   "outputs": [
    {
     "data": {
      "text/plain": [
       "PUBLIC                25777\n",
       "PRIVATE                4355\n",
       "PRIVATE RESTRICTED        6\n",
       "PUBLIC RESTRICTED         3\n",
       "Name: sewer_system, dtype: int64"
      ]
     },
     "execution_count": 158,
     "metadata": {},
     "output_type": "execute_result"
    }
   ],
   "source": [
    "data.sewer_system.value_counts()"
   ]
  },
  {
   "cell_type": "markdown",
   "metadata": {},
   "source": [
    "Now lets see what the other columns have in them. We know though that `date`, `price`, `sqft_living`, `sqft_lot`, `sqft_above`, `sqft_basement`, `sqft_patio` are pretty much continuous data. `address`, `lat`, and `long` are geolocation data which we won't be dealing with and will be dropping. "
   ]
  },
  {
   "cell_type": "code",
   "execution_count": 159,
   "metadata": {},
   "outputs": [
    {
     "data": {
      "text/plain": [
       "3     12754\n",
       "4      9597\n",
       "2      3936\n",
       "5      2798\n",
       "6       498\n",
       "1       391\n",
       "7        80\n",
       "0        44\n",
       "8        38\n",
       "9        14\n",
       "10        3\n",
       "11        1\n",
       "13        1\n",
       "Name: bedrooms, dtype: int64"
      ]
     },
     "execution_count": 159,
     "metadata": {},
     "output_type": "execute_result"
    }
   ],
   "source": [
    "data.bedrooms.value_counts()"
   ]
  },
  {
   "cell_type": "markdown",
   "metadata": {},
   "source": [
    "`bedrooms` is discrete data.  I think I will drop the 0 bedroom rows since we're supposed to be working with actual houses, and the 0 bedrooms are hopefully errors due to someone not putting in the right number on a form. I am impressed with the 13 bedroom house though, but we need to see later if the larger bedroom houses act as outliers in our dataset. "
   ]
  },
  {
   "cell_type": "code",
   "execution_count": 160,
   "metadata": {},
   "outputs": [
    {
     "data": {
      "text/plain": [
       "2.50     8475\n",
       "2.00     7349\n",
       "1.00     4576\n",
       "3.00     4117\n",
       "3.50     2266\n",
       "1.50     1808\n",
       "4.00      645\n",
       "4.50      533\n",
       "5.00      145\n",
       "5.50      104\n",
       "6.00       45\n",
       "0.00       31\n",
       "6.50       25\n",
       "7.00       12\n",
       "7.50       12\n",
       "0.50        5\n",
       "9.50        2\n",
       "8.00        2\n",
       "10.50       1\n",
       "10.00       1\n",
       "8.50        1\n",
       "Name: bathrooms, dtype: int64"
      ]
     },
     "execution_count": 160,
     "metadata": {},
     "output_type": "execute_result"
    }
   ],
   "source": [
    "data.bathrooms.value_counts()"
   ]
  },
  {
   "cell_type": "markdown",
   "metadata": {},
   "source": [
    "Wayyyyy to many bathrooms, though I'd appreciate one with 4. :> Another column with discrete data. I will remove the houses with 0 bathrooms. I will keep the 0.5 bathroom for now, but this is another column that may get trimmed to remove exreme outliers. Some may consider bathrooms catagorical, but it depends on how you count half baths and 3/4ths baths. "
   ]
  },
  {
   "cell_type": "code",
   "execution_count": 161,
   "metadata": {},
   "outputs": [
    {
     "data": {
      "text/plain": [
       "1.00    13962\n",
       "2.00    12265\n",
       "1.50     2439\n",
       "3.00     1222\n",
       "2.50      222\n",
       "4.00       30\n",
       "3.50       15\n",
       "Name: floors, dtype: int64"
      ]
     },
     "execution_count": 161,
     "metadata": {},
     "output_type": "execute_result"
    }
   ],
   "source": [
    "data.floors.value_counts()"
   ]
  },
  {
   "cell_type": "markdown",
   "metadata": {},
   "source": [
    "Discrete data again, if we use this column we may have to trim for outliers."
   ]
  },
  {
   "cell_type": "code",
   "execution_count": 162,
   "metadata": {},
   "outputs": [
    {
     "data": {
      "text/plain": [
       "NO     29636\n",
       "YES      519\n",
       "Name: waterfront, dtype: int64"
      ]
     },
     "execution_count": 162,
     "metadata": {},
     "output_type": "execute_result"
    }
   ],
   "source": [
    "data.waterfront.value_counts()"
   ]
  },
  {
   "cell_type": "markdown",
   "metadata": {},
   "source": [
    "Catagorical data."
   ]
  },
  {
   "cell_type": "code",
   "execution_count": 163,
   "metadata": {},
   "outputs": [
    {
     "data": {
      "text/plain": [
       "NO     29382\n",
       "YES      773\n",
       "Name: greenbelt, dtype: int64"
      ]
     },
     "execution_count": 163,
     "metadata": {},
     "output_type": "execute_result"
    }
   ],
   "source": [
    "data.greenbelt.value_counts()"
   ]
  },
  {
   "cell_type": "markdown",
   "metadata": {},
   "source": [
    "Catagorical data."
   ]
  },
  {
   "cell_type": "code",
   "execution_count": 164,
   "metadata": {},
   "outputs": [
    {
     "data": {
      "text/plain": [
       "NO     24893\n",
       "YES     5262\n",
       "Name: nuisance, dtype: int64"
      ]
     },
     "execution_count": 164,
     "metadata": {},
     "output_type": "execute_result"
    }
   ],
   "source": [
    "data.nuisance.value_counts()"
   ]
  },
  {
   "cell_type": "markdown",
   "metadata": {},
   "source": [
    "Catagorical Data."
   ]
  },
  {
   "cell_type": "code",
   "execution_count": 165,
   "metadata": {},
   "outputs": [
    {
     "data": {
      "text/plain": [
       "NONE         26589\n",
       "AVERAGE       1915\n",
       "GOOD           878\n",
       "EXCELLENT      553\n",
       "FAIR           220\n",
       "Name: view, dtype: int64"
      ]
     },
     "execution_count": 165,
     "metadata": {},
     "output_type": "execute_result"
    }
   ],
   "source": [
    "data.view.value_counts()"
   ]
  },
  {
   "cell_type": "markdown",
   "metadata": {},
   "source": [
    "Catagorical Data."
   ]
  },
  {
   "cell_type": "code",
   "execution_count": 166,
   "metadata": {},
   "outputs": [
    {
     "data": {
      "text/plain": [
       "Average      18547\n",
       "Good          8054\n",
       "Very Good     3259\n",
       "Fair           230\n",
       "Poor            65\n",
       "Name: condition, dtype: int64"
      ]
     },
     "execution_count": 166,
     "metadata": {},
     "output_type": "execute_result"
    }
   ],
   "source": [
    "data.condition.value_counts()"
   ]
  },
  {
   "cell_type": "markdown",
   "metadata": {},
   "source": [
    "Catagorical Data."
   ]
  },
  {
   "cell_type": "code",
   "execution_count": 167,
   "metadata": {},
   "outputs": [
    {
     "data": {
      "text/plain": [
       "7 Average        11697\n",
       "8 Good            9410\n",
       "9 Better          3806\n",
       "6 Low Average     2858\n",
       "10 Very Good      1371\n",
       "11 Excellent       406\n",
       "5 Fair             393\n",
       "12 Luxury          122\n",
       "4 Low               51\n",
       "13 Mansion          24\n",
       "3 Poor              13\n",
       "1 Cabin              2\n",
       "2 Substandard        2\n",
       "Name: grade, dtype: int64"
      ]
     },
     "execution_count": 167,
     "metadata": {},
     "output_type": "execute_result"
    }
   ],
   "source": [
    "data.grade.value_counts()"
   ]
  },
  {
   "cell_type": "markdown",
   "metadata": {},
   "source": [
    "Catagorical."
   ]
  },
  {
   "cell_type": "code",
   "execution_count": 168,
   "metadata": {},
   "outputs": [
    {
     "data": {
      "text/plain": [
       "2021    1707\n",
       "1968     516\n",
       "2020     507\n",
       "1978     493\n",
       "1977     484\n",
       "        ... \n",
       "1901      39\n",
       "1935      39\n",
       "1934      38\n",
       "1902      36\n",
       "1933      30\n",
       "Name: yr_built, Length: 123, dtype: int64"
      ]
     },
     "execution_count": 168,
     "metadata": {},
     "output_type": "execute_result"
    }
   ],
   "source": [
    "data.yr_built.value_counts()"
   ]
  },
  {
   "cell_type": "markdown",
   "metadata": {},
   "source": [
    "Discrete data."
   ]
  },
  {
   "cell_type": "code",
   "execution_count": 169,
   "metadata": {
    "scrolled": true
   },
   "outputs": [
    {
     "data": {
      "text/plain": [
       "0       28783\n",
       "2021       69\n",
       "2006       49\n",
       "2018       44\n",
       "1990       42\n",
       "        ...  \n",
       "1942        1\n",
       "1951        1\n",
       "1948        1\n",
       "1972        1\n",
       "1924        1\n",
       "Name: yr_renovated, Length: 83, dtype: int64"
      ]
     },
     "execution_count": 169,
     "metadata": {},
     "output_type": "execute_result"
    }
   ],
   "source": [
    "data.yr_renovated.value_counts()"
   ]
  },
  {
   "cell_type": "markdown",
   "metadata": {},
   "source": [
    "Discrete data."
   ]
  },
  {
   "cell_type": "markdown",
   "metadata": {},
   "source": [
    "Creating a `sale_year` column."
   ]
  },
  {
   "cell_type": "code",
   "execution_count": 170,
   "metadata": {
    "scrolled": true
   },
   "outputs": [
    {
     "data": {
      "text/html": [
       "<div>\n",
       "<style scoped>\n",
       "    .dataframe tbody tr th:only-of-type {\n",
       "        vertical-align: middle;\n",
       "    }\n",
       "\n",
       "    .dataframe tbody tr th {\n",
       "        vertical-align: top;\n",
       "    }\n",
       "\n",
       "    .dataframe thead th {\n",
       "        text-align: right;\n",
       "    }\n",
       "</style>\n",
       "<table border=\"1\" class=\"dataframe\">\n",
       "  <thead>\n",
       "    <tr style=\"text-align: right;\">\n",
       "      <th></th>\n",
       "      <th>date</th>\n",
       "      <th>price</th>\n",
       "      <th>bedrooms</th>\n",
       "      <th>bathrooms</th>\n",
       "      <th>sqft_living</th>\n",
       "      <th>sqft_lot</th>\n",
       "      <th>floors</th>\n",
       "      <th>waterfront</th>\n",
       "      <th>greenbelt</th>\n",
       "      <th>nuisance</th>\n",
       "      <th>...</th>\n",
       "      <th>sqft_above</th>\n",
       "      <th>sqft_basement</th>\n",
       "      <th>sqft_garage</th>\n",
       "      <th>sqft_patio</th>\n",
       "      <th>yr_built</th>\n",
       "      <th>yr_renovated</th>\n",
       "      <th>address</th>\n",
       "      <th>lat</th>\n",
       "      <th>long</th>\n",
       "      <th>sale_year</th>\n",
       "    </tr>\n",
       "    <tr>\n",
       "      <th>id</th>\n",
       "      <th></th>\n",
       "      <th></th>\n",
       "      <th></th>\n",
       "      <th></th>\n",
       "      <th></th>\n",
       "      <th></th>\n",
       "      <th></th>\n",
       "      <th></th>\n",
       "      <th></th>\n",
       "      <th></th>\n",
       "      <th></th>\n",
       "      <th></th>\n",
       "      <th></th>\n",
       "      <th></th>\n",
       "      <th></th>\n",
       "      <th></th>\n",
       "      <th></th>\n",
       "      <th></th>\n",
       "      <th></th>\n",
       "      <th></th>\n",
       "      <th></th>\n",
       "    </tr>\n",
       "  </thead>\n",
       "  <tbody>\n",
       "    <tr>\n",
       "      <th>7399300360</th>\n",
       "      <td>5/24/2022</td>\n",
       "      <td>675000.00</td>\n",
       "      <td>4</td>\n",
       "      <td>1.00</td>\n",
       "      <td>1180</td>\n",
       "      <td>7140</td>\n",
       "      <td>1.00</td>\n",
       "      <td>NO</td>\n",
       "      <td>NO</td>\n",
       "      <td>NO</td>\n",
       "      <td>...</td>\n",
       "      <td>1180</td>\n",
       "      <td>0</td>\n",
       "      <td>0</td>\n",
       "      <td>40</td>\n",
       "      <td>1969</td>\n",
       "      <td>0</td>\n",
       "      <td>2102 Southeast 21st Court, Renton, Washington ...</td>\n",
       "      <td>47.46</td>\n",
       "      <td>-122.19</td>\n",
       "      <td>2022</td>\n",
       "    </tr>\n",
       "    <tr>\n",
       "      <th>8910500230</th>\n",
       "      <td>12/13/2021</td>\n",
       "      <td>920000.00</td>\n",
       "      <td>5</td>\n",
       "      <td>2.50</td>\n",
       "      <td>2770</td>\n",
       "      <td>6703</td>\n",
       "      <td>1.00</td>\n",
       "      <td>NO</td>\n",
       "      <td>NO</td>\n",
       "      <td>YES</td>\n",
       "      <td>...</td>\n",
       "      <td>1570</td>\n",
       "      <td>1570</td>\n",
       "      <td>0</td>\n",
       "      <td>240</td>\n",
       "      <td>1950</td>\n",
       "      <td>0</td>\n",
       "      <td>11231 Greenwood Avenue North, Seattle, Washing...</td>\n",
       "      <td>47.71</td>\n",
       "      <td>-122.36</td>\n",
       "      <td>2021</td>\n",
       "    </tr>\n",
       "    <tr>\n",
       "      <th>1180000275</th>\n",
       "      <td>9/29/2021</td>\n",
       "      <td>311000.00</td>\n",
       "      <td>6</td>\n",
       "      <td>2.00</td>\n",
       "      <td>2880</td>\n",
       "      <td>6156</td>\n",
       "      <td>1.00</td>\n",
       "      <td>NO</td>\n",
       "      <td>NO</td>\n",
       "      <td>NO</td>\n",
       "      <td>...</td>\n",
       "      <td>1580</td>\n",
       "      <td>1580</td>\n",
       "      <td>0</td>\n",
       "      <td>0</td>\n",
       "      <td>1956</td>\n",
       "      <td>0</td>\n",
       "      <td>8504 South 113th Street, Seattle, Washington 9...</td>\n",
       "      <td>47.50</td>\n",
       "      <td>-122.23</td>\n",
       "      <td>2021</td>\n",
       "    </tr>\n",
       "    <tr>\n",
       "      <th>1604601802</th>\n",
       "      <td>12/14/2021</td>\n",
       "      <td>775000.00</td>\n",
       "      <td>3</td>\n",
       "      <td>3.00</td>\n",
       "      <td>2160</td>\n",
       "      <td>1400</td>\n",
       "      <td>2.00</td>\n",
       "      <td>NO</td>\n",
       "      <td>NO</td>\n",
       "      <td>NO</td>\n",
       "      <td>...</td>\n",
       "      <td>1090</td>\n",
       "      <td>1070</td>\n",
       "      <td>200</td>\n",
       "      <td>270</td>\n",
       "      <td>2010</td>\n",
       "      <td>0</td>\n",
       "      <td>4079 Letitia Avenue South, Seattle, Washington...</td>\n",
       "      <td>47.57</td>\n",
       "      <td>-122.29</td>\n",
       "      <td>2021</td>\n",
       "    </tr>\n",
       "    <tr>\n",
       "      <th>8562780790</th>\n",
       "      <td>8/24/2021</td>\n",
       "      <td>592500.00</td>\n",
       "      <td>2</td>\n",
       "      <td>2.00</td>\n",
       "      <td>1120</td>\n",
       "      <td>758</td>\n",
       "      <td>2.00</td>\n",
       "      <td>NO</td>\n",
       "      <td>NO</td>\n",
       "      <td>YES</td>\n",
       "      <td>...</td>\n",
       "      <td>1120</td>\n",
       "      <td>550</td>\n",
       "      <td>550</td>\n",
       "      <td>30</td>\n",
       "      <td>2012</td>\n",
       "      <td>0</td>\n",
       "      <td>2193 Northwest Talus Drive, Issaquah, Washingt...</td>\n",
       "      <td>47.53</td>\n",
       "      <td>-122.07</td>\n",
       "      <td>2021</td>\n",
       "    </tr>\n",
       "  </tbody>\n",
       "</table>\n",
       "<p>5 rows × 25 columns</p>\n",
       "</div>"
      ],
      "text/plain": [
       "                  date     price  bedrooms  bathrooms  sqft_living  sqft_lot  \\\n",
       "id                                                                             \n",
       "7399300360   5/24/2022 675000.00         4       1.00         1180      7140   \n",
       "8910500230  12/13/2021 920000.00         5       2.50         2770      6703   \n",
       "1180000275   9/29/2021 311000.00         6       2.00         2880      6156   \n",
       "1604601802  12/14/2021 775000.00         3       3.00         2160      1400   \n",
       "8562780790   8/24/2021 592500.00         2       2.00         1120       758   \n",
       "\n",
       "            floors waterfront greenbelt nuisance  ... sqft_above  \\\n",
       "id                                                ...              \n",
       "7399300360    1.00         NO        NO       NO  ...       1180   \n",
       "8910500230    1.00         NO        NO      YES  ...       1570   \n",
       "1180000275    1.00         NO        NO       NO  ...       1580   \n",
       "1604601802    2.00         NO        NO       NO  ...       1090   \n",
       "8562780790    2.00         NO        NO      YES  ...       1120   \n",
       "\n",
       "           sqft_basement sqft_garage sqft_patio yr_built  yr_renovated  \\\n",
       "id                                                                       \n",
       "7399300360             0           0         40     1969             0   \n",
       "8910500230          1570           0        240     1950             0   \n",
       "1180000275          1580           0          0     1956             0   \n",
       "1604601802          1070         200        270     2010             0   \n",
       "8562780790           550         550         30     2012             0   \n",
       "\n",
       "                                                      address   lat    long  \\\n",
       "id                                                                            \n",
       "7399300360  2102 Southeast 21st Court, Renton, Washington ... 47.46 -122.19   \n",
       "8910500230  11231 Greenwood Avenue North, Seattle, Washing... 47.71 -122.36   \n",
       "1180000275  8504 South 113th Street, Seattle, Washington 9... 47.50 -122.23   \n",
       "1604601802  4079 Letitia Avenue South, Seattle, Washington... 47.57 -122.29   \n",
       "8562780790  2193 Northwest Talus Drive, Issaquah, Washingt... 47.53 -122.07   \n",
       "\n",
       "            sale_year  \n",
       "id                     \n",
       "7399300360       2022  \n",
       "8910500230       2021  \n",
       "1180000275       2021  \n",
       "1604601802       2021  \n",
       "8562780790       2021  \n",
       "\n",
       "[5 rows x 25 columns]"
      ]
     },
     "execution_count": 170,
     "metadata": {},
     "output_type": "execute_result"
    }
   ],
   "source": [
    "data['sale_year'] = data.date.map(lambda x: x[-4:])\n",
    "data.head()"
   ]
  },
  {
   "cell_type": "code",
   "execution_count": 171,
   "metadata": {},
   "outputs": [
    {
     "data": {
      "text/plain": [
       "2021    19293\n",
       "2022    10862\n",
       "Name: sale_year, dtype: int64"
      ]
     },
     "execution_count": 171,
     "metadata": {},
     "output_type": "execute_result"
    }
   ],
   "source": [
    "data.sale_year.value_counts()"
   ]
  },
  {
   "cell_type": "markdown",
   "metadata": {},
   "source": [
    "### Data Cleaning"
   ]
  },
  {
   "cell_type": "markdown",
   "metadata": {},
   "source": [
    "Dropping the `address`, `long`, and `lat` columns, we won't be dealing with location variables to save what's left of my sanity (most got left behind at the taco house). "
   ]
  },
  {
   "cell_type": "code",
   "execution_count": 172,
   "metadata": {},
   "outputs": [],
   "source": [
    "data_clean = data.drop(columns=['address', 'long', 'lat'])"
   ]
  },
  {
   "cell_type": "code",
   "execution_count": 173,
   "metadata": {},
   "outputs": [
    {
     "data": {
      "text/html": [
       "<div>\n",
       "<style scoped>\n",
       "    .dataframe tbody tr th:only-of-type {\n",
       "        vertical-align: middle;\n",
       "    }\n",
       "\n",
       "    .dataframe tbody tr th {\n",
       "        vertical-align: top;\n",
       "    }\n",
       "\n",
       "    .dataframe thead th {\n",
       "        text-align: right;\n",
       "    }\n",
       "</style>\n",
       "<table border=\"1\" class=\"dataframe\">\n",
       "  <thead>\n",
       "    <tr style=\"text-align: right;\">\n",
       "      <th></th>\n",
       "      <th>date</th>\n",
       "      <th>price</th>\n",
       "      <th>bedrooms</th>\n",
       "      <th>bathrooms</th>\n",
       "      <th>sqft_living</th>\n",
       "      <th>sqft_lot</th>\n",
       "      <th>floors</th>\n",
       "      <th>waterfront</th>\n",
       "      <th>greenbelt</th>\n",
       "      <th>nuisance</th>\n",
       "      <th>...</th>\n",
       "      <th>grade</th>\n",
       "      <th>heat_source</th>\n",
       "      <th>sewer_system</th>\n",
       "      <th>sqft_above</th>\n",
       "      <th>sqft_basement</th>\n",
       "      <th>sqft_garage</th>\n",
       "      <th>sqft_patio</th>\n",
       "      <th>yr_built</th>\n",
       "      <th>yr_renovated</th>\n",
       "      <th>sale_year</th>\n",
       "    </tr>\n",
       "    <tr>\n",
       "      <th>id</th>\n",
       "      <th></th>\n",
       "      <th></th>\n",
       "      <th></th>\n",
       "      <th></th>\n",
       "      <th></th>\n",
       "      <th></th>\n",
       "      <th></th>\n",
       "      <th></th>\n",
       "      <th></th>\n",
       "      <th></th>\n",
       "      <th></th>\n",
       "      <th></th>\n",
       "      <th></th>\n",
       "      <th></th>\n",
       "      <th></th>\n",
       "      <th></th>\n",
       "      <th></th>\n",
       "      <th></th>\n",
       "      <th></th>\n",
       "      <th></th>\n",
       "      <th></th>\n",
       "    </tr>\n",
       "  </thead>\n",
       "  <tbody>\n",
       "    <tr>\n",
       "      <th>7399300360</th>\n",
       "      <td>5/24/2022</td>\n",
       "      <td>675000.00</td>\n",
       "      <td>4</td>\n",
       "      <td>1.00</td>\n",
       "      <td>1180</td>\n",
       "      <td>7140</td>\n",
       "      <td>1.00</td>\n",
       "      <td>NO</td>\n",
       "      <td>NO</td>\n",
       "      <td>NO</td>\n",
       "      <td>...</td>\n",
       "      <td>7 Average</td>\n",
       "      <td>Gas</td>\n",
       "      <td>PUBLIC</td>\n",
       "      <td>1180</td>\n",
       "      <td>0</td>\n",
       "      <td>0</td>\n",
       "      <td>40</td>\n",
       "      <td>1969</td>\n",
       "      <td>0</td>\n",
       "      <td>2022</td>\n",
       "    </tr>\n",
       "    <tr>\n",
       "      <th>8910500230</th>\n",
       "      <td>12/13/2021</td>\n",
       "      <td>920000.00</td>\n",
       "      <td>5</td>\n",
       "      <td>2.50</td>\n",
       "      <td>2770</td>\n",
       "      <td>6703</td>\n",
       "      <td>1.00</td>\n",
       "      <td>NO</td>\n",
       "      <td>NO</td>\n",
       "      <td>YES</td>\n",
       "      <td>...</td>\n",
       "      <td>7 Average</td>\n",
       "      <td>Oil</td>\n",
       "      <td>PUBLIC</td>\n",
       "      <td>1570</td>\n",
       "      <td>1570</td>\n",
       "      <td>0</td>\n",
       "      <td>240</td>\n",
       "      <td>1950</td>\n",
       "      <td>0</td>\n",
       "      <td>2021</td>\n",
       "    </tr>\n",
       "    <tr>\n",
       "      <th>1180000275</th>\n",
       "      <td>9/29/2021</td>\n",
       "      <td>311000.00</td>\n",
       "      <td>6</td>\n",
       "      <td>2.00</td>\n",
       "      <td>2880</td>\n",
       "      <td>6156</td>\n",
       "      <td>1.00</td>\n",
       "      <td>NO</td>\n",
       "      <td>NO</td>\n",
       "      <td>NO</td>\n",
       "      <td>...</td>\n",
       "      <td>7 Average</td>\n",
       "      <td>Gas</td>\n",
       "      <td>PUBLIC</td>\n",
       "      <td>1580</td>\n",
       "      <td>1580</td>\n",
       "      <td>0</td>\n",
       "      <td>0</td>\n",
       "      <td>1956</td>\n",
       "      <td>0</td>\n",
       "      <td>2021</td>\n",
       "    </tr>\n",
       "    <tr>\n",
       "      <th>1604601802</th>\n",
       "      <td>12/14/2021</td>\n",
       "      <td>775000.00</td>\n",
       "      <td>3</td>\n",
       "      <td>3.00</td>\n",
       "      <td>2160</td>\n",
       "      <td>1400</td>\n",
       "      <td>2.00</td>\n",
       "      <td>NO</td>\n",
       "      <td>NO</td>\n",
       "      <td>NO</td>\n",
       "      <td>...</td>\n",
       "      <td>9 Better</td>\n",
       "      <td>Gas</td>\n",
       "      <td>PUBLIC</td>\n",
       "      <td>1090</td>\n",
       "      <td>1070</td>\n",
       "      <td>200</td>\n",
       "      <td>270</td>\n",
       "      <td>2010</td>\n",
       "      <td>0</td>\n",
       "      <td>2021</td>\n",
       "    </tr>\n",
       "    <tr>\n",
       "      <th>8562780790</th>\n",
       "      <td>8/24/2021</td>\n",
       "      <td>592500.00</td>\n",
       "      <td>2</td>\n",
       "      <td>2.00</td>\n",
       "      <td>1120</td>\n",
       "      <td>758</td>\n",
       "      <td>2.00</td>\n",
       "      <td>NO</td>\n",
       "      <td>NO</td>\n",
       "      <td>YES</td>\n",
       "      <td>...</td>\n",
       "      <td>7 Average</td>\n",
       "      <td>Electricity</td>\n",
       "      <td>PUBLIC</td>\n",
       "      <td>1120</td>\n",
       "      <td>550</td>\n",
       "      <td>550</td>\n",
       "      <td>30</td>\n",
       "      <td>2012</td>\n",
       "      <td>0</td>\n",
       "      <td>2021</td>\n",
       "    </tr>\n",
       "  </tbody>\n",
       "</table>\n",
       "<p>5 rows × 22 columns</p>\n",
       "</div>"
      ],
      "text/plain": [
       "                  date     price  bedrooms  bathrooms  sqft_living  sqft_lot  \\\n",
       "id                                                                             \n",
       "7399300360   5/24/2022 675000.00         4       1.00         1180      7140   \n",
       "8910500230  12/13/2021 920000.00         5       2.50         2770      6703   \n",
       "1180000275   9/29/2021 311000.00         6       2.00         2880      6156   \n",
       "1604601802  12/14/2021 775000.00         3       3.00         2160      1400   \n",
       "8562780790   8/24/2021 592500.00         2       2.00         1120       758   \n",
       "\n",
       "            floors waterfront greenbelt nuisance  ...      grade  heat_source  \\\n",
       "id                                                ...                           \n",
       "7399300360    1.00         NO        NO       NO  ...  7 Average          Gas   \n",
       "8910500230    1.00         NO        NO      YES  ...  7 Average          Oil   \n",
       "1180000275    1.00         NO        NO       NO  ...  7 Average          Gas   \n",
       "1604601802    2.00         NO        NO       NO  ...   9 Better          Gas   \n",
       "8562780790    2.00         NO        NO      YES  ...  7 Average  Electricity   \n",
       "\n",
       "           sewer_system sqft_above sqft_basement  sqft_garage  sqft_patio  \\\n",
       "id                                                                          \n",
       "7399300360       PUBLIC       1180             0            0          40   \n",
       "8910500230       PUBLIC       1570          1570            0         240   \n",
       "1180000275       PUBLIC       1580          1580            0           0   \n",
       "1604601802       PUBLIC       1090          1070          200         270   \n",
       "8562780790       PUBLIC       1120           550          550          30   \n",
       "\n",
       "            yr_built  yr_renovated  sale_year  \n",
       "id                                             \n",
       "7399300360      1969             0       2022  \n",
       "8910500230      1950             0       2021  \n",
       "1180000275      1956             0       2021  \n",
       "1604601802      2010             0       2021  \n",
       "8562780790      2012             0       2021  \n",
       "\n",
       "[5 rows x 22 columns]"
      ]
     },
     "execution_count": 173,
     "metadata": {},
     "output_type": "execute_result"
    }
   ],
   "source": [
    "data_clean.head()"
   ]
  },
  {
   "cell_type": "markdown",
   "metadata": {},
   "source": [
    "Removing the `Id` column."
   ]
  },
  {
   "cell_type": "code",
   "execution_count": 174,
   "metadata": {},
   "outputs": [],
   "source": [
    "data_clean = data_clean.reset_index(drop = True)"
   ]
  },
  {
   "cell_type": "markdown",
   "metadata": {},
   "source": [
    "Dropping the null columns in `heat_source` and `sewer_system`."
   ]
  },
  {
   "cell_type": "code",
   "execution_count": 175,
   "metadata": {},
   "outputs": [],
   "source": [
    "data_clean = data_clean.dropna(subset=['heat_source', 'sewer_system'])"
   ]
  },
  {
   "cell_type": "code",
   "execution_count": 176,
   "metadata": {},
   "outputs": [
    {
     "name": "stdout",
     "output_type": "stream",
     "text": [
      "<class 'pandas.core.frame.DataFrame'>\n",
      "Int64Index: 30111 entries, 0 to 30154\n",
      "Data columns (total 22 columns):\n",
      " #   Column         Non-Null Count  Dtype  \n",
      "---  ------         --------------  -----  \n",
      " 0   date           30111 non-null  object \n",
      " 1   price          30111 non-null  float64\n",
      " 2   bedrooms       30111 non-null  int64  \n",
      " 3   bathrooms      30111 non-null  float64\n",
      " 4   sqft_living    30111 non-null  int64  \n",
      " 5   sqft_lot       30111 non-null  int64  \n",
      " 6   floors         30111 non-null  float64\n",
      " 7   waterfront     30111 non-null  object \n",
      " 8   greenbelt      30111 non-null  object \n",
      " 9   nuisance       30111 non-null  object \n",
      " 10  view           30111 non-null  object \n",
      " 11  condition      30111 non-null  object \n",
      " 12  grade          30111 non-null  object \n",
      " 13  heat_source    30111 non-null  object \n",
      " 14  sewer_system   30111 non-null  object \n",
      " 15  sqft_above     30111 non-null  int64  \n",
      " 16  sqft_basement  30111 non-null  int64  \n",
      " 17  sqft_garage    30111 non-null  int64  \n",
      " 18  sqft_patio     30111 non-null  int64  \n",
      " 19  yr_built       30111 non-null  int64  \n",
      " 20  yr_renovated   30111 non-null  int64  \n",
      " 21  sale_year      30111 non-null  object \n",
      "dtypes: float64(3), int64(9), object(10)\n",
      "memory usage: 5.3+ MB\n"
     ]
    }
   ],
   "source": [
    "data_clean.info()"
   ]
  },
  {
   "cell_type": "markdown",
   "metadata": {},
   "source": [
    "Dropping the 0 bedroom in `bedrooms`."
   ]
  },
  {
   "cell_type": "code",
   "execution_count": 177,
   "metadata": {
    "scrolled": true
   },
   "outputs": [
    {
     "data": {
      "text/plain": [
       "3     12746\n",
       "4      9591\n",
       "2      3925\n",
       "5      2794\n",
       "6       498\n",
       "1       381\n",
       "7        80\n",
       "8        38\n",
       "9        14\n",
       "10        3\n",
       "11        1\n",
       "13        1\n",
       "Name: bedrooms, dtype: int64"
      ]
     },
     "execution_count": 177,
     "metadata": {},
     "output_type": "execute_result"
    }
   ],
   "source": [
    "data_clean.drop(data_clean.index[data_clean['bedrooms'] == 0], inplace=True)\n",
    "\n",
    "data_clean.bedrooms.value_counts()"
   ]
  },
  {
   "cell_type": "markdown",
   "metadata": {},
   "source": [
    "Dropping the 0 bathrooms in `bathrooms`"
   ]
  },
  {
   "cell_type": "code",
   "execution_count": 178,
   "metadata": {},
   "outputs": [
    {
     "data": {
      "text/plain": [
       "2.50     8471\n",
       "2.00     7342\n",
       "1.00     4541\n",
       "3.00     4116\n",
       "3.50     2264\n",
       "1.50     1806\n",
       "4.00      644\n",
       "4.50      531\n",
       "5.00      145\n",
       "5.50      102\n",
       "6.00       45\n",
       "6.50       25\n",
       "7.00       12\n",
       "7.50       12\n",
       "0.50        5\n",
       "9.50        2\n",
       "8.00        2\n",
       "10.50       1\n",
       "10.00       1\n",
       "8.50        1\n",
       "Name: bathrooms, dtype: int64"
      ]
     },
     "execution_count": 178,
     "metadata": {},
     "output_type": "execute_result"
    }
   ],
   "source": [
    "data_clean.drop(data_clean.index[data_clean['bathrooms'] == 0], inplace=True)\n",
    "\n",
    "data_clean.bathrooms.value_counts()"
   ]
  },
  {
   "cell_type": "markdown",
   "metadata": {},
   "source": [
    "Lets adjust the `grade` column to go from 13 groups to 4 groups."
   ]
  },
  {
   "cell_type": "code",
   "execution_count": 179,
   "metadata": {},
   "outputs": [
    {
     "data": {
      "text/plain": [
       "7 Average        11697\n",
       "8 Good            9410\n",
       "9 Better          3806\n",
       "6 Low Average     2858\n",
       "10 Very Good      1371\n",
       "11 Excellent       406\n",
       "5 Fair             393\n",
       "12 Luxury          122\n",
       "4 Low               51\n",
       "13 Mansion          24\n",
       "3 Poor              13\n",
       "1 Cabin              2\n",
       "2 Substandard        2\n",
       "Name: grade, dtype: int64"
      ]
     },
     "execution_count": 179,
     "metadata": {},
     "output_type": "execute_result"
    }
   ],
   "source": [
    "data.grade.value_counts()"
   ]
  },
  {
   "cell_type": "code",
   "execution_count": 180,
   "metadata": {
    "scrolled": true
   },
   "outputs": [],
   "source": [
    "data_clean = data_clean.replace({\n",
    "    'grade': {\n",
    "        '1 Cabin': 'Poor',\n",
    "        '2 Substandard': 'Poor',\n",
    "        '3 Poor': 'Poor',\n",
    "        '4 Low': 'Below Average',\n",
    "        '5 Fair': 'Below Average',\n",
    "        '6 Low Average': 'Below Average',\n",
    "        '7 Average': 'Average',\n",
    "        '8 Good': 'Average',\n",
    "        '9 Better': 'Average',\n",
    "        '10 Very Good': 'Above Average',\n",
    "        '11 Excellent': 'Above Average',\n",
    "        '12 Luxury' : 'Above Average',\n",
    "        '13 Mansion': 'Above Average'\n",
    "      \n",
    "    }\n",
    "}\n",
    ")"
   ]
  },
  {
   "cell_type": "code",
   "execution_count": 181,
   "metadata": {},
   "outputs": [
    {
     "data": {
      "text/plain": [
       "Average          24871\n",
       "Below Average     3271\n",
       "Above Average     1920\n",
       "Poor                 6\n",
       "Name: grade, dtype: int64"
      ]
     },
     "execution_count": 181,
     "metadata": {},
     "output_type": "execute_result"
    }
   ],
   "source": [
    "data_clean.grade.value_counts()"
   ]
  },
  {
   "cell_type": "markdown",
   "metadata": {},
   "source": [
    "# First Model"
   ]
  },
  {
   "cell_type": "markdown",
   "metadata": {},
   "source": [
    "Making a copy of our intial data to work with."
   ]
  },
  {
   "cell_type": "code",
   "execution_count": 182,
   "metadata": {},
   "outputs": [],
   "source": [
    "model_data = data_clean"
   ]
  },
  {
   "cell_type": "code",
   "execution_count": 183,
   "metadata": {},
   "outputs": [
    {
     "data": {
      "text/html": [
       "<div>\n",
       "<style scoped>\n",
       "    .dataframe tbody tr th:only-of-type {\n",
       "        vertical-align: middle;\n",
       "    }\n",
       "\n",
       "    .dataframe tbody tr th {\n",
       "        vertical-align: top;\n",
       "    }\n",
       "\n",
       "    .dataframe thead th {\n",
       "        text-align: right;\n",
       "    }\n",
       "</style>\n",
       "<table border=\"1\" class=\"dataframe\">\n",
       "  <thead>\n",
       "    <tr style=\"text-align: right;\">\n",
       "      <th></th>\n",
       "      <th>date</th>\n",
       "      <th>price</th>\n",
       "      <th>bedrooms</th>\n",
       "      <th>bathrooms</th>\n",
       "      <th>sqft_living</th>\n",
       "      <th>sqft_lot</th>\n",
       "      <th>floors</th>\n",
       "      <th>waterfront</th>\n",
       "      <th>greenbelt</th>\n",
       "      <th>nuisance</th>\n",
       "      <th>...</th>\n",
       "      <th>grade</th>\n",
       "      <th>heat_source</th>\n",
       "      <th>sewer_system</th>\n",
       "      <th>sqft_above</th>\n",
       "      <th>sqft_basement</th>\n",
       "      <th>sqft_garage</th>\n",
       "      <th>sqft_patio</th>\n",
       "      <th>yr_built</th>\n",
       "      <th>yr_renovated</th>\n",
       "      <th>sale_year</th>\n",
       "    </tr>\n",
       "  </thead>\n",
       "  <tbody>\n",
       "    <tr>\n",
       "      <th>0</th>\n",
       "      <td>5/24/2022</td>\n",
       "      <td>675000.00</td>\n",
       "      <td>4</td>\n",
       "      <td>1.00</td>\n",
       "      <td>1180</td>\n",
       "      <td>7140</td>\n",
       "      <td>1.00</td>\n",
       "      <td>NO</td>\n",
       "      <td>NO</td>\n",
       "      <td>NO</td>\n",
       "      <td>...</td>\n",
       "      <td>Average</td>\n",
       "      <td>Gas</td>\n",
       "      <td>PUBLIC</td>\n",
       "      <td>1180</td>\n",
       "      <td>0</td>\n",
       "      <td>0</td>\n",
       "      <td>40</td>\n",
       "      <td>1969</td>\n",
       "      <td>0</td>\n",
       "      <td>2022</td>\n",
       "    </tr>\n",
       "    <tr>\n",
       "      <th>1</th>\n",
       "      <td>12/13/2021</td>\n",
       "      <td>920000.00</td>\n",
       "      <td>5</td>\n",
       "      <td>2.50</td>\n",
       "      <td>2770</td>\n",
       "      <td>6703</td>\n",
       "      <td>1.00</td>\n",
       "      <td>NO</td>\n",
       "      <td>NO</td>\n",
       "      <td>YES</td>\n",
       "      <td>...</td>\n",
       "      <td>Average</td>\n",
       "      <td>Oil</td>\n",
       "      <td>PUBLIC</td>\n",
       "      <td>1570</td>\n",
       "      <td>1570</td>\n",
       "      <td>0</td>\n",
       "      <td>240</td>\n",
       "      <td>1950</td>\n",
       "      <td>0</td>\n",
       "      <td>2021</td>\n",
       "    </tr>\n",
       "    <tr>\n",
       "      <th>2</th>\n",
       "      <td>9/29/2021</td>\n",
       "      <td>311000.00</td>\n",
       "      <td>6</td>\n",
       "      <td>2.00</td>\n",
       "      <td>2880</td>\n",
       "      <td>6156</td>\n",
       "      <td>1.00</td>\n",
       "      <td>NO</td>\n",
       "      <td>NO</td>\n",
       "      <td>NO</td>\n",
       "      <td>...</td>\n",
       "      <td>Average</td>\n",
       "      <td>Gas</td>\n",
       "      <td>PUBLIC</td>\n",
       "      <td>1580</td>\n",
       "      <td>1580</td>\n",
       "      <td>0</td>\n",
       "      <td>0</td>\n",
       "      <td>1956</td>\n",
       "      <td>0</td>\n",
       "      <td>2021</td>\n",
       "    </tr>\n",
       "    <tr>\n",
       "      <th>3</th>\n",
       "      <td>12/14/2021</td>\n",
       "      <td>775000.00</td>\n",
       "      <td>3</td>\n",
       "      <td>3.00</td>\n",
       "      <td>2160</td>\n",
       "      <td>1400</td>\n",
       "      <td>2.00</td>\n",
       "      <td>NO</td>\n",
       "      <td>NO</td>\n",
       "      <td>NO</td>\n",
       "      <td>...</td>\n",
       "      <td>Average</td>\n",
       "      <td>Gas</td>\n",
       "      <td>PUBLIC</td>\n",
       "      <td>1090</td>\n",
       "      <td>1070</td>\n",
       "      <td>200</td>\n",
       "      <td>270</td>\n",
       "      <td>2010</td>\n",
       "      <td>0</td>\n",
       "      <td>2021</td>\n",
       "    </tr>\n",
       "    <tr>\n",
       "      <th>4</th>\n",
       "      <td>8/24/2021</td>\n",
       "      <td>592500.00</td>\n",
       "      <td>2</td>\n",
       "      <td>2.00</td>\n",
       "      <td>1120</td>\n",
       "      <td>758</td>\n",
       "      <td>2.00</td>\n",
       "      <td>NO</td>\n",
       "      <td>NO</td>\n",
       "      <td>YES</td>\n",
       "      <td>...</td>\n",
       "      <td>Average</td>\n",
       "      <td>Electricity</td>\n",
       "      <td>PUBLIC</td>\n",
       "      <td>1120</td>\n",
       "      <td>550</td>\n",
       "      <td>550</td>\n",
       "      <td>30</td>\n",
       "      <td>2012</td>\n",
       "      <td>0</td>\n",
       "      <td>2021</td>\n",
       "    </tr>\n",
       "  </tbody>\n",
       "</table>\n",
       "<p>5 rows × 22 columns</p>\n",
       "</div>"
      ],
      "text/plain": [
       "         date     price  bedrooms  bathrooms  sqft_living  sqft_lot  floors  \\\n",
       "0   5/24/2022 675000.00         4       1.00         1180      7140    1.00   \n",
       "1  12/13/2021 920000.00         5       2.50         2770      6703    1.00   \n",
       "2   9/29/2021 311000.00         6       2.00         2880      6156    1.00   \n",
       "3  12/14/2021 775000.00         3       3.00         2160      1400    2.00   \n",
       "4   8/24/2021 592500.00         2       2.00         1120       758    2.00   \n",
       "\n",
       "  waterfront greenbelt nuisance  ...    grade  heat_source sewer_system  \\\n",
       "0         NO        NO       NO  ...  Average          Gas       PUBLIC   \n",
       "1         NO        NO      YES  ...  Average          Oil       PUBLIC   \n",
       "2         NO        NO       NO  ...  Average          Gas       PUBLIC   \n",
       "3         NO        NO       NO  ...  Average          Gas       PUBLIC   \n",
       "4         NO        NO      YES  ...  Average  Electricity       PUBLIC   \n",
       "\n",
       "  sqft_above sqft_basement  sqft_garage  sqft_patio  yr_built  yr_renovated  \\\n",
       "0       1180             0            0          40      1969             0   \n",
       "1       1570          1570            0         240      1950             0   \n",
       "2       1580          1580            0           0      1956             0   \n",
       "3       1090          1070          200         270      2010             0   \n",
       "4       1120           550          550          30      2012             0   \n",
       "\n",
       "   sale_year  \n",
       "0       2022  \n",
       "1       2021  \n",
       "2       2021  \n",
       "3       2021  \n",
       "4       2021  \n",
       "\n",
       "[5 rows x 22 columns]"
      ]
     },
     "execution_count": 183,
     "metadata": {},
     "output_type": "execute_result"
    }
   ],
   "source": [
    "model_data.head()"
   ]
  },
  {
   "cell_type": "code",
   "execution_count": 184,
   "metadata": {},
   "outputs": [],
   "source": [
    "not_needed = [\"date\", \"waterfront\", \"greenbelt\", \"nuisance\", \"view\", \"condition\", \"heat_source\", \"sewer_system\", \"yr_built\", \"yr_renovated\"]"
   ]
  },
  {
   "cell_type": "code",
   "execution_count": 185,
   "metadata": {},
   "outputs": [],
   "source": [
    "model_clean = data_clean.drop(columns=not_needed)"
   ]
  },
  {
   "cell_type": "code",
   "execution_count": 186,
   "metadata": {},
   "outputs": [
    {
     "data": {
      "text/html": [
       "<div>\n",
       "<style scoped>\n",
       "    .dataframe tbody tr th:only-of-type {\n",
       "        vertical-align: middle;\n",
       "    }\n",
       "\n",
       "    .dataframe tbody tr th {\n",
       "        vertical-align: top;\n",
       "    }\n",
       "\n",
       "    .dataframe thead th {\n",
       "        text-align: right;\n",
       "    }\n",
       "</style>\n",
       "<table border=\"1\" class=\"dataframe\">\n",
       "  <thead>\n",
       "    <tr style=\"text-align: right;\">\n",
       "      <th></th>\n",
       "      <th>price</th>\n",
       "      <th>bedrooms</th>\n",
       "      <th>bathrooms</th>\n",
       "      <th>sqft_living</th>\n",
       "      <th>sqft_lot</th>\n",
       "      <th>floors</th>\n",
       "      <th>grade</th>\n",
       "      <th>sqft_above</th>\n",
       "      <th>sqft_basement</th>\n",
       "      <th>sqft_garage</th>\n",
       "      <th>sqft_patio</th>\n",
       "      <th>sale_year</th>\n",
       "    </tr>\n",
       "  </thead>\n",
       "  <tbody>\n",
       "    <tr>\n",
       "      <th>0</th>\n",
       "      <td>675000.00</td>\n",
       "      <td>4</td>\n",
       "      <td>1.00</td>\n",
       "      <td>1180</td>\n",
       "      <td>7140</td>\n",
       "      <td>1.00</td>\n",
       "      <td>Average</td>\n",
       "      <td>1180</td>\n",
       "      <td>0</td>\n",
       "      <td>0</td>\n",
       "      <td>40</td>\n",
       "      <td>2022</td>\n",
       "    </tr>\n",
       "    <tr>\n",
       "      <th>1</th>\n",
       "      <td>920000.00</td>\n",
       "      <td>5</td>\n",
       "      <td>2.50</td>\n",
       "      <td>2770</td>\n",
       "      <td>6703</td>\n",
       "      <td>1.00</td>\n",
       "      <td>Average</td>\n",
       "      <td>1570</td>\n",
       "      <td>1570</td>\n",
       "      <td>0</td>\n",
       "      <td>240</td>\n",
       "      <td>2021</td>\n",
       "    </tr>\n",
       "    <tr>\n",
       "      <th>2</th>\n",
       "      <td>311000.00</td>\n",
       "      <td>6</td>\n",
       "      <td>2.00</td>\n",
       "      <td>2880</td>\n",
       "      <td>6156</td>\n",
       "      <td>1.00</td>\n",
       "      <td>Average</td>\n",
       "      <td>1580</td>\n",
       "      <td>1580</td>\n",
       "      <td>0</td>\n",
       "      <td>0</td>\n",
       "      <td>2021</td>\n",
       "    </tr>\n",
       "    <tr>\n",
       "      <th>3</th>\n",
       "      <td>775000.00</td>\n",
       "      <td>3</td>\n",
       "      <td>3.00</td>\n",
       "      <td>2160</td>\n",
       "      <td>1400</td>\n",
       "      <td>2.00</td>\n",
       "      <td>Average</td>\n",
       "      <td>1090</td>\n",
       "      <td>1070</td>\n",
       "      <td>200</td>\n",
       "      <td>270</td>\n",
       "      <td>2021</td>\n",
       "    </tr>\n",
       "    <tr>\n",
       "      <th>4</th>\n",
       "      <td>592500.00</td>\n",
       "      <td>2</td>\n",
       "      <td>2.00</td>\n",
       "      <td>1120</td>\n",
       "      <td>758</td>\n",
       "      <td>2.00</td>\n",
       "      <td>Average</td>\n",
       "      <td>1120</td>\n",
       "      <td>550</td>\n",
       "      <td>550</td>\n",
       "      <td>30</td>\n",
       "      <td>2021</td>\n",
       "    </tr>\n",
       "  </tbody>\n",
       "</table>\n",
       "</div>"
      ],
      "text/plain": [
       "      price  bedrooms  bathrooms  sqft_living  sqft_lot  floors    grade  \\\n",
       "0 675000.00         4       1.00         1180      7140    1.00  Average   \n",
       "1 920000.00         5       2.50         2770      6703    1.00  Average   \n",
       "2 311000.00         6       2.00         2880      6156    1.00  Average   \n",
       "3 775000.00         3       3.00         2160      1400    2.00  Average   \n",
       "4 592500.00         2       2.00         1120       758    2.00  Average   \n",
       "\n",
       "   sqft_above  sqft_basement  sqft_garage  sqft_patio sale_year  \n",
       "0        1180              0            0          40      2022  \n",
       "1        1570           1570            0         240      2021  \n",
       "2        1580           1580            0           0      2021  \n",
       "3        1090           1070          200         270      2021  \n",
       "4        1120            550          550          30      2021  "
      ]
     },
     "execution_count": 186,
     "metadata": {},
     "output_type": "execute_result"
    }
   ],
   "source": [
    "model_clean.head()"
   ]
  },
  {
   "cell_type": "markdown",
   "metadata": {},
   "source": [
    "Lets dummy out the house grade `grade`, just to see what happens if we do include it into the model."
   ]
  },
  {
   "cell_type": "code",
   "execution_count": 187,
   "metadata": {},
   "outputs": [],
   "source": [
    "model_clean = pd.get_dummies(data=model_clean, columns=[\"grade\"], drop_first=True)"
   ]
  },
  {
   "cell_type": "code",
   "execution_count": 188,
   "metadata": {},
   "outputs": [
    {
     "data": {
      "text/html": [
       "<div>\n",
       "<style scoped>\n",
       "    .dataframe tbody tr th:only-of-type {\n",
       "        vertical-align: middle;\n",
       "    }\n",
       "\n",
       "    .dataframe tbody tr th {\n",
       "        vertical-align: top;\n",
       "    }\n",
       "\n",
       "    .dataframe thead th {\n",
       "        text-align: right;\n",
       "    }\n",
       "</style>\n",
       "<table border=\"1\" class=\"dataframe\">\n",
       "  <thead>\n",
       "    <tr style=\"text-align: right;\">\n",
       "      <th></th>\n",
       "      <th>price</th>\n",
       "      <th>bedrooms</th>\n",
       "      <th>bathrooms</th>\n",
       "      <th>sqft_living</th>\n",
       "      <th>sqft_lot</th>\n",
       "      <th>floors</th>\n",
       "      <th>sqft_above</th>\n",
       "      <th>sqft_basement</th>\n",
       "      <th>sqft_garage</th>\n",
       "      <th>sqft_patio</th>\n",
       "      <th>sale_year</th>\n",
       "      <th>grade_Average</th>\n",
       "      <th>grade_Below Average</th>\n",
       "      <th>grade_Poor</th>\n",
       "    </tr>\n",
       "  </thead>\n",
       "  <tbody>\n",
       "    <tr>\n",
       "      <th>0</th>\n",
       "      <td>675000.00</td>\n",
       "      <td>4</td>\n",
       "      <td>1.00</td>\n",
       "      <td>1180</td>\n",
       "      <td>7140</td>\n",
       "      <td>1.00</td>\n",
       "      <td>1180</td>\n",
       "      <td>0</td>\n",
       "      <td>0</td>\n",
       "      <td>40</td>\n",
       "      <td>2022</td>\n",
       "      <td>1</td>\n",
       "      <td>0</td>\n",
       "      <td>0</td>\n",
       "    </tr>\n",
       "    <tr>\n",
       "      <th>1</th>\n",
       "      <td>920000.00</td>\n",
       "      <td>5</td>\n",
       "      <td>2.50</td>\n",
       "      <td>2770</td>\n",
       "      <td>6703</td>\n",
       "      <td>1.00</td>\n",
       "      <td>1570</td>\n",
       "      <td>1570</td>\n",
       "      <td>0</td>\n",
       "      <td>240</td>\n",
       "      <td>2021</td>\n",
       "      <td>1</td>\n",
       "      <td>0</td>\n",
       "      <td>0</td>\n",
       "    </tr>\n",
       "    <tr>\n",
       "      <th>2</th>\n",
       "      <td>311000.00</td>\n",
       "      <td>6</td>\n",
       "      <td>2.00</td>\n",
       "      <td>2880</td>\n",
       "      <td>6156</td>\n",
       "      <td>1.00</td>\n",
       "      <td>1580</td>\n",
       "      <td>1580</td>\n",
       "      <td>0</td>\n",
       "      <td>0</td>\n",
       "      <td>2021</td>\n",
       "      <td>1</td>\n",
       "      <td>0</td>\n",
       "      <td>0</td>\n",
       "    </tr>\n",
       "    <tr>\n",
       "      <th>3</th>\n",
       "      <td>775000.00</td>\n",
       "      <td>3</td>\n",
       "      <td>3.00</td>\n",
       "      <td>2160</td>\n",
       "      <td>1400</td>\n",
       "      <td>2.00</td>\n",
       "      <td>1090</td>\n",
       "      <td>1070</td>\n",
       "      <td>200</td>\n",
       "      <td>270</td>\n",
       "      <td>2021</td>\n",
       "      <td>1</td>\n",
       "      <td>0</td>\n",
       "      <td>0</td>\n",
       "    </tr>\n",
       "    <tr>\n",
       "      <th>4</th>\n",
       "      <td>592500.00</td>\n",
       "      <td>2</td>\n",
       "      <td>2.00</td>\n",
       "      <td>1120</td>\n",
       "      <td>758</td>\n",
       "      <td>2.00</td>\n",
       "      <td>1120</td>\n",
       "      <td>550</td>\n",
       "      <td>550</td>\n",
       "      <td>30</td>\n",
       "      <td>2021</td>\n",
       "      <td>1</td>\n",
       "      <td>0</td>\n",
       "      <td>0</td>\n",
       "    </tr>\n",
       "  </tbody>\n",
       "</table>\n",
       "</div>"
      ],
      "text/plain": [
       "      price  bedrooms  bathrooms  sqft_living  sqft_lot  floors  sqft_above  \\\n",
       "0 675000.00         4       1.00         1180      7140    1.00        1180   \n",
       "1 920000.00         5       2.50         2770      6703    1.00        1570   \n",
       "2 311000.00         6       2.00         2880      6156    1.00        1580   \n",
       "3 775000.00         3       3.00         2160      1400    2.00        1090   \n",
       "4 592500.00         2       2.00         1120       758    2.00        1120   \n",
       "\n",
       "   sqft_basement  sqft_garage  sqft_patio sale_year  grade_Average  \\\n",
       "0              0            0          40      2022              1   \n",
       "1           1570            0         240      2021              1   \n",
       "2           1580            0           0      2021              1   \n",
       "3           1070          200         270      2021              1   \n",
       "4            550          550          30      2021              1   \n",
       "\n",
       "   grade_Below Average  grade_Poor  \n",
       "0                    0           0  \n",
       "1                    0           0  \n",
       "2                    0           0  \n",
       "3                    0           0  \n",
       "4                    0           0  "
      ]
     },
     "execution_count": 188,
     "metadata": {},
     "output_type": "execute_result"
    }
   ],
   "source": [
    "model_clean.head()"
   ]
  },
  {
   "cell_type": "markdown",
   "metadata": {},
   "source": [
    "Let's look at the correlation so far for the dataset."
   ]
  },
  {
   "cell_type": "code",
   "execution_count": 189,
   "metadata": {},
   "outputs": [
    {
     "data": {
      "text/html": [
       "<div>\n",
       "<style scoped>\n",
       "    .dataframe tbody tr th:only-of-type {\n",
       "        vertical-align: middle;\n",
       "    }\n",
       "\n",
       "    .dataframe tbody tr th {\n",
       "        vertical-align: top;\n",
       "    }\n",
       "\n",
       "    .dataframe thead th {\n",
       "        text-align: right;\n",
       "    }\n",
       "</style>\n",
       "<table border=\"1\" class=\"dataframe\">\n",
       "  <thead>\n",
       "    <tr style=\"text-align: right;\">\n",
       "      <th></th>\n",
       "      <th>price</th>\n",
       "      <th>bedrooms</th>\n",
       "      <th>bathrooms</th>\n",
       "      <th>sqft_living</th>\n",
       "      <th>sqft_lot</th>\n",
       "      <th>floors</th>\n",
       "      <th>sqft_above</th>\n",
       "      <th>sqft_basement</th>\n",
       "      <th>sqft_garage</th>\n",
       "      <th>sqft_patio</th>\n",
       "      <th>grade_Average</th>\n",
       "      <th>grade_Below Average</th>\n",
       "      <th>grade_Poor</th>\n",
       "    </tr>\n",
       "  </thead>\n",
       "  <tbody>\n",
       "    <tr>\n",
       "      <th>price</th>\n",
       "      <td>1.00</td>\n",
       "      <td>0.29</td>\n",
       "      <td>0.48</td>\n",
       "      <td>0.61</td>\n",
       "      <td>0.09</td>\n",
       "      <td>0.18</td>\n",
       "      <td>0.54</td>\n",
       "      <td>0.25</td>\n",
       "      <td>0.27</td>\n",
       "      <td>0.32</td>\n",
       "      <td>-0.18</td>\n",
       "      <td>-0.18</td>\n",
       "      <td>-0.01</td>\n",
       "    </tr>\n",
       "    <tr>\n",
       "      <th>bedrooms</th>\n",
       "      <td>0.29</td>\n",
       "      <td>1.00</td>\n",
       "      <td>0.59</td>\n",
       "      <td>0.64</td>\n",
       "      <td>0.01</td>\n",
       "      <td>0.15</td>\n",
       "      <td>0.55</td>\n",
       "      <td>0.24</td>\n",
       "      <td>0.32</td>\n",
       "      <td>0.18</td>\n",
       "      <td>0.10</td>\n",
       "      <td>-0.29</td>\n",
       "      <td>-0.02</td>\n",
       "    </tr>\n",
       "    <tr>\n",
       "      <th>bathrooms</th>\n",
       "      <td>0.48</td>\n",
       "      <td>0.59</td>\n",
       "      <td>1.00</td>\n",
       "      <td>0.77</td>\n",
       "      <td>0.04</td>\n",
       "      <td>0.41</td>\n",
       "      <td>0.68</td>\n",
       "      <td>0.26</td>\n",
       "      <td>0.46</td>\n",
       "      <td>0.33</td>\n",
       "      <td>0.08</td>\n",
       "      <td>-0.40</td>\n",
       "      <td>-0.02</td>\n",
       "    </tr>\n",
       "    <tr>\n",
       "      <th>sqft_living</th>\n",
       "      <td>0.61</td>\n",
       "      <td>0.64</td>\n",
       "      <td>0.77</td>\n",
       "      <td>1.00</td>\n",
       "      <td>0.12</td>\n",
       "      <td>0.30</td>\n",
       "      <td>0.88</td>\n",
       "      <td>0.34</td>\n",
       "      <td>0.51</td>\n",
       "      <td>0.40</td>\n",
       "      <td>-0.06</td>\n",
       "      <td>-0.34</td>\n",
       "      <td>-0.02</td>\n",
       "    </tr>\n",
       "    <tr>\n",
       "      <th>sqft_lot</th>\n",
       "      <td>0.09</td>\n",
       "      <td>0.01</td>\n",
       "      <td>0.04</td>\n",
       "      <td>0.12</td>\n",
       "      <td>1.00</td>\n",
       "      <td>-0.03</td>\n",
       "      <td>0.13</td>\n",
       "      <td>0.01</td>\n",
       "      <td>0.09</td>\n",
       "      <td>0.16</td>\n",
       "      <td>-0.08</td>\n",
       "      <td>0.02</td>\n",
       "      <td>0.03</td>\n",
       "    </tr>\n",
       "    <tr>\n",
       "      <th>floors</th>\n",
       "      <td>0.18</td>\n",
       "      <td>0.15</td>\n",
       "      <td>0.41</td>\n",
       "      <td>0.30</td>\n",
       "      <td>-0.03</td>\n",
       "      <td>1.00</td>\n",
       "      <td>0.45</td>\n",
       "      <td>-0.25</td>\n",
       "      <td>0.13</td>\n",
       "      <td>0.13</td>\n",
       "      <td>0.11</td>\n",
       "      <td>-0.27</td>\n",
       "      <td>-0.01</td>\n",
       "    </tr>\n",
       "    <tr>\n",
       "      <th>sqft_above</th>\n",
       "      <td>0.54</td>\n",
       "      <td>0.55</td>\n",
       "      <td>0.68</td>\n",
       "      <td>0.88</td>\n",
       "      <td>0.13</td>\n",
       "      <td>0.45</td>\n",
       "      <td>1.00</td>\n",
       "      <td>-0.07</td>\n",
       "      <td>0.56</td>\n",
       "      <td>0.31</td>\n",
       "      <td>-0.09</td>\n",
       "      <td>-0.30</td>\n",
       "      <td>-0.01</td>\n",
       "    </tr>\n",
       "    <tr>\n",
       "      <th>sqft_basement</th>\n",
       "      <td>0.25</td>\n",
       "      <td>0.24</td>\n",
       "      <td>0.26</td>\n",
       "      <td>0.34</td>\n",
       "      <td>0.01</td>\n",
       "      <td>-0.25</td>\n",
       "      <td>-0.07</td>\n",
       "      <td>1.00</td>\n",
       "      <td>0.03</td>\n",
       "      <td>0.21</td>\n",
       "      <td>0.04</td>\n",
       "      <td>-0.13</td>\n",
       "      <td>-0.01</td>\n",
       "    </tr>\n",
       "    <tr>\n",
       "      <th>sqft_garage</th>\n",
       "      <td>0.27</td>\n",
       "      <td>0.32</td>\n",
       "      <td>0.46</td>\n",
       "      <td>0.51</td>\n",
       "      <td>0.09</td>\n",
       "      <td>0.13</td>\n",
       "      <td>0.56</td>\n",
       "      <td>0.03</td>\n",
       "      <td>1.00</td>\n",
       "      <td>0.22</td>\n",
       "      <td>0.05</td>\n",
       "      <td>-0.32</td>\n",
       "      <td>-0.02</td>\n",
       "    </tr>\n",
       "    <tr>\n",
       "      <th>sqft_patio</th>\n",
       "      <td>0.32</td>\n",
       "      <td>0.18</td>\n",
       "      <td>0.33</td>\n",
       "      <td>0.40</td>\n",
       "      <td>0.16</td>\n",
       "      <td>0.13</td>\n",
       "      <td>0.31</td>\n",
       "      <td>0.21</td>\n",
       "      <td>0.22</td>\n",
       "      <td>1.00</td>\n",
       "      <td>-0.04</td>\n",
       "      <td>-0.15</td>\n",
       "      <td>-0.01</td>\n",
       "    </tr>\n",
       "    <tr>\n",
       "      <th>grade_Average</th>\n",
       "      <td>-0.18</td>\n",
       "      <td>0.10</td>\n",
       "      <td>0.08</td>\n",
       "      <td>-0.06</td>\n",
       "      <td>-0.08</td>\n",
       "      <td>0.11</td>\n",
       "      <td>-0.09</td>\n",
       "      <td>0.04</td>\n",
       "      <td>0.05</td>\n",
       "      <td>-0.04</td>\n",
       "      <td>1.00</td>\n",
       "      <td>-0.76</td>\n",
       "      <td>-0.03</td>\n",
       "    </tr>\n",
       "    <tr>\n",
       "      <th>grade_Below Average</th>\n",
       "      <td>-0.18</td>\n",
       "      <td>-0.29</td>\n",
       "      <td>-0.40</td>\n",
       "      <td>-0.34</td>\n",
       "      <td>0.02</td>\n",
       "      <td>-0.27</td>\n",
       "      <td>-0.30</td>\n",
       "      <td>-0.13</td>\n",
       "      <td>-0.32</td>\n",
       "      <td>-0.15</td>\n",
       "      <td>-0.76</td>\n",
       "      <td>1.00</td>\n",
       "      <td>-0.00</td>\n",
       "    </tr>\n",
       "    <tr>\n",
       "      <th>grade_Poor</th>\n",
       "      <td>-0.01</td>\n",
       "      <td>-0.02</td>\n",
       "      <td>-0.02</td>\n",
       "      <td>-0.02</td>\n",
       "      <td>0.03</td>\n",
       "      <td>-0.01</td>\n",
       "      <td>-0.01</td>\n",
       "      <td>-0.01</td>\n",
       "      <td>-0.02</td>\n",
       "      <td>-0.01</td>\n",
       "      <td>-0.03</td>\n",
       "      <td>-0.00</td>\n",
       "      <td>1.00</td>\n",
       "    </tr>\n",
       "  </tbody>\n",
       "</table>\n",
       "</div>"
      ],
      "text/plain": [
       "                     price  bedrooms  bathrooms  sqft_living  sqft_lot  \\\n",
       "price                 1.00      0.29       0.48         0.61      0.09   \n",
       "bedrooms              0.29      1.00       0.59         0.64      0.01   \n",
       "bathrooms             0.48      0.59       1.00         0.77      0.04   \n",
       "sqft_living           0.61      0.64       0.77         1.00      0.12   \n",
       "sqft_lot              0.09      0.01       0.04         0.12      1.00   \n",
       "floors                0.18      0.15       0.41         0.30     -0.03   \n",
       "sqft_above            0.54      0.55       0.68         0.88      0.13   \n",
       "sqft_basement         0.25      0.24       0.26         0.34      0.01   \n",
       "sqft_garage           0.27      0.32       0.46         0.51      0.09   \n",
       "sqft_patio            0.32      0.18       0.33         0.40      0.16   \n",
       "grade_Average        -0.18      0.10       0.08        -0.06     -0.08   \n",
       "grade_Below Average  -0.18     -0.29      -0.40        -0.34      0.02   \n",
       "grade_Poor           -0.01     -0.02      -0.02        -0.02      0.03   \n",
       "\n",
       "                     floors  sqft_above  sqft_basement  sqft_garage  \\\n",
       "price                  0.18        0.54           0.25         0.27   \n",
       "bedrooms               0.15        0.55           0.24         0.32   \n",
       "bathrooms              0.41        0.68           0.26         0.46   \n",
       "sqft_living            0.30        0.88           0.34         0.51   \n",
       "sqft_lot              -0.03        0.13           0.01         0.09   \n",
       "floors                 1.00        0.45          -0.25         0.13   \n",
       "sqft_above             0.45        1.00          -0.07         0.56   \n",
       "sqft_basement         -0.25       -0.07           1.00         0.03   \n",
       "sqft_garage            0.13        0.56           0.03         1.00   \n",
       "sqft_patio             0.13        0.31           0.21         0.22   \n",
       "grade_Average          0.11       -0.09           0.04         0.05   \n",
       "grade_Below Average   -0.27       -0.30          -0.13        -0.32   \n",
       "grade_Poor            -0.01       -0.01          -0.01        -0.02   \n",
       "\n",
       "                     sqft_patio  grade_Average  grade_Below Average  \\\n",
       "price                      0.32          -0.18                -0.18   \n",
       "bedrooms                   0.18           0.10                -0.29   \n",
       "bathrooms                  0.33           0.08                -0.40   \n",
       "sqft_living                0.40          -0.06                -0.34   \n",
       "sqft_lot                   0.16          -0.08                 0.02   \n",
       "floors                     0.13           0.11                -0.27   \n",
       "sqft_above                 0.31          -0.09                -0.30   \n",
       "sqft_basement              0.21           0.04                -0.13   \n",
       "sqft_garage                0.22           0.05                -0.32   \n",
       "sqft_patio                 1.00          -0.04                -0.15   \n",
       "grade_Average             -0.04           1.00                -0.76   \n",
       "grade_Below Average       -0.15          -0.76                 1.00   \n",
       "grade_Poor                -0.01          -0.03                -0.00   \n",
       "\n",
       "                     grade_Poor  \n",
       "price                     -0.01  \n",
       "bedrooms                  -0.02  \n",
       "bathrooms                 -0.02  \n",
       "sqft_living               -0.02  \n",
       "sqft_lot                   0.03  \n",
       "floors                    -0.01  \n",
       "sqft_above                -0.01  \n",
       "sqft_basement             -0.01  \n",
       "sqft_garage               -0.02  \n",
       "sqft_patio                -0.01  \n",
       "grade_Average             -0.03  \n",
       "grade_Below Average       -0.00  \n",
       "grade_Poor                 1.00  "
      ]
     },
     "execution_count": 189,
     "metadata": {},
     "output_type": "execute_result"
    }
   ],
   "source": [
    "model_clean.corr()"
   ]
  },
  {
   "cell_type": "code",
   "execution_count": 190,
   "metadata": {},
   "outputs": [
    {
     "data": {
      "text/plain": [
       "<AxesSubplot:>"
      ]
     },
     "execution_count": 190,
     "metadata": {},
     "output_type": "execute_result"
    },
    {
     "data": {
      "image/png": "[encoded data removed]",
      "text/plain": [
       "<Figure size 432x288 with 2 Axes>"
      ]
     },
     "metadata": {
      "needs_background": "light"
     },
     "output_type": "display_data"
    }
   ],
   "source": [
    "sns.heatmap(model_clean.corr())"
   ]
  },
  {
   "cell_type": "code",
   "execution_count": 191,
   "metadata": {},
   "outputs": [
    {
     "name": "stdout",
     "output_type": "stream",
     "text": [
      "<class 'pandas.core.frame.DataFrame'>\n",
      "Int64Index: 30068 entries, 0 to 30154\n",
      "Data columns (total 14 columns):\n",
      " #   Column               Non-Null Count  Dtype  \n",
      "---  ------               --------------  -----  \n",
      " 0   price                30068 non-null  float64\n",
      " 1   bedrooms             30068 non-null  int64  \n",
      " 2   bathrooms            30068 non-null  float64\n",
      " 3   sqft_living          30068 non-null  int64  \n",
      " 4   sqft_lot             30068 non-null  int64  \n",
      " 5   floors               30068 non-null  float64\n",
      " 6   sqft_above           30068 non-null  int64  \n",
      " 7   sqft_basement        30068 non-null  int64  \n",
      " 8   sqft_garage          30068 non-null  int64  \n",
      " 9   sqft_patio           30068 non-null  int64  \n",
      " 10  sale_year            30068 non-null  object \n",
      " 11  grade_Average        30068 non-null  uint8  \n",
      " 12  grade_Below Average  30068 non-null  uint8  \n",
      " 13  grade_Poor           30068 non-null  uint8  \n",
      "dtypes: float64(3), int64(7), object(1), uint8(3)\n",
      "memory usage: 2.8+ MB\n"
     ]
    }
   ],
   "source": [
    "model_clean.info()"
   ]
  },
  {
   "cell_type": "code",
   "execution_count": 192,
   "metadata": {},
   "outputs": [
    {
     "name": "stderr",
     "output_type": "stream",
     "text": [
      "/opt/conda/lib/python3.9/site-packages/statsmodels/tsa/tsatools.py:142: FutureWarning: In a future version of pandas all arguments of concat except for the argument 'objs' will be keyword-only\n",
      "  x = pd.concat(x[::order], 1)\n"
     ]
    },
    {
     "data": {
      "text/html": [
       "<table class=\"simpletable\">\n",
       "<caption>OLS Regression Results</caption>\n",
       "<tr>\n",
       "  <th>Dep. Variable:</th>          <td>price</td>      <th>  R-squared:         </th>  <td>   0.443</td>  \n",
       "</tr>\n",
       "<tr>\n",
       "  <th>Model:</th>                   <td>OLS</td>       <th>  Adj. R-squared:    </th>  <td>   0.443</td>  \n",
       "</tr>\n",
       "<tr>\n",
       "  <th>Method:</th>             <td>Least Squares</td>  <th>  F-statistic:       </th>  <td>   2176.</td>  \n",
       "</tr>\n",
       "<tr>\n",
       "  <th>Date:</th>             <td>Thu, 29 Sep 2022</td> <th>  Prob (F-statistic):</th>   <td>  0.00</td>   \n",
       "</tr>\n",
       "<tr>\n",
       "  <th>Time:</th>                 <td>01:16:30</td>     <th>  Log-Likelihood:    </th> <td>-4.4589e+05</td>\n",
       "</tr>\n",
       "<tr>\n",
       "  <th>No. Observations:</th>      <td> 30068</td>      <th>  AIC:               </th>  <td>8.918e+05</td> \n",
       "</tr>\n",
       "<tr>\n",
       "  <th>Df Residuals:</th>          <td> 30056</td>      <th>  BIC:               </th>  <td>8.919e+05</td> \n",
       "</tr>\n",
       "<tr>\n",
       "  <th>Df Model:</th>              <td>    11</td>      <th>                     </th>      <td> </td>     \n",
       "</tr>\n",
       "<tr>\n",
       "  <th>Covariance Type:</th>      <td>nonrobust</td>    <th>                     </th>      <td> </td>     \n",
       "</tr>\n",
       "</table>\n",
       "<table class=\"simpletable\">\n",
       "<tr>\n",
       "           <td></td>              <th>coef</th>     <th>std err</th>      <th>t</th>      <th>P>|t|</th>  <th>[0.025</th>    <th>0.975]</th>  \n",
       "</tr>\n",
       "<tr>\n",
       "  <th>const</th>               <td> 1.063e+06</td> <td> 2.76e+04</td> <td>   38.479</td> <td> 0.000</td> <td> 1.01e+06</td> <td> 1.12e+06</td>\n",
       "</tr>\n",
       "<tr>\n",
       "  <th>bedrooms</th>            <td>-1.097e+05</td> <td> 5384.308</td> <td>  -20.370</td> <td> 0.000</td> <td> -1.2e+05</td> <td>-9.91e+04</td>\n",
       "</tr>\n",
       "<tr>\n",
       "  <th>bathrooms</th>           <td> 8.282e+04</td> <td> 7221.776</td> <td>   11.469</td> <td> 0.000</td> <td> 6.87e+04</td> <td>  9.7e+04</td>\n",
       "</tr>\n",
       "<tr>\n",
       "  <th>sqft_living</th>         <td>  227.2950</td> <td>   17.634</td> <td>   12.889</td> <td> 0.000</td> <td>  192.731</td> <td>  261.859</td>\n",
       "</tr>\n",
       "<tr>\n",
       "  <th>sqft_lot</th>            <td>   -0.0901</td> <td>    0.066</td> <td>   -1.359</td> <td> 0.174</td> <td>   -0.220</td> <td>    0.040</td>\n",
       "</tr>\n",
       "<tr>\n",
       "  <th>sqft_above</th>          <td>  265.2975</td> <td>   17.413</td> <td>   15.235</td> <td> 0.000</td> <td>  231.167</td> <td>  299.428</td>\n",
       "</tr>\n",
       "<tr>\n",
       "  <th>sqft_basement</th>       <td>  233.2948</td> <td>   12.774</td> <td>   18.263</td> <td> 0.000</td> <td>  208.257</td> <td>  258.332</td>\n",
       "</tr>\n",
       "<tr>\n",
       "  <th>sqft_garage</th>         <td> -313.2902</td> <td>   16.726</td> <td>  -18.731</td> <td> 0.000</td> <td> -346.073</td> <td> -280.507</td>\n",
       "</tr>\n",
       "<tr>\n",
       "  <th>sqft_patio</th>          <td>  226.3029</td> <td>   17.426</td> <td>   12.986</td> <td> 0.000</td> <td>  192.146</td> <td>  260.459</td>\n",
       "</tr>\n",
       "<tr>\n",
       "  <th>grade_Average</th>       <td>-8.429e+05</td> <td> 1.93e+04</td> <td>  -43.704</td> <td> 0.000</td> <td>-8.81e+05</td> <td>-8.05e+05</td>\n",
       "</tr>\n",
       "<tr>\n",
       "  <th>grade_Below Average</th> <td>-8.487e+05</td> <td> 2.49e+04</td> <td>  -34.072</td> <td> 0.000</td> <td>-8.97e+05</td> <td>   -8e+05</td>\n",
       "</tr>\n",
       "<tr>\n",
       "  <th>grade_Poor</th>          <td>-7.948e+05</td> <td> 2.73e+05</td> <td>   -2.907</td> <td> 0.004</td> <td>-1.33e+06</td> <td>-2.59e+05</td>\n",
       "</tr>\n",
       "</table>\n",
       "<table class=\"simpletable\">\n",
       "<tr>\n",
       "  <th>Omnibus:</th>       <td>43420.960</td> <th>  Durbin-Watson:     </th>   <td>   1.843</td>  \n",
       "</tr>\n",
       "<tr>\n",
       "  <th>Prob(Omnibus):</th>  <td> 0.000</td>   <th>  Jarque-Bera (JB):  </th> <td>51386647.952</td>\n",
       "</tr>\n",
       "<tr>\n",
       "  <th>Skew:</th>           <td> 8.198</td>   <th>  Prob(JB):          </th>   <td>    0.00</td>  \n",
       "</tr>\n",
       "<tr>\n",
       "  <th>Kurtosis:</th>       <td>204.860</td>  <th>  Cond. No.          </th>   <td>4.39e+06</td>  \n",
       "</tr>\n",
       "</table><br/><br/>Notes:<br/>[1] Standard Errors assume that the covariance matrix of the errors is correctly specified.<br/>[2] The condition number is large, 4.39e+06. This might indicate that there are<br/>strong multicollinearity or other numerical problems."
      ],
      "text/plain": [
       "<class 'statsmodels.iolib.summary.Summary'>\n",
       "\"\"\"\n",
       "                            OLS Regression Results                            \n",
       "==============================================================================\n",
       "Dep. Variable:                  price   R-squared:                       0.443\n",
       "Model:                            OLS   Adj. R-squared:                  0.443\n",
       "Method:                 Least Squares   F-statistic:                     2176.\n",
       "Date:                Thu, 29 Sep 2022   Prob (F-statistic):               0.00\n",
       "Time:                        01:16:30   Log-Likelihood:            -4.4589e+05\n",
       "No. Observations:               30068   AIC:                         8.918e+05\n",
       "Df Residuals:                   30056   BIC:                         8.919e+05\n",
       "Df Model:                          11                                         \n",
       "Covariance Type:            nonrobust                                         \n",
       "=======================================================================================\n",
       "                          coef    std err          t      P>|t|      [0.025      0.975]\n",
       "---------------------------------------------------------------------------------------\n",
       "const                1.063e+06   2.76e+04     38.479      0.000    1.01e+06    1.12e+06\n",
       "bedrooms            -1.097e+05   5384.308    -20.370      0.000    -1.2e+05   -9.91e+04\n",
       "bathrooms            8.282e+04   7221.776     11.469      0.000    6.87e+04     9.7e+04\n",
       "sqft_living           227.2950     17.634     12.889      0.000     192.731     261.859\n",
       "sqft_lot               -0.0901      0.066     -1.359      0.174      -0.220       0.040\n",
       "sqft_above            265.2975     17.413     15.235      0.000     231.167     299.428\n",
       "sqft_basement         233.2948     12.774     18.263      0.000     208.257     258.332\n",
       "sqft_garage          -313.2902     16.726    -18.731      0.000    -346.073    -280.507\n",
       "sqft_patio            226.3029     17.426     12.986      0.000     192.146     260.459\n",
       "grade_Average       -8.429e+05   1.93e+04    -43.704      0.000   -8.81e+05   -8.05e+05\n",
       "grade_Below Average -8.487e+05   2.49e+04    -34.072      0.000   -8.97e+05      -8e+05\n",
       "grade_Poor          -7.948e+05   2.73e+05     -2.907      0.004   -1.33e+06   -2.59e+05\n",
       "==============================================================================\n",
       "Omnibus:                    43420.960   Durbin-Watson:                   1.843\n",
       "Prob(Omnibus):                  0.000   Jarque-Bera (JB):         51386647.952\n",
       "Skew:                           8.198   Prob(JB):                         0.00\n",
       "Kurtosis:                     204.860   Cond. No.                     4.39e+06\n",
       "==============================================================================\n",
       "\n",
       "Notes:\n",
       "[1] Standard Errors assume that the covariance matrix of the errors is correctly specified.\n",
       "[2] The condition number is large, 4.39e+06. This might indicate that there are\n",
       "strong multicollinearity or other numerical problems.\n",
       "\"\"\""
      ]
     },
     "execution_count": 192,
     "metadata": {},
     "output_type": "execute_result"
    }
   ],
   "source": [
    "X=model_clean.drop(labels =['price', 'sale_year', 'floors'], axis=1)\n",
    "y=model_clean.price\n",
    "\n",
    "first_dummy_model = sm.OLS(y,sm.add_constant(X))\n",
    "results = first_dummy_model.fit()\n",
    "results.summary()"
   ]
  },
  {
   "cell_type": "markdown",
   "metadata": {},
   "source": [
    "So in our first model we have an R-value of 0.443. So this model explains 44.3% of our data points. I'm not to happy right now with the P-value of the `sqft_lot`. So lets work on adjusting that first."
   ]
  },
  {
   "cell_type": "markdown",
   "metadata": {},
   "source": [
    "# Model Iteration"
   ]
  },
  {
   "cell_type": "markdown",
   "metadata": {},
   "source": [
    "For `sqft_lot`"
   ]
  },
  {
   "cell_type": "code",
   "execution_count": 193,
   "metadata": {},
   "outputs": [
    {
     "data": {
      "text/plain": [
       "count     30068.00\n",
       "mean      16604.34\n",
       "std       59513.90\n",
       "min         402.00\n",
       "25%        4850.00\n",
       "50%        7479.50\n",
       "75%       10564.25\n",
       "max     3253932.00\n",
       "Name: sqft_lot, dtype: float64"
      ]
     },
     "execution_count": 193,
     "metadata": {},
     "output_type": "execute_result"
    }
   ],
   "source": [
    "model_clean.sqft_lot.describe()"
   ]
  },
  {
   "cell_type": "code",
   "execution_count": 194,
   "metadata": {},
   "outputs": [
    {
     "data": {
      "image/png": "[encoded data removed]",
      "text/plain": [
       "<Figure size 432x288 with 1 Axes>"
      ]
     },
     "metadata": {
      "needs_background": "light"
     },
     "output_type": "display_data"
    }
   ],
   "source": [
    "sns.boxplot(data=model_clean[[\"sqft_lot\"]], orient=\"h\", width=0.5);"
   ]
  },
  {
   "cell_type": "markdown",
   "metadata": {},
   "source": [
    "Wow, there are some huge properties in this data set, but we will limit it down to lots under 200,000 sqft which is about 3 standard deviations above the mean. "
   ]
  },
  {
   "cell_type": "code",
   "execution_count": 195,
   "metadata": {},
   "outputs": [
    {
     "data": {
      "text/html": [
       "<div>\n",
       "<style scoped>\n",
       "    .dataframe tbody tr th:only-of-type {\n",
       "        vertical-align: middle;\n",
       "    }\n",
       "\n",
       "    .dataframe tbody tr th {\n",
       "        vertical-align: top;\n",
       "    }\n",
       "\n",
       "    .dataframe thead th {\n",
       "        text-align: right;\n",
       "    }\n",
       "</style>\n",
       "<table border=\"1\" class=\"dataframe\">\n",
       "  <thead>\n",
       "    <tr style=\"text-align: right;\">\n",
       "      <th></th>\n",
       "      <th>price</th>\n",
       "      <th>bedrooms</th>\n",
       "      <th>bathrooms</th>\n",
       "      <th>sqft_living</th>\n",
       "      <th>sqft_lot</th>\n",
       "      <th>floors</th>\n",
       "      <th>sqft_above</th>\n",
       "      <th>sqft_basement</th>\n",
       "      <th>sqft_garage</th>\n",
       "      <th>sqft_patio</th>\n",
       "      <th>sale_year</th>\n",
       "      <th>grade_Average</th>\n",
       "      <th>grade_Below Average</th>\n",
       "      <th>grade_Poor</th>\n",
       "    </tr>\n",
       "  </thead>\n",
       "  <tbody>\n",
       "    <tr>\n",
       "      <th>39</th>\n",
       "      <td>1680000.00</td>\n",
       "      <td>3</td>\n",
       "      <td>2.50</td>\n",
       "      <td>5200</td>\n",
       "      <td>206039</td>\n",
       "      <td>1.00</td>\n",
       "      <td>3170</td>\n",
       "      <td>2030</td>\n",
       "      <td>1080</td>\n",
       "      <td>670</td>\n",
       "      <td>2021</td>\n",
       "      <td>0</td>\n",
       "      <td>0</td>\n",
       "      <td>0</td>\n",
       "    </tr>\n",
       "    <tr>\n",
       "      <th>43</th>\n",
       "      <td>3850000.00</td>\n",
       "      <td>5</td>\n",
       "      <td>3.50</td>\n",
       "      <td>4180</td>\n",
       "      <td>209959</td>\n",
       "      <td>1.00</td>\n",
       "      <td>4180</td>\n",
       "      <td>0</td>\n",
       "      <td>0</td>\n",
       "      <td>0</td>\n",
       "      <td>2022</td>\n",
       "      <td>1</td>\n",
       "      <td>0</td>\n",
       "      <td>0</td>\n",
       "    </tr>\n",
       "    <tr>\n",
       "      <th>77</th>\n",
       "      <td>1560000.00</td>\n",
       "      <td>4</td>\n",
       "      <td>3.00</td>\n",
       "      <td>3360</td>\n",
       "      <td>871200</td>\n",
       "      <td>2.00</td>\n",
       "      <td>3360</td>\n",
       "      <td>0</td>\n",
       "      <td>950</td>\n",
       "      <td>350</td>\n",
       "      <td>2021</td>\n",
       "      <td>1</td>\n",
       "      <td>0</td>\n",
       "      <td>0</td>\n",
       "    </tr>\n",
       "    <tr>\n",
       "      <th>79</th>\n",
       "      <td>1575000.00</td>\n",
       "      <td>4</td>\n",
       "      <td>3.50</td>\n",
       "      <td>3210</td>\n",
       "      <td>216493</td>\n",
       "      <td>2.00</td>\n",
       "      <td>3210</td>\n",
       "      <td>0</td>\n",
       "      <td>820</td>\n",
       "      <td>1290</td>\n",
       "      <td>2021</td>\n",
       "      <td>1</td>\n",
       "      <td>0</td>\n",
       "      <td>0</td>\n",
       "    </tr>\n",
       "    <tr>\n",
       "      <th>117</th>\n",
       "      <td>900000.00</td>\n",
       "      <td>3</td>\n",
       "      <td>2.00</td>\n",
       "      <td>1960</td>\n",
       "      <td>243936</td>\n",
       "      <td>1.50</td>\n",
       "      <td>1960</td>\n",
       "      <td>0</td>\n",
       "      <td>480</td>\n",
       "      <td>0</td>\n",
       "      <td>2021</td>\n",
       "      <td>1</td>\n",
       "      <td>0</td>\n",
       "      <td>0</td>\n",
       "    </tr>\n",
       "    <tr>\n",
       "      <th>...</th>\n",
       "      <td>...</td>\n",
       "      <td>...</td>\n",
       "      <td>...</td>\n",
       "      <td>...</td>\n",
       "      <td>...</td>\n",
       "      <td>...</td>\n",
       "      <td>...</td>\n",
       "      <td>...</td>\n",
       "      <td>...</td>\n",
       "      <td>...</td>\n",
       "      <td>...</td>\n",
       "      <td>...</td>\n",
       "      <td>...</td>\n",
       "      <td>...</td>\n",
       "    </tr>\n",
       "    <tr>\n",
       "      <th>29335</th>\n",
       "      <td>3500000.00</td>\n",
       "      <td>4</td>\n",
       "      <td>3.00</td>\n",
       "      <td>3950</td>\n",
       "      <td>435600</td>\n",
       "      <td>1.50</td>\n",
       "      <td>3950</td>\n",
       "      <td>0</td>\n",
       "      <td>0</td>\n",
       "      <td>2040</td>\n",
       "      <td>2022</td>\n",
       "      <td>1</td>\n",
       "      <td>0</td>\n",
       "      <td>0</td>\n",
       "    </tr>\n",
       "    <tr>\n",
       "      <th>29360</th>\n",
       "      <td>865000.00</td>\n",
       "      <td>5</td>\n",
       "      <td>4.00</td>\n",
       "      <td>3450</td>\n",
       "      <td>239580</td>\n",
       "      <td>2.00</td>\n",
       "      <td>3450</td>\n",
       "      <td>0</td>\n",
       "      <td>0</td>\n",
       "      <td>610</td>\n",
       "      <td>2021</td>\n",
       "      <td>1</td>\n",
       "      <td>0</td>\n",
       "      <td>0</td>\n",
       "    </tr>\n",
       "    <tr>\n",
       "      <th>29389</th>\n",
       "      <td>600000.00</td>\n",
       "      <td>3</td>\n",
       "      <td>2.50</td>\n",
       "      <td>3150</td>\n",
       "      <td>989234</td>\n",
       "      <td>1.50</td>\n",
       "      <td>2150</td>\n",
       "      <td>1390</td>\n",
       "      <td>0</td>\n",
       "      <td>2360</td>\n",
       "      <td>2022</td>\n",
       "      <td>1</td>\n",
       "      <td>0</td>\n",
       "      <td>0</td>\n",
       "    </tr>\n",
       "    <tr>\n",
       "      <th>29562</th>\n",
       "      <td>3050000.00</td>\n",
       "      <td>4</td>\n",
       "      <td>4.50</td>\n",
       "      <td>4280</td>\n",
       "      <td>222157</td>\n",
       "      <td>2.00</td>\n",
       "      <td>4280</td>\n",
       "      <td>0</td>\n",
       "      <td>660</td>\n",
       "      <td>250</td>\n",
       "      <td>2022</td>\n",
       "      <td>0</td>\n",
       "      <td>0</td>\n",
       "      <td>0</td>\n",
       "    </tr>\n",
       "    <tr>\n",
       "      <th>29983</th>\n",
       "      <td>860000.00</td>\n",
       "      <td>3</td>\n",
       "      <td>2.00</td>\n",
       "      <td>1940</td>\n",
       "      <td>838965</td>\n",
       "      <td>2.00</td>\n",
       "      <td>1940</td>\n",
       "      <td>1470</td>\n",
       "      <td>0</td>\n",
       "      <td>520</td>\n",
       "      <td>2021</td>\n",
       "      <td>1</td>\n",
       "      <td>0</td>\n",
       "      <td>0</td>\n",
       "    </tr>\n",
       "  </tbody>\n",
       "</table>\n",
       "<p>435 rows × 14 columns</p>\n",
       "</div>"
      ],
      "text/plain": [
       "           price  bedrooms  bathrooms  sqft_living  sqft_lot  floors  \\\n",
       "39    1680000.00         3       2.50         5200    206039    1.00   \n",
       "43    3850000.00         5       3.50         4180    209959    1.00   \n",
       "77    1560000.00         4       3.00         3360    871200    2.00   \n",
       "79    1575000.00         4       3.50         3210    216493    2.00   \n",
       "117    900000.00         3       2.00         1960    243936    1.50   \n",
       "...          ...       ...        ...          ...       ...     ...   \n",
       "29335 3500000.00         4       3.00         3950    435600    1.50   \n",
       "29360  865000.00         5       4.00         3450    239580    2.00   \n",
       "29389  600000.00         3       2.50         3150    989234    1.50   \n",
       "29562 3050000.00         4       4.50         4280    222157    2.00   \n",
       "29983  860000.00         3       2.00         1940    838965    2.00   \n",
       "\n",
       "       sqft_above  sqft_basement  sqft_garage  sqft_patio sale_year  \\\n",
       "39           3170           2030         1080         670      2021   \n",
       "43           4180              0            0           0      2022   \n",
       "77           3360              0          950         350      2021   \n",
       "79           3210              0          820        1290      2021   \n",
       "117          1960              0          480           0      2021   \n",
       "...           ...            ...          ...         ...       ...   \n",
       "29335        3950              0            0        2040      2022   \n",
       "29360        3450              0            0         610      2021   \n",
       "29389        2150           1390            0        2360      2022   \n",
       "29562        4280              0          660         250      2022   \n",
       "29983        1940           1470            0         520      2021   \n",
       "\n",
       "       grade_Average  grade_Below Average  grade_Poor  \n",
       "39                 0                    0           0  \n",
       "43                 1                    0           0  \n",
       "77                 1                    0           0  \n",
       "79                 1                    0           0  \n",
       "117                1                    0           0  \n",
       "...              ...                  ...         ...  \n",
       "29335              1                    0           0  \n",
       "29360              1                    0           0  \n",
       "29389              1                    0           0  \n",
       "29562              0                    0           0  \n",
       "29983              1                    0           0  \n",
       "\n",
       "[435 rows x 14 columns]"
      ]
     },
     "execution_count": 195,
     "metadata": {},
     "output_type": "execute_result"
    }
   ],
   "source": [
    "model_clean.loc[(model_clean['sqft_lot'] >= 200000)]"
   ]
  },
  {
   "cell_type": "code",
   "execution_count": 196,
   "metadata": {},
   "outputs": [],
   "source": [
    "model_clean.drop(model_clean.index[model_clean['sqft_lot'] > 200000], inplace=True)"
   ]
  },
  {
   "cell_type": "markdown",
   "metadata": {},
   "source": [
    "Now let's check how the dataset looks now."
   ]
  },
  {
   "cell_type": "code",
   "execution_count": 197,
   "metadata": {
    "scrolled": true
   },
   "outputs": [
    {
     "data": {
      "text/plain": [
       "count    29633.00\n",
       "mean     11503.85\n",
       "std      17843.75\n",
       "min        402.00\n",
       "25%       4800.00\n",
       "50%       7400.00\n",
       "75%      10349.00\n",
       "max     199940.00\n",
       "Name: sqft_lot, dtype: float64"
      ]
     },
     "execution_count": 197,
     "metadata": {},
     "output_type": "execute_result"
    }
   ],
   "source": [
    "model_clean.sqft_lot.describe()"
   ]
  },
  {
   "cell_type": "code",
   "execution_count": 198,
   "metadata": {},
   "outputs": [
    {
     "data": {
      "image/png": "[encoded data removed]",
      "text/plain": [
       "<Figure size 432x288 with 1 Axes>"
      ]
     },
     "metadata": {
      "needs_background": "light"
     },
     "output_type": "display_data"
    }
   ],
   "source": [
    "sns.boxplot(data=model_clean[[\"sqft_lot\"]], orient=\"h\", width=0.5);"
   ]
  },
  {
   "cell_type": "markdown",
   "metadata": {},
   "source": [
    "The removal of the large lots really did a number on the mean and standard deviation of the `sqft_lot`. Let's rerun the model."
   ]
  },
  {
   "cell_type": "code",
   "execution_count": 199,
   "metadata": {},
   "outputs": [
    {
     "name": "stderr",
     "output_type": "stream",
     "text": [
      "/opt/conda/lib/python3.9/site-packages/statsmodels/tsa/tsatools.py:142: FutureWarning: In a future version of pandas all arguments of concat except for the argument 'objs' will be keyword-only\n",
      "  x = pd.concat(x[::order], 1)\n"
     ]
    },
    {
     "data": {
      "text/html": [
       "<table class=\"simpletable\">\n",
       "<caption>OLS Regression Results</caption>\n",
       "<tr>\n",
       "  <th>Dep. Variable:</th>          <td>price</td>      <th>  R-squared:         </th>  <td>   0.449</td>  \n",
       "</tr>\n",
       "<tr>\n",
       "  <th>Model:</th>                   <td>OLS</td>       <th>  Adj. R-squared:    </th>  <td>   0.449</td>  \n",
       "</tr>\n",
       "<tr>\n",
       "  <th>Method:</th>             <td>Least Squares</td>  <th>  F-statistic:       </th>  <td>   2195.</td>  \n",
       "</tr>\n",
       "<tr>\n",
       "  <th>Date:</th>             <td>Thu, 29 Sep 2022</td> <th>  Prob (F-statistic):</th>   <td>  0.00</td>   \n",
       "</tr>\n",
       "<tr>\n",
       "  <th>Time:</th>                 <td>01:16:31</td>     <th>  Log-Likelihood:    </th> <td>-4.3917e+05</td>\n",
       "</tr>\n",
       "<tr>\n",
       "  <th>No. Observations:</th>      <td> 29633</td>      <th>  AIC:               </th>  <td>8.784e+05</td> \n",
       "</tr>\n",
       "<tr>\n",
       "  <th>Df Residuals:</th>          <td> 29621</td>      <th>  BIC:               </th>  <td>8.785e+05</td> \n",
       "</tr>\n",
       "<tr>\n",
       "  <th>Df Model:</th>              <td>    11</td>      <th>                     </th>      <td> </td>     \n",
       "</tr>\n",
       "<tr>\n",
       "  <th>Covariance Type:</th>      <td>nonrobust</td>    <th>                     </th>      <td> </td>     \n",
       "</tr>\n",
       "</table>\n",
       "<table class=\"simpletable\">\n",
       "<tr>\n",
       "           <td></td>              <th>coef</th>     <th>std err</th>      <th>t</th>      <th>P>|t|</th>  <th>[0.025</th>    <th>0.975]</th>  \n",
       "</tr>\n",
       "<tr>\n",
       "  <th>const</th>               <td>  1.08e+06</td> <td> 2.78e+04</td> <td>   38.861</td> <td> 0.000</td> <td> 1.03e+06</td> <td> 1.13e+06</td>\n",
       "</tr>\n",
       "<tr>\n",
       "  <th>bedrooms</th>            <td>-1.166e+05</td> <td> 5400.620</td> <td>  -21.589</td> <td> 0.000</td> <td>-1.27e+05</td> <td>-1.06e+05</td>\n",
       "</tr>\n",
       "<tr>\n",
       "  <th>bathrooms</th>           <td> 7.985e+04</td> <td> 7259.631</td> <td>   10.999</td> <td> 0.000</td> <td> 6.56e+04</td> <td> 9.41e+04</td>\n",
       "</tr>\n",
       "<tr>\n",
       "  <th>sqft_living</th>         <td>  234.1995</td> <td>   17.810</td> <td>   13.150</td> <td> 0.000</td> <td>  199.292</td> <td>  269.107</td>\n",
       "</tr>\n",
       "<tr>\n",
       "  <th>sqft_lot</th>            <td>   -0.6390</td> <td>    0.229</td> <td>   -2.795</td> <td> 0.005</td> <td>   -1.087</td> <td>   -0.191</td>\n",
       "</tr>\n",
       "<tr>\n",
       "  <th>sqft_above</th>          <td>  273.4451</td> <td>   17.551</td> <td>   15.580</td> <td> 0.000</td> <td>  239.045</td> <td>  307.845</td>\n",
       "</tr>\n",
       "<tr>\n",
       "  <th>sqft_basement</th>       <td>  241.6195</td> <td>   12.862</td> <td>   18.786</td> <td> 0.000</td> <td>  216.410</td> <td>  266.829</td>\n",
       "</tr>\n",
       "<tr>\n",
       "  <th>sqft_garage</th>         <td> -308.2576</td> <td>   16.999</td> <td>  -18.133</td> <td> 0.000</td> <td> -341.577</td> <td> -274.938</td>\n",
       "</tr>\n",
       "<tr>\n",
       "  <th>sqft_patio</th>          <td>  242.8555</td> <td>   18.041</td> <td>   13.461</td> <td> 0.000</td> <td>  207.494</td> <td>  278.217</td>\n",
       "</tr>\n",
       "<tr>\n",
       "  <th>grade_Average</th>       <td>-8.603e+05</td> <td> 1.95e+04</td> <td>  -44.216</td> <td> 0.000</td> <td>-8.98e+05</td> <td>-8.22e+05</td>\n",
       "</tr>\n",
       "<tr>\n",
       "  <th>grade_Below Average</th> <td>-8.627e+05</td> <td> 2.51e+04</td> <td>  -34.433</td> <td> 0.000</td> <td>-9.12e+05</td> <td>-8.14e+05</td>\n",
       "</tr>\n",
       "<tr>\n",
       "  <th>grade_Poor</th>          <td>-7.415e+05</td> <td> 2.97e+05</td> <td>   -2.498</td> <td> 0.012</td> <td>-1.32e+06</td> <td> -1.6e+05</td>\n",
       "</tr>\n",
       "</table>\n",
       "<table class=\"simpletable\">\n",
       "<tr>\n",
       "  <th>Omnibus:</th>       <td>43195.549</td> <th>  Durbin-Watson:     </th>   <td>   1.846</td>  \n",
       "</tr>\n",
       "<tr>\n",
       "  <th>Prob(Omnibus):</th>  <td> 0.000</td>   <th>  Jarque-Bera (JB):  </th> <td>54448399.045</td>\n",
       "</tr>\n",
       "<tr>\n",
       "  <th>Skew:</th>           <td> 8.336</td>   <th>  Prob(JB):          </th>   <td>    0.00</td>  \n",
       "</tr>\n",
       "<tr>\n",
       "  <th>Kurtosis:</th>       <td>212.333</td>  <th>  Cond. No.          </th>   <td>1.65e+06</td>  \n",
       "</tr>\n",
       "</table><br/><br/>Notes:<br/>[1] Standard Errors assume that the covariance matrix of the errors is correctly specified.<br/>[2] The condition number is large, 1.65e+06. This might indicate that there are<br/>strong multicollinearity or other numerical problems."
      ],
      "text/plain": [
       "<class 'statsmodels.iolib.summary.Summary'>\n",
       "\"\"\"\n",
       "                            OLS Regression Results                            \n",
       "==============================================================================\n",
       "Dep. Variable:                  price   R-squared:                       0.449\n",
       "Model:                            OLS   Adj. R-squared:                  0.449\n",
       "Method:                 Least Squares   F-statistic:                     2195.\n",
       "Date:                Thu, 29 Sep 2022   Prob (F-statistic):               0.00\n",
       "Time:                        01:16:31   Log-Likelihood:            -4.3917e+05\n",
       "No. Observations:               29633   AIC:                         8.784e+05\n",
       "Df Residuals:                   29621   BIC:                         8.785e+05\n",
       "Df Model:                          11                                         \n",
       "Covariance Type:            nonrobust                                         \n",
       "=======================================================================================\n",
       "                          coef    std err          t      P>|t|      [0.025      0.975]\n",
       "---------------------------------------------------------------------------------------\n",
       "const                 1.08e+06   2.78e+04     38.861      0.000    1.03e+06    1.13e+06\n",
       "bedrooms            -1.166e+05   5400.620    -21.589      0.000   -1.27e+05   -1.06e+05\n",
       "bathrooms            7.985e+04   7259.631     10.999      0.000    6.56e+04    9.41e+04\n",
       "sqft_living           234.1995     17.810     13.150      0.000     199.292     269.107\n",
       "sqft_lot               -0.6390      0.229     -2.795      0.005      -1.087      -0.191\n",
       "sqft_above            273.4451     17.551     15.580      0.000     239.045     307.845\n",
       "sqft_basement         241.6195     12.862     18.786      0.000     216.410     266.829\n",
       "sqft_garage          -308.2576     16.999    -18.133      0.000    -341.577    -274.938\n",
       "sqft_patio            242.8555     18.041     13.461      0.000     207.494     278.217\n",
       "grade_Average       -8.603e+05   1.95e+04    -44.216      0.000   -8.98e+05   -8.22e+05\n",
       "grade_Below Average -8.627e+05   2.51e+04    -34.433      0.000   -9.12e+05   -8.14e+05\n",
       "grade_Poor          -7.415e+05   2.97e+05     -2.498      0.012   -1.32e+06    -1.6e+05\n",
       "==============================================================================\n",
       "Omnibus:                    43195.549   Durbin-Watson:                   1.846\n",
       "Prob(Omnibus):                  0.000   Jarque-Bera (JB):         54448399.045\n",
       "Skew:                           8.336   Prob(JB):                         0.00\n",
       "Kurtosis:                     212.333   Cond. No.                     1.65e+06\n",
       "==============================================================================\n",
       "\n",
       "Notes:\n",
       "[1] Standard Errors assume that the covariance matrix of the errors is correctly specified.\n",
       "[2] The condition number is large, 1.65e+06. This might indicate that there are\n",
       "strong multicollinearity or other numerical problems.\n",
       "\"\"\""
      ]
     },
     "execution_count": 199,
     "metadata": {},
     "output_type": "execute_result"
    }
   ],
   "source": [
    "X=model_clean.drop(labels =['price', 'sale_year', 'floors'], axis=1)\n",
    "y=model_clean.price\n",
    "\n",
    "first_dummy_model = sm.OLS(y,sm.add_constant(X))\n",
    "results = first_dummy_model.fit()\n",
    "results.summary()"
   ]
  },
  {
   "cell_type": "markdown",
   "metadata": {},
   "source": [
    "We lowered to P value to .005 for `sqft_lot`, but R-Value only increased to .449. Could we still have a problem with outliers?"
   ]
  },
  {
   "cell_type": "code",
   "execution_count": 200,
   "metadata": {},
   "outputs": [
    {
     "data": {
      "image/png": "[encoded data removed]",
      "text/plain": [
       "<Figure size 432x288 with 1 Axes>"
      ]
     },
     "metadata": {
      "needs_background": "light"
     },
     "output_type": "display_data"
    }
   ],
   "source": [
    "model_clean.plot(x=\"sqft_lot\", y=\"price\", kind=\"scatter\");"
   ]
  },
  {
   "cell_type": "markdown",
   "metadata": {},
   "source": [
    "Well, for sure we have a large grouping in the sub 100k range. Let's cut down lot size again."
   ]
  },
  {
   "cell_type": "code",
   "execution_count": 201,
   "metadata": {},
   "outputs": [],
   "source": [
    "model_clean.drop(model_clean.index[model_clean['sqft_lot'] > 100000], inplace=True)"
   ]
  },
  {
   "cell_type": "code",
   "execution_count": 202,
   "metadata": {
    "scrolled": true
   },
   "outputs": [
    {
     "data": {
      "text/plain": [
       "count   29317.00\n",
       "mean    10144.70\n",
       "std     11759.18\n",
       "min       402.00\n",
       "25%      4800.00\n",
       "50%      7350.00\n",
       "75%     10171.00\n",
       "max     99916.00\n",
       "Name: sqft_lot, dtype: float64"
      ]
     },
     "execution_count": 202,
     "metadata": {},
     "output_type": "execute_result"
    }
   ],
   "source": [
    "model_clean.sqft_lot.describe()"
   ]
  },
  {
   "cell_type": "code",
   "execution_count": 203,
   "metadata": {},
   "outputs": [
    {
     "data": {
      "image/png": "[encoded data removed]",
      "text/plain": [
       "<Figure size 432x288 with 1 Axes>"
      ]
     },
     "metadata": {
      "needs_background": "light"
     },
     "output_type": "display_data"
    }
   ],
   "source": [
    "sns.boxplot(data=model_clean[[\"sqft_lot\"]], orient=\"h\", width=0.5);"
   ]
  },
  {
   "cell_type": "code",
   "execution_count": 204,
   "metadata": {
    "scrolled": false
   },
   "outputs": [
    {
     "data": {
      "image/png": "[encoded data removed]",
      "text/plain": [
       "<Figure size 432x288 with 1 Axes>"
      ]
     },
     "metadata": {
      "needs_background": "light"
     },
     "output_type": "display_data"
    }
   ],
   "source": [
    "model_clean.plot(x=\"sqft_lot\", y=\"price\", kind=\"scatter\");"
   ]
  },
  {
   "cell_type": "markdown",
   "metadata": {},
   "source": [
    "Let's rerun the model again."
   ]
  },
  {
   "cell_type": "code",
   "execution_count": 205,
   "metadata": {},
   "outputs": [
    {
     "name": "stderr",
     "output_type": "stream",
     "text": [
      "/opt/conda/lib/python3.9/site-packages/statsmodels/tsa/tsatools.py:142: FutureWarning: In a future version of pandas all arguments of concat except for the argument 'objs' will be keyword-only\n",
      "  x = pd.concat(x[::order], 1)\n"
     ]
    },
    {
     "data": {
      "text/html": [
       "<table class=\"simpletable\">\n",
       "<caption>OLS Regression Results</caption>\n",
       "<tr>\n",
       "  <th>Dep. Variable:</th>          <td>price</td>      <th>  R-squared:         </th>  <td>   0.450</td>  \n",
       "</tr>\n",
       "<tr>\n",
       "  <th>Model:</th>                   <td>OLS</td>       <th>  Adj. R-squared:    </th>  <td>   0.450</td>  \n",
       "</tr>\n",
       "<tr>\n",
       "  <th>Method:</th>             <td>Least Squares</td>  <th>  F-statistic:       </th>  <td>   2178.</td>  \n",
       "</tr>\n",
       "<tr>\n",
       "  <th>Date:</th>             <td>Thu, 29 Sep 2022</td> <th>  Prob (F-statistic):</th>   <td>  0.00</td>   \n",
       "</tr>\n",
       "<tr>\n",
       "  <th>Time:</th>                 <td>01:16:31</td>     <th>  Log-Likelihood:    </th> <td>-4.3442e+05</td>\n",
       "</tr>\n",
       "<tr>\n",
       "  <th>No. Observations:</th>      <td> 29317</td>      <th>  AIC:               </th>  <td>8.689e+05</td> \n",
       "</tr>\n",
       "<tr>\n",
       "  <th>Df Residuals:</th>          <td> 29305</td>      <th>  BIC:               </th>  <td>8.690e+05</td> \n",
       "</tr>\n",
       "<tr>\n",
       "  <th>Df Model:</th>              <td>    11</td>      <th>                     </th>      <td> </td>     \n",
       "</tr>\n",
       "<tr>\n",
       "  <th>Covariance Type:</th>      <td>nonrobust</td>    <th>                     </th>      <td> </td>     \n",
       "</tr>\n",
       "</table>\n",
       "<table class=\"simpletable\">\n",
       "<tr>\n",
       "           <td></td>              <th>coef</th>     <th>std err</th>      <th>t</th>      <th>P>|t|</th>  <th>[0.025</th>    <th>0.975]</th>  \n",
       "</tr>\n",
       "<tr>\n",
       "  <th>const</th>               <td>  1.08e+06</td> <td>  2.8e+04</td> <td>   38.579</td> <td> 0.000</td> <td> 1.02e+06</td> <td> 1.13e+06</td>\n",
       "</tr>\n",
       "<tr>\n",
       "  <th>bedrooms</th>            <td>-1.191e+05</td> <td> 5434.012</td> <td>  -21.925</td> <td> 0.000</td> <td> -1.3e+05</td> <td>-1.08e+05</td>\n",
       "</tr>\n",
       "<tr>\n",
       "  <th>bathrooms</th>           <td> 8.367e+04</td> <td> 7322.310</td> <td>   11.427</td> <td> 0.000</td> <td> 6.93e+04</td> <td>  9.8e+04</td>\n",
       "</tr>\n",
       "<tr>\n",
       "  <th>sqft_living</th>         <td>  230.1951</td> <td>   17.961</td> <td>   12.816</td> <td> 0.000</td> <td>  194.991</td> <td>  265.399</td>\n",
       "</tr>\n",
       "<tr>\n",
       "  <th>sqft_lot</th>            <td>    0.7539</td> <td>    0.355</td> <td>    2.123</td> <td> 0.034</td> <td>    0.058</td> <td>    1.450</td>\n",
       "</tr>\n",
       "<tr>\n",
       "  <th>sqft_above</th>          <td>  278.5336</td> <td>   17.667</td> <td>   15.766</td> <td> 0.000</td> <td>  243.906</td> <td>  313.161</td>\n",
       "</tr>\n",
       "<tr>\n",
       "  <th>sqft_basement</th>       <td>  246.3186</td> <td>   12.946</td> <td>   19.027</td> <td> 0.000</td> <td>  220.945</td> <td>  271.693</td>\n",
       "</tr>\n",
       "<tr>\n",
       "  <th>sqft_garage</th>         <td> -323.4485</td> <td>   17.307</td> <td>  -18.689</td> <td> 0.000</td> <td> -357.372</td> <td> -289.525</td>\n",
       "</tr>\n",
       "<tr>\n",
       "  <th>sqft_patio</th>          <td>  240.2028</td> <td>   18.318</td> <td>   13.113</td> <td> 0.000</td> <td>  204.298</td> <td>  276.108</td>\n",
       "</tr>\n",
       "<tr>\n",
       "  <th>grade_Average</th>       <td>-8.701e+05</td> <td> 1.96e+04</td> <td>  -44.345</td> <td> 0.000</td> <td>-9.09e+05</td> <td>-8.32e+05</td>\n",
       "</tr>\n",
       "<tr>\n",
       "  <th>grade_Below Average</th> <td>-8.803e+05</td> <td> 2.52e+04</td> <td>  -34.891</td> <td> 0.000</td> <td> -9.3e+05</td> <td>-8.31e+05</td>\n",
       "</tr>\n",
       "<tr>\n",
       "  <th>grade_Poor</th>          <td>-8.361e+05</td> <td> 3.82e+05</td> <td>   -2.191</td> <td> 0.028</td> <td>-1.58e+06</td> <td> -8.8e+04</td>\n",
       "</tr>\n",
       "</table>\n",
       "<table class=\"simpletable\">\n",
       "<tr>\n",
       "  <th>Omnibus:</th>       <td>42776.626</td> <th>  Durbin-Watson:     </th>   <td>   1.846</td>  \n",
       "</tr>\n",
       "<tr>\n",
       "  <th>Prob(Omnibus):</th>  <td> 0.000</td>   <th>  Jarque-Bera (JB):  </th> <td>54554142.785</td>\n",
       "</tr>\n",
       "<tr>\n",
       "  <th>Skew:</th>           <td> 8.349</td>   <th>  Prob(JB):          </th>   <td>    0.00</td>  \n",
       "</tr>\n",
       "<tr>\n",
       "  <th>Kurtosis:</th>       <td>213.669</td>  <th>  Cond. No.          </th>   <td>1.55e+06</td>  \n",
       "</tr>\n",
       "</table><br/><br/>Notes:<br/>[1] Standard Errors assume that the covariance matrix of the errors is correctly specified.<br/>[2] The condition number is large, 1.55e+06. This might indicate that there are<br/>strong multicollinearity or other numerical problems."
      ],
      "text/plain": [
       "<class 'statsmodels.iolib.summary.Summary'>\n",
       "\"\"\"\n",
       "                            OLS Regression Results                            \n",
       "==============================================================================\n",
       "Dep. Variable:                  price   R-squared:                       0.450\n",
       "Model:                            OLS   Adj. R-squared:                  0.450\n",
       "Method:                 Least Squares   F-statistic:                     2178.\n",
       "Date:                Thu, 29 Sep 2022   Prob (F-statistic):               0.00\n",
       "Time:                        01:16:31   Log-Likelihood:            -4.3442e+05\n",
       "No. Observations:               29317   AIC:                         8.689e+05\n",
       "Df Residuals:                   29305   BIC:                         8.690e+05\n",
       "Df Model:                          11                                         \n",
       "Covariance Type:            nonrobust                                         \n",
       "=======================================================================================\n",
       "                          coef    std err          t      P>|t|      [0.025      0.975]\n",
       "---------------------------------------------------------------------------------------\n",
       "const                 1.08e+06    2.8e+04     38.579      0.000    1.02e+06    1.13e+06\n",
       "bedrooms            -1.191e+05   5434.012    -21.925      0.000    -1.3e+05   -1.08e+05\n",
       "bathrooms            8.367e+04   7322.310     11.427      0.000    6.93e+04     9.8e+04\n",
       "sqft_living           230.1951     17.961     12.816      0.000     194.991     265.399\n",
       "sqft_lot                0.7539      0.355      2.123      0.034       0.058       1.450\n",
       "sqft_above            278.5336     17.667     15.766      0.000     243.906     313.161\n",
       "sqft_basement         246.3186     12.946     19.027      0.000     220.945     271.693\n",
       "sqft_garage          -323.4485     17.307    -18.689      0.000    -357.372    -289.525\n",
       "sqft_patio            240.2028     18.318     13.113      0.000     204.298     276.108\n",
       "grade_Average       -8.701e+05   1.96e+04    -44.345      0.000   -9.09e+05   -8.32e+05\n",
       "grade_Below Average -8.803e+05   2.52e+04    -34.891      0.000    -9.3e+05   -8.31e+05\n",
       "grade_Poor          -8.361e+05   3.82e+05     -2.191      0.028   -1.58e+06    -8.8e+04\n",
       "==============================================================================\n",
       "Omnibus:                    42776.626   Durbin-Watson:                   1.846\n",
       "Prob(Omnibus):                  0.000   Jarque-Bera (JB):         54554142.785\n",
       "Skew:                           8.349   Prob(JB):                         0.00\n",
       "Kurtosis:                     213.669   Cond. No.                     1.55e+06\n",
       "==============================================================================\n",
       "\n",
       "Notes:\n",
       "[1] Standard Errors assume that the covariance matrix of the errors is correctly specified.\n",
       "[2] The condition number is large, 1.55e+06. This might indicate that there are\n",
       "strong multicollinearity or other numerical problems.\n",
       "\"\"\""
      ]
     },
     "execution_count": 205,
     "metadata": {},
     "output_type": "execute_result"
    }
   ],
   "source": [
    "X=model_clean.drop(labels =['price', 'sale_year', 'floors'], axis=1)\n",
    "y=model_clean.price\n",
    "\n",
    "first_dummy_model = sm.OLS(y,sm.add_constant(X))\n",
    "results = first_dummy_model.fit()\n",
    "results.summary()"
   ]
  },
  {
   "cell_type": "markdown",
   "metadata": {},
   "source": [
    "Well, we reduced the P-value some more, and barely increased our R-value. But it looks like we have alot of high price houses that are being outliers. Let's limit our prices to something more 'average'."
   ]
  },
  {
   "cell_type": "code",
   "execution_count": 206,
   "metadata": {},
   "outputs": [
    {
     "data": {
      "text/plain": [
       "count      29317.00\n",
       "mean     1100036.46\n",
       "std       889003.53\n",
       "min        27360.00\n",
       "25%       643087.00\n",
       "50%       855000.00\n",
       "75%      1300000.00\n",
       "max     30750000.00\n",
       "Name: price, dtype: float64"
      ]
     },
     "execution_count": 206,
     "metadata": {},
     "output_type": "execute_result"
    }
   ],
   "source": [
    "model_clean.price.describe()"
   ]
  },
  {
   "cell_type": "code",
   "execution_count": 207,
   "metadata": {},
   "outputs": [
    {
     "data": {
      "image/png": "[encoded data removed]",
      "text/plain": [
       "<Figure size 432x288 with 1 Axes>"
      ]
     },
     "metadata": {
      "needs_background": "light"
     },
     "output_type": "display_data"
    }
   ],
   "source": [
    "sns.boxplot(data=model_clean[[\"price\"]], orient=\"h\", width=0.5);"
   ]
  },
  {
   "cell_type": "markdown",
   "metadata": {},
   "source": [
    "Let's remove some of the high end prices, and go with a more \"reasonable\" limit of $5 million. "
   ]
  },
  {
   "cell_type": "code",
   "execution_count": 208,
   "metadata": {},
   "outputs": [],
   "source": [
    "model_clean.drop(model_clean.index[model_clean['price'] > 5000000], inplace=True)"
   ]
  },
  {
   "cell_type": "code",
   "execution_count": 209,
   "metadata": {},
   "outputs": [
    {
     "data": {
      "text/plain": [
       "count     29119.00\n",
       "mean    1055520.36\n",
       "std      652291.96\n",
       "min       27360.00\n",
       "25%      640000.00\n",
       "50%      850000.00\n",
       "75%     1280437.50\n",
       "max     5000000.00\n",
       "Name: price, dtype: float64"
      ]
     },
     "execution_count": 209,
     "metadata": {},
     "output_type": "execute_result"
    }
   ],
   "source": [
    "model_clean.price.describe()"
   ]
  },
  {
   "cell_type": "code",
   "execution_count": 210,
   "metadata": {},
   "outputs": [
    {
     "data": {
      "image/png": "[encoded data removed]",
      "text/plain": [
       "<Figure size 432x288 with 1 Axes>"
      ]
     },
     "metadata": {
      "needs_background": "light"
     },
     "output_type": "display_data"
    }
   ],
   "source": [
    "sns.boxplot(data=model_clean[[\"price\"]], orient=\"h\", width=0.5);"
   ]
  },
  {
   "cell_type": "markdown",
   "metadata": {},
   "source": [
    "And another iteration."
   ]
  },
  {
   "cell_type": "code",
   "execution_count": 211,
   "metadata": {},
   "outputs": [
    {
     "name": "stderr",
     "output_type": "stream",
     "text": [
      "/opt/conda/lib/python3.9/site-packages/statsmodels/tsa/tsatools.py:142: FutureWarning: In a future version of pandas all arguments of concat except for the argument 'objs' will be keyword-only\n",
      "  x = pd.concat(x[::order], 1)\n"
     ]
    },
    {
     "data": {
      "text/html": [
       "<table class=\"simpletable\">\n",
       "<caption>OLS Regression Results</caption>\n",
       "<tr>\n",
       "  <th>Dep. Variable:</th>          <td>price</td>      <th>  R-squared:         </th>  <td>   0.492</td>  \n",
       "</tr>\n",
       "<tr>\n",
       "  <th>Model:</th>                   <td>OLS</td>       <th>  Adj. R-squared:    </th>  <td>   0.492</td>  \n",
       "</tr>\n",
       "<tr>\n",
       "  <th>Method:</th>             <td>Least Squares</td>  <th>  F-statistic:       </th>  <td>   2565.</td>  \n",
       "</tr>\n",
       "<tr>\n",
       "  <th>Date:</th>             <td>Thu, 29 Sep 2022</td> <th>  Prob (F-statistic):</th>   <td>  0.00</td>   \n",
       "</tr>\n",
       "<tr>\n",
       "  <th>Time:</th>                 <td>01:16:32</td>     <th>  Log-Likelihood:    </th> <td>-4.2130e+05</td>\n",
       "</tr>\n",
       "<tr>\n",
       "  <th>No. Observations:</th>      <td> 29119</td>      <th>  AIC:               </th>  <td>8.426e+05</td> \n",
       "</tr>\n",
       "<tr>\n",
       "  <th>Df Residuals:</th>          <td> 29107</td>      <th>  BIC:               </th>  <td>8.427e+05</td> \n",
       "</tr>\n",
       "<tr>\n",
       "  <th>Df Model:</th>              <td>    11</td>      <th>                     </th>      <td> </td>     \n",
       "</tr>\n",
       "<tr>\n",
       "  <th>Covariance Type:</th>      <td>nonrobust</td>    <th>                     </th>      <td> </td>     \n",
       "</tr>\n",
       "</table>\n",
       "<table class=\"simpletable\">\n",
       "<tr>\n",
       "           <td></td>              <th>coef</th>     <th>std err</th>      <th>t</th>      <th>P>|t|</th>  <th>[0.025</th>    <th>0.975]</th>  \n",
       "</tr>\n",
       "<tr>\n",
       "  <th>const</th>               <td>  9.91e+05</td> <td> 1.99e+04</td> <td>   49.773</td> <td> 0.000</td> <td> 9.52e+05</td> <td> 1.03e+06</td>\n",
       "</tr>\n",
       "<tr>\n",
       "  <th>bedrooms</th>            <td>-6.318e+04</td> <td> 3882.033</td> <td>  -16.274</td> <td> 0.000</td> <td>-7.08e+04</td> <td>-5.56e+04</td>\n",
       "</tr>\n",
       "<tr>\n",
       "  <th>bathrooms</th>           <td> 5.983e+04</td> <td> 5203.843</td> <td>   11.498</td> <td> 0.000</td> <td> 4.96e+04</td> <td>    7e+04</td>\n",
       "</tr>\n",
       "<tr>\n",
       "  <th>sqft_living</th>         <td>  197.7484</td> <td>   12.933</td> <td>   15.291</td> <td> 0.000</td> <td>  172.400</td> <td>  223.097</td>\n",
       "</tr>\n",
       "<tr>\n",
       "  <th>sqft_lot</th>            <td>   -0.5475</td> <td>    0.252</td> <td>   -2.171</td> <td> 0.030</td> <td>   -1.042</td> <td>   -0.053</td>\n",
       "</tr>\n",
       "<tr>\n",
       "  <th>sqft_above</th>          <td>  209.8646</td> <td>   12.736</td> <td>   16.478</td> <td> 0.000</td> <td>  184.901</td> <td>  234.828</td>\n",
       "</tr>\n",
       "<tr>\n",
       "  <th>sqft_basement</th>       <td>  170.8494</td> <td>    9.319</td> <td>   18.334</td> <td> 0.000</td> <td>  152.584</td> <td>  189.114</td>\n",
       "</tr>\n",
       "<tr>\n",
       "  <th>sqft_garage</th>         <td> -232.7244</td> <td>   12.321</td> <td>  -18.888</td> <td> 0.000</td> <td> -256.874</td> <td> -208.574</td>\n",
       "</tr>\n",
       "<tr>\n",
       "  <th>sqft_patio</th>          <td>  140.5328</td> <td>   13.150</td> <td>   10.687</td> <td> 0.000</td> <td>  114.758</td> <td>  166.308</td>\n",
       "</tr>\n",
       "<tr>\n",
       "  <th>grade_Average</th>       <td>-7.024e+05</td> <td>  1.4e+04</td> <td>  -50.012</td> <td> 0.000</td> <td> -7.3e+05</td> <td>-6.75e+05</td>\n",
       "</tr>\n",
       "<tr>\n",
       "  <th>grade_Below Average</th> <td>-7.705e+05</td> <td>  1.8e+04</td> <td>  -42.918</td> <td> 0.000</td> <td>-8.06e+05</td> <td>-7.35e+05</td>\n",
       "</tr>\n",
       "<tr>\n",
       "  <th>grade_Poor</th>          <td>-7.036e+05</td> <td> 2.69e+05</td> <td>   -2.616</td> <td> 0.009</td> <td>-1.23e+06</td> <td>-1.76e+05</td>\n",
       "</tr>\n",
       "</table>\n",
       "<table class=\"simpletable\">\n",
       "<tr>\n",
       "  <th>Omnibus:</th>       <td>9542.139</td> <th>  Durbin-Watson:     </th> <td>   1.959</td> \n",
       "</tr>\n",
       "<tr>\n",
       "  <th>Prob(Omnibus):</th>  <td> 0.000</td>  <th>  Jarque-Bera (JB):  </th> <td>71022.270</td>\n",
       "</tr>\n",
       "<tr>\n",
       "  <th>Skew:</th>           <td> 1.377</td>  <th>  Prob(JB):          </th> <td>    0.00</td> \n",
       "</tr>\n",
       "<tr>\n",
       "  <th>Kurtosis:</th>       <td>10.138</td>  <th>  Cond. No.          </th> <td>1.54e+06</td> \n",
       "</tr>\n",
       "</table><br/><br/>Notes:<br/>[1] Standard Errors assume that the covariance matrix of the errors is correctly specified.<br/>[2] The condition number is large, 1.54e+06. This might indicate that there are<br/>strong multicollinearity or other numerical problems."
      ],
      "text/plain": [
       "<class 'statsmodels.iolib.summary.Summary'>\n",
       "\"\"\"\n",
       "                            OLS Regression Results                            \n",
       "==============================================================================\n",
       "Dep. Variable:                  price   R-squared:                       0.492\n",
       "Model:                            OLS   Adj. R-squared:                  0.492\n",
       "Method:                 Least Squares   F-statistic:                     2565.\n",
       "Date:                Thu, 29 Sep 2022   Prob (F-statistic):               0.00\n",
       "Time:                        01:16:32   Log-Likelihood:            -4.2130e+05\n",
       "No. Observations:               29119   AIC:                         8.426e+05\n",
       "Df Residuals:                   29107   BIC:                         8.427e+05\n",
       "Df Model:                          11                                         \n",
       "Covariance Type:            nonrobust                                         \n",
       "=======================================================================================\n",
       "                          coef    std err          t      P>|t|      [0.025      0.975]\n",
       "---------------------------------------------------------------------------------------\n",
       "const                 9.91e+05   1.99e+04     49.773      0.000    9.52e+05    1.03e+06\n",
       "bedrooms            -6.318e+04   3882.033    -16.274      0.000   -7.08e+04   -5.56e+04\n",
       "bathrooms            5.983e+04   5203.843     11.498      0.000    4.96e+04       7e+04\n",
       "sqft_living           197.7484     12.933     15.291      0.000     172.400     223.097\n",
       "sqft_lot               -0.5475      0.252     -2.171      0.030      -1.042      -0.053\n",
       "sqft_above            209.8646     12.736     16.478      0.000     184.901     234.828\n",
       "sqft_basement         170.8494      9.319     18.334      0.000     152.584     189.114\n",
       "sqft_garage          -232.7244     12.321    -18.888      0.000    -256.874    -208.574\n",
       "sqft_patio            140.5328     13.150     10.687      0.000     114.758     166.308\n",
       "grade_Average       -7.024e+05    1.4e+04    -50.012      0.000    -7.3e+05   -6.75e+05\n",
       "grade_Below Average -7.705e+05    1.8e+04    -42.918      0.000   -8.06e+05   -7.35e+05\n",
       "grade_Poor          -7.036e+05   2.69e+05     -2.616      0.009   -1.23e+06   -1.76e+05\n",
       "==============================================================================\n",
       "Omnibus:                     9542.139   Durbin-Watson:                   1.959\n",
       "Prob(Omnibus):                  0.000   Jarque-Bera (JB):            71022.270\n",
       "Skew:                           1.377   Prob(JB):                         0.00\n",
       "Kurtosis:                      10.138   Cond. No.                     1.54e+06\n",
       "==============================================================================\n",
       "\n",
       "Notes:\n",
       "[1] Standard Errors assume that the covariance matrix of the errors is correctly specified.\n",
       "[2] The condition number is large, 1.54e+06. This might indicate that there are\n",
       "strong multicollinearity or other numerical problems.\n",
       "\"\"\""
      ]
     },
     "execution_count": 211,
     "metadata": {},
     "output_type": "execute_result"
    }
   ],
   "source": [
    "X=model_clean.drop(labels =['price', 'sale_year', 'floors'], axis=1)\n",
    "y=model_clean.price\n",
    "\n",
    "first_dummy_model = sm.OLS(y,sm.add_constant(X))\n",
    "results = first_dummy_model.fit()\n",
    "results.summary()"
   ]
  },
  {
   "cell_type": "markdown",
   "metadata": {},
   "source": [
    "Checking `bathrooms` for outliers.|"
   ]
  },
  {
   "cell_type": "code",
   "execution_count": 212,
   "metadata": {},
   "outputs": [
    {
     "data": {
      "text/plain": [
       "count   29119.00\n",
       "mean        2.32\n",
       "std         0.86\n",
       "min         0.50\n",
       "25%         2.00\n",
       "50%         2.50\n",
       "75%         3.00\n",
       "max        10.50\n",
       "Name: bathrooms, dtype: float64"
      ]
     },
     "execution_count": 212,
     "metadata": {},
     "output_type": "execute_result"
    }
   ],
   "source": [
    "model_clean.bathrooms.describe()"
   ]
  },
  {
   "cell_type": "code",
   "execution_count": 213,
   "metadata": {
    "scrolled": true
   },
   "outputs": [
    {
     "data": {
      "image/png": "[encoded data removed]",
      "text/plain": [
       "<Figure size 432x288 with 1 Axes>"
      ]
     },
     "metadata": {
      "needs_background": "light"
     },
     "output_type": "display_data"
    }
   ],
   "source": [
    "sns.boxplot(data=model_clean[[\"bathrooms\"]], orient=\"h\", width=0.5);"
   ]
  },
  {
   "cell_type": "code",
   "execution_count": 214,
   "metadata": {},
   "outputs": [
    {
     "data": {
      "text/plain": [
       "25"
      ]
     },
     "execution_count": 214,
     "metadata": {},
     "output_type": "execute_result"
    }
   ],
   "source": [
    "model_clean.bathrooms[model_clean[\"bathrooms\"] > 6].count()"
   ]
  },
  {
   "cell_type": "markdown",
   "metadata": {},
   "source": [
    "I think I'll cut out any rows that have over 4.5 bathrooms, that's only 56 rows. And we'll see how it looks after another model."
   ]
  },
  {
   "cell_type": "markdown",
   "metadata": {},
   "source": [
    "Removing any `bathrooms` over 4.5."
   ]
  },
  {
   "cell_type": "code",
   "execution_count": 215,
   "metadata": {},
   "outputs": [],
   "source": [
    "model_clean.drop(model_clean.index[model_clean['bathrooms'] > 6], inplace=True)"
   ]
  },
  {
   "cell_type": "markdown",
   "metadata": {},
   "source": [
    "Checking how it looks now."
   ]
  },
  {
   "cell_type": "code",
   "execution_count": 216,
   "metadata": {},
   "outputs": [
    {
     "data": {
      "text/plain": [
       "count   30068.00\n",
       "mean        2.34\n",
       "std         0.89\n",
       "min         0.50\n",
       "25%         2.00\n",
       "50%         2.50\n",
       "75%         3.00\n",
       "max        10.50\n",
       "Name: bathrooms, dtype: float64"
      ]
     },
     "execution_count": 216,
     "metadata": {},
     "output_type": "execute_result"
    }
   ],
   "source": [
    "data_clean.bathrooms.describe()"
   ]
  },
  {
   "cell_type": "code",
   "execution_count": 217,
   "metadata": {},
   "outputs": [
    {
     "data": {
      "image/png": "[encoded data removed]",
      "text/plain": [
       "<Figure size 432x288 with 1 Axes>"
      ]
     },
     "metadata": {
      "needs_background": "light"
     },
     "output_type": "display_data"
    }
   ],
   "source": [
    "sns.boxplot(data=model_clean[[\"bathrooms\"]], orient=\"h\", width=0.5);"
   ]
  },
  {
   "cell_type": "code",
   "execution_count": 218,
   "metadata": {},
   "outputs": [
    {
     "name": "stderr",
     "output_type": "stream",
     "text": [
      "/opt/conda/lib/python3.9/site-packages/statsmodels/tsa/tsatools.py:142: FutureWarning: In a future version of pandas all arguments of concat except for the argument 'objs' will be keyword-only\n",
      "  x = pd.concat(x[::order], 1)\n"
     ]
    },
    {
     "data": {
      "text/html": [
       "<table class=\"simpletable\">\n",
       "<caption>OLS Regression Results</caption>\n",
       "<tr>\n",
       "  <th>Dep. Variable:</th>          <td>price</td>      <th>  R-squared:         </th>  <td>   0.491</td>  \n",
       "</tr>\n",
       "<tr>\n",
       "  <th>Model:</th>                   <td>OLS</td>       <th>  Adj. R-squared:    </th>  <td>   0.490</td>  \n",
       "</tr>\n",
       "<tr>\n",
       "  <th>Method:</th>             <td>Least Squares</td>  <th>  F-statistic:       </th>  <td>   2546.</td>  \n",
       "</tr>\n",
       "<tr>\n",
       "  <th>Date:</th>             <td>Thu, 29 Sep 2022</td> <th>  Prob (F-statistic):</th>   <td>  0.00</td>   \n",
       "</tr>\n",
       "<tr>\n",
       "  <th>Time:</th>                 <td>01:16:32</td>     <th>  Log-Likelihood:    </th> <td>-4.2090e+05</td>\n",
       "</tr>\n",
       "<tr>\n",
       "  <th>No. Observations:</th>      <td> 29094</td>      <th>  AIC:               </th>  <td>8.418e+05</td> \n",
       "</tr>\n",
       "<tr>\n",
       "  <th>Df Residuals:</th>          <td> 29082</td>      <th>  BIC:               </th>  <td>8.419e+05</td> \n",
       "</tr>\n",
       "<tr>\n",
       "  <th>Df Model:</th>              <td>    11</td>      <th>                     </th>      <td> </td>     \n",
       "</tr>\n",
       "<tr>\n",
       "  <th>Covariance Type:</th>      <td>nonrobust</td>    <th>                     </th>      <td> </td>     \n",
       "</tr>\n",
       "</table>\n",
       "<table class=\"simpletable\">\n",
       "<tr>\n",
       "           <td></td>              <th>coef</th>     <th>std err</th>      <th>t</th>      <th>P>|t|</th>  <th>[0.025</th>    <th>0.975]</th>  \n",
       "</tr>\n",
       "<tr>\n",
       "  <th>const</th>               <td> 9.777e+05</td> <td>    2e+04</td> <td>   48.898</td> <td> 0.000</td> <td> 9.39e+05</td> <td> 1.02e+06</td>\n",
       "</tr>\n",
       "<tr>\n",
       "  <th>bedrooms</th>            <td>-6.361e+04</td> <td> 3893.319</td> <td>  -16.339</td> <td> 0.000</td> <td>-7.12e+04</td> <td> -5.6e+04</td>\n",
       "</tr>\n",
       "<tr>\n",
       "  <th>bathrooms</th>           <td> 6.082e+04</td> <td> 5262.692</td> <td>   11.557</td> <td> 0.000</td> <td> 5.05e+04</td> <td> 7.11e+04</td>\n",
       "</tr>\n",
       "<tr>\n",
       "  <th>sqft_living</th>         <td>  200.3253</td> <td>   12.966</td> <td>   15.450</td> <td> 0.000</td> <td>  174.911</td> <td>  225.740</td>\n",
       "</tr>\n",
       "<tr>\n",
       "  <th>sqft_lot</th>            <td>   -0.4767</td> <td>    0.252</td> <td>   -1.891</td> <td> 0.059</td> <td>   -0.971</td> <td>    0.017</td>\n",
       "</tr>\n",
       "<tr>\n",
       "  <th>sqft_above</th>          <td>  211.6655</td> <td>   12.747</td> <td>   16.605</td> <td> 0.000</td> <td>  186.681</td> <td>  236.650</td>\n",
       "</tr>\n",
       "<tr>\n",
       "  <th>sqft_basement</th>       <td>  171.5096</td> <td>    9.315</td> <td>   18.412</td> <td> 0.000</td> <td>  153.252</td> <td>  189.767</td>\n",
       "</tr>\n",
       "<tr>\n",
       "  <th>sqft_garage</th>         <td> -235.3754</td> <td>   12.326</td> <td>  -19.096</td> <td> 0.000</td> <td> -259.535</td> <td> -211.216</td>\n",
       "</tr>\n",
       "<tr>\n",
       "  <th>sqft_patio</th>          <td>  139.3755</td> <td>   13.161</td> <td>   10.590</td> <td> 0.000</td> <td>  113.579</td> <td>  165.171</td>\n",
       "</tr>\n",
       "<tr>\n",
       "  <th>grade_Average</th>       <td>-6.982e+05</td> <td> 1.41e+04</td> <td>  -49.683</td> <td> 0.000</td> <td>-7.26e+05</td> <td>-6.71e+05</td>\n",
       "</tr>\n",
       "<tr>\n",
       "  <th>grade_Below Average</th> <td>-7.629e+05</td> <td>  1.8e+04</td> <td>  -42.464</td> <td> 0.000</td> <td>-7.98e+05</td> <td>-7.28e+05</td>\n",
       "</tr>\n",
       "<tr>\n",
       "  <th>grade_Poor</th>          <td>-6.947e+05</td> <td> 2.69e+05</td> <td>   -2.586</td> <td> 0.010</td> <td>-1.22e+06</td> <td>-1.68e+05</td>\n",
       "</tr>\n",
       "</table>\n",
       "<table class=\"simpletable\">\n",
       "<tr>\n",
       "  <th>Omnibus:</th>       <td>9546.075</td> <th>  Durbin-Watson:     </th> <td>   1.959</td> \n",
       "</tr>\n",
       "<tr>\n",
       "  <th>Prob(Omnibus):</th>  <td> 0.000</td>  <th>  Jarque-Bera (JB):  </th> <td>70486.588</td>\n",
       "</tr>\n",
       "<tr>\n",
       "  <th>Skew:</th>           <td> 1.382</td>  <th>  Prob(JB):          </th> <td>    0.00</td> \n",
       "</tr>\n",
       "<tr>\n",
       "  <th>Kurtosis:</th>       <td>10.107</td>  <th>  Cond. No.          </th> <td>1.53e+06</td> \n",
       "</tr>\n",
       "</table><br/><br/>Notes:<br/>[1] Standard Errors assume that the covariance matrix of the errors is correctly specified.<br/>[2] The condition number is large, 1.53e+06. This might indicate that there are<br/>strong multicollinearity or other numerical problems."
      ],
      "text/plain": [
       "<class 'statsmodels.iolib.summary.Summary'>\n",
       "\"\"\"\n",
       "                            OLS Regression Results                            \n",
       "==============================================================================\n",
       "Dep. Variable:                  price   R-squared:                       0.491\n",
       "Model:                            OLS   Adj. R-squared:                  0.490\n",
       "Method:                 Least Squares   F-statistic:                     2546.\n",
       "Date:                Thu, 29 Sep 2022   Prob (F-statistic):               0.00\n",
       "Time:                        01:16:32   Log-Likelihood:            -4.2090e+05\n",
       "No. Observations:               29094   AIC:                         8.418e+05\n",
       "Df Residuals:                   29082   BIC:                         8.419e+05\n",
       "Df Model:                          11                                         \n",
       "Covariance Type:            nonrobust                                         \n",
       "=======================================================================================\n",
       "                          coef    std err          t      P>|t|      [0.025      0.975]\n",
       "---------------------------------------------------------------------------------------\n",
       "const                9.777e+05      2e+04     48.898      0.000    9.39e+05    1.02e+06\n",
       "bedrooms            -6.361e+04   3893.319    -16.339      0.000   -7.12e+04    -5.6e+04\n",
       "bathrooms            6.082e+04   5262.692     11.557      0.000    5.05e+04    7.11e+04\n",
       "sqft_living           200.3253     12.966     15.450      0.000     174.911     225.740\n",
       "sqft_lot               -0.4767      0.252     -1.891      0.059      -0.971       0.017\n",
       "sqft_above            211.6655     12.747     16.605      0.000     186.681     236.650\n",
       "sqft_basement         171.5096      9.315     18.412      0.000     153.252     189.767\n",
       "sqft_garage          -235.3754     12.326    -19.096      0.000    -259.535    -211.216\n",
       "sqft_patio            139.3755     13.161     10.590      0.000     113.579     165.171\n",
       "grade_Average       -6.982e+05   1.41e+04    -49.683      0.000   -7.26e+05   -6.71e+05\n",
       "grade_Below Average -7.629e+05    1.8e+04    -42.464      0.000   -7.98e+05   -7.28e+05\n",
       "grade_Poor          -6.947e+05   2.69e+05     -2.586      0.010   -1.22e+06   -1.68e+05\n",
       "==============================================================================\n",
       "Omnibus:                     9546.075   Durbin-Watson:                   1.959\n",
       "Prob(Omnibus):                  0.000   Jarque-Bera (JB):            70486.588\n",
       "Skew:                           1.382   Prob(JB):                         0.00\n",
       "Kurtosis:                      10.107   Cond. No.                     1.53e+06\n",
       "==============================================================================\n",
       "\n",
       "Notes:\n",
       "[1] Standard Errors assume that the covariance matrix of the errors is correctly specified.\n",
       "[2] The condition number is large, 1.53e+06. This might indicate that there are\n",
       "strong multicollinearity or other numerical problems.\n",
       "\"\"\""
      ]
     },
     "execution_count": 218,
     "metadata": {},
     "output_type": "execute_result"
    }
   ],
   "source": [
    "X=model_clean.drop(labels =['price', 'sale_year', 'floors'], axis=1)\n",
    "y=model_clean.price\n",
    "\n",
    "first_dummy_model = sm.OLS(y,sm.add_constant(X))\n",
    "results = first_dummy_model.fit()\n",
    "results.summary()"
   ]
  },
  {
   "cell_type": "markdown",
   "metadata": {},
   "source": [
    "Okay, adjusting `bathrooms` seems weird. Let's try the model without `bathrooms`, since it is correlating with other variables."
   ]
  },
  {
   "cell_type": "code",
   "execution_count": 219,
   "metadata": {},
   "outputs": [
    {
     "name": "stderr",
     "output_type": "stream",
     "text": [
      "/opt/conda/lib/python3.9/site-packages/statsmodels/tsa/tsatools.py:142: FutureWarning: In a future version of pandas all arguments of concat except for the argument 'objs' will be keyword-only\n",
      "  x = pd.concat(x[::order], 1)\n"
     ]
    },
    {
     "data": {
      "text/html": [
       "<table class=\"simpletable\">\n",
       "<caption>OLS Regression Results</caption>\n",
       "<tr>\n",
       "  <th>Dep. Variable:</th>          <td>price</td>      <th>  R-squared:         </th>  <td>   0.488</td>  \n",
       "</tr>\n",
       "<tr>\n",
       "  <th>Model:</th>                   <td>OLS</td>       <th>  Adj. R-squared:    </th>  <td>   0.488</td>  \n",
       "</tr>\n",
       "<tr>\n",
       "  <th>Method:</th>             <td>Least Squares</td>  <th>  F-statistic:       </th>  <td>   2775.</td>  \n",
       "</tr>\n",
       "<tr>\n",
       "  <th>Date:</th>             <td>Thu, 29 Sep 2022</td> <th>  Prob (F-statistic):</th>   <td>  0.00</td>   \n",
       "</tr>\n",
       "<tr>\n",
       "  <th>Time:</th>                 <td>01:16:32</td>     <th>  Log-Likelihood:    </th> <td>-4.2096e+05</td>\n",
       "</tr>\n",
       "<tr>\n",
       "  <th>No. Observations:</th>      <td> 29094</td>      <th>  AIC:               </th>  <td>8.420e+05</td> \n",
       "</tr>\n",
       "<tr>\n",
       "  <th>Df Residuals:</th>          <td> 29083</td>      <th>  BIC:               </th>  <td>8.420e+05</td> \n",
       "</tr>\n",
       "<tr>\n",
       "  <th>Df Model:</th>              <td>    10</td>      <th>                     </th>      <td> </td>     \n",
       "</tr>\n",
       "<tr>\n",
       "  <th>Covariance Type:</th>      <td>nonrobust</td>    <th>                     </th>      <td> </td>     \n",
       "</tr>\n",
       "</table>\n",
       "<table class=\"simpletable\">\n",
       "<tr>\n",
       "           <td></td>              <th>coef</th>     <th>std err</th>      <th>t</th>      <th>P>|t|</th>  <th>[0.025</th>    <th>0.975]</th>  \n",
       "</tr>\n",
       "<tr>\n",
       "  <th>const</th>               <td> 1.026e+06</td> <td> 1.96e+04</td> <td>   52.301</td> <td> 0.000</td> <td> 9.87e+05</td> <td> 1.06e+06</td>\n",
       "</tr>\n",
       "<tr>\n",
       "  <th>bedrooms</th>            <td>-5.684e+04</td> <td> 3857.687</td> <td>  -14.734</td> <td> 0.000</td> <td>-6.44e+04</td> <td>-4.93e+04</td>\n",
       "</tr>\n",
       "<tr>\n",
       "  <th>sqft_living</th>         <td>  243.9238</td> <td>   12.433</td> <td>   19.618</td> <td> 0.000</td> <td>  219.554</td> <td>  268.294</td>\n",
       "</tr>\n",
       "<tr>\n",
       "  <th>sqft_lot</th>            <td>   -0.9357</td> <td>    0.250</td> <td>   -3.750</td> <td> 0.000</td> <td>   -1.425</td> <td>   -0.447</td>\n",
       "</tr>\n",
       "<tr>\n",
       "  <th>sqft_above</th>          <td>  201.1491</td> <td>   12.743</td> <td>   15.785</td> <td> 0.000</td> <td>  176.172</td> <td>  226.127</td>\n",
       "</tr>\n",
       "<tr>\n",
       "  <th>sqft_basement</th>       <td>  164.6460</td> <td>    9.317</td> <td>   17.671</td> <td> 0.000</td> <td>  146.384</td> <td>  182.908</td>\n",
       "</tr>\n",
       "<tr>\n",
       "  <th>sqft_garage</th>         <td> -218.8418</td> <td>   12.270</td> <td>  -17.835</td> <td> 0.000</td> <td> -242.892</td> <td> -194.791</td>\n",
       "</tr>\n",
       "<tr>\n",
       "  <th>sqft_patio</th>          <td>  151.6650</td> <td>   13.148</td> <td>   11.535</td> <td> 0.000</td> <td>  125.895</td> <td>  177.435</td>\n",
       "</tr>\n",
       "<tr>\n",
       "  <th>grade_Average</th>       <td>-6.978e+05</td> <td> 1.41e+04</td> <td>  -49.545</td> <td> 0.000</td> <td>-7.25e+05</td> <td> -6.7e+05</td>\n",
       "</tr>\n",
       "<tr>\n",
       "  <th>grade_Below Average</th> <td>-7.836e+05</td> <td> 1.79e+04</td> <td>  -43.740</td> <td> 0.000</td> <td>-8.19e+05</td> <td>-7.49e+05</td>\n",
       "</tr>\n",
       "<tr>\n",
       "  <th>grade_Poor</th>          <td>-6.968e+05</td> <td> 2.69e+05</td> <td>   -2.588</td> <td> 0.010</td> <td>-1.22e+06</td> <td>-1.69e+05</td>\n",
       "</tr>\n",
       "</table>\n",
       "<table class=\"simpletable\">\n",
       "<tr>\n",
       "  <th>Omnibus:</th>       <td>9513.759</td> <th>  Durbin-Watson:     </th> <td>   1.959</td> \n",
       "</tr>\n",
       "<tr>\n",
       "  <th>Prob(Omnibus):</th>  <td> 0.000</td>  <th>  Jarque-Bera (JB):  </th> <td>69961.858</td>\n",
       "</tr>\n",
       "<tr>\n",
       "  <th>Skew:</th>           <td> 1.378</td>  <th>  Prob(JB):          </th> <td>    0.00</td> \n",
       "</tr>\n",
       "<tr>\n",
       "  <th>Kurtosis:</th>       <td>10.080</td>  <th>  Cond. No.          </th> <td>1.53e+06</td> \n",
       "</tr>\n",
       "</table><br/><br/>Notes:<br/>[1] Standard Errors assume that the covariance matrix of the errors is correctly specified.<br/>[2] The condition number is large, 1.53e+06. This might indicate that there are<br/>strong multicollinearity or other numerical problems."
      ],
      "text/plain": [
       "<class 'statsmodels.iolib.summary.Summary'>\n",
       "\"\"\"\n",
       "                            OLS Regression Results                            \n",
       "==============================================================================\n",
       "Dep. Variable:                  price   R-squared:                       0.488\n",
       "Model:                            OLS   Adj. R-squared:                  0.488\n",
       "Method:                 Least Squares   F-statistic:                     2775.\n",
       "Date:                Thu, 29 Sep 2022   Prob (F-statistic):               0.00\n",
       "Time:                        01:16:32   Log-Likelihood:            -4.2096e+05\n",
       "No. Observations:               29094   AIC:                         8.420e+05\n",
       "Df Residuals:                   29083   BIC:                         8.420e+05\n",
       "Df Model:                          10                                         \n",
       "Covariance Type:            nonrobust                                         \n",
       "=======================================================================================\n",
       "                          coef    std err          t      P>|t|      [0.025      0.975]\n",
       "---------------------------------------------------------------------------------------\n",
       "const                1.026e+06   1.96e+04     52.301      0.000    9.87e+05    1.06e+06\n",
       "bedrooms            -5.684e+04   3857.687    -14.734      0.000   -6.44e+04   -4.93e+04\n",
       "sqft_living           243.9238     12.433     19.618      0.000     219.554     268.294\n",
       "sqft_lot               -0.9357      0.250     -3.750      0.000      -1.425      -0.447\n",
       "sqft_above            201.1491     12.743     15.785      0.000     176.172     226.127\n",
       "sqft_basement         164.6460      9.317     17.671      0.000     146.384     182.908\n",
       "sqft_garage          -218.8418     12.270    -17.835      0.000    -242.892    -194.791\n",
       "sqft_patio            151.6650     13.148     11.535      0.000     125.895     177.435\n",
       "grade_Average       -6.978e+05   1.41e+04    -49.545      0.000   -7.25e+05    -6.7e+05\n",
       "grade_Below Average -7.836e+05   1.79e+04    -43.740      0.000   -8.19e+05   -7.49e+05\n",
       "grade_Poor          -6.968e+05   2.69e+05     -2.588      0.010   -1.22e+06   -1.69e+05\n",
       "==============================================================================\n",
       "Omnibus:                     9513.759   Durbin-Watson:                   1.959\n",
       "Prob(Omnibus):                  0.000   Jarque-Bera (JB):            69961.858\n",
       "Skew:                           1.378   Prob(JB):                         0.00\n",
       "Kurtosis:                      10.080   Cond. No.                     1.53e+06\n",
       "==============================================================================\n",
       "\n",
       "Notes:\n",
       "[1] Standard Errors assume that the covariance matrix of the errors is correctly specified.\n",
       "[2] The condition number is large, 1.53e+06. This might indicate that there are\n",
       "strong multicollinearity or other numerical problems.\n",
       "\"\"\""
      ]
     },
     "execution_count": 219,
     "metadata": {},
     "output_type": "execute_result"
    }
   ],
   "source": [
    "X=model_clean.drop(labels =['price', 'sale_year', 'floors', 'bathrooms'], axis=1)\n",
    "y=model_clean.price\n",
    "\n",
    "first_dummy_model = sm.OLS(y,sm.add_constant(X))\n",
    "results = first_dummy_model.fit()\n",
    "results.summary()"
   ]
  },
  {
   "cell_type": "markdown",
   "metadata": {},
   "source": [
    "Well, removing bathrooms only changed our R-value by .002. So lets not use it for now."
   ]
  },
  {
   "cell_type": "markdown",
   "metadata": {},
   "source": [
    "Let's see how 'sqft_patio' fares against `price` in a plot."
   ]
  },
  {
   "cell_type": "code",
   "execution_count": 220,
   "metadata": {},
   "outputs": [
    {
     "data": {
      "image/png": "[encoded data removed]",
      "text/plain": [
       "<Figure size 432x288 with 1 Axes>"
      ]
     },
     "metadata": {
      "needs_background": "light"
     },
     "output_type": "display_data"
    }
   ],
   "source": [
    "model_clean.plot(x=\"sqft_patio\", y=\"price\", kind=\"scatter\");"
   ]
  },
  {
   "cell_type": "markdown",
   "metadata": {},
   "source": [
    "Well, that doesn't seem to have a visible relationship, so lets not include that in our model for now."
   ]
  },
  {
   "cell_type": "code",
   "execution_count": 221,
   "metadata": {},
   "outputs": [
    {
     "name": "stderr",
     "output_type": "stream",
     "text": [
      "/opt/conda/lib/python3.9/site-packages/statsmodels/tsa/tsatools.py:142: FutureWarning: In a future version of pandas all arguments of concat except for the argument 'objs' will be keyword-only\n",
      "  x = pd.concat(x[::order], 1)\n"
     ]
    },
    {
     "data": {
      "text/html": [
       "<table class=\"simpletable\">\n",
       "<caption>OLS Regression Results</caption>\n",
       "<tr>\n",
       "  <th>Dep. Variable:</th>          <td>price</td>      <th>  R-squared:         </th>  <td>   0.486</td>  \n",
       "</tr>\n",
       "<tr>\n",
       "  <th>Model:</th>                   <td>OLS</td>       <th>  Adj. R-squared:    </th>  <td>   0.486</td>  \n",
       "</tr>\n",
       "<tr>\n",
       "  <th>Method:</th>             <td>Least Squares</td>  <th>  F-statistic:       </th>  <td>   3055.</td>  \n",
       "</tr>\n",
       "<tr>\n",
       "  <th>Date:</th>             <td>Thu, 29 Sep 2022</td> <th>  Prob (F-statistic):</th>   <td>  0.00</td>   \n",
       "</tr>\n",
       "<tr>\n",
       "  <th>Time:</th>                 <td>01:16:33</td>     <th>  Log-Likelihood:    </th> <td>-4.2103e+05</td>\n",
       "</tr>\n",
       "<tr>\n",
       "  <th>No. Observations:</th>      <td> 29094</td>      <th>  AIC:               </th>  <td>8.421e+05</td> \n",
       "</tr>\n",
       "<tr>\n",
       "  <th>Df Residuals:</th>          <td> 29084</td>      <th>  BIC:               </th>  <td>8.422e+05</td> \n",
       "</tr>\n",
       "<tr>\n",
       "  <th>Df Model:</th>              <td>     9</td>      <th>                     </th>      <td> </td>     \n",
       "</tr>\n",
       "<tr>\n",
       "  <th>Covariance Type:</th>      <td>nonrobust</td>    <th>                     </th>      <td> </td>     \n",
       "</tr>\n",
       "</table>\n",
       "<table class=\"simpletable\">\n",
       "<tr>\n",
       "           <td></td>              <th>coef</th>     <th>std err</th>      <th>t</th>      <th>P>|t|</th>  <th>[0.025</th>    <th>0.975]</th>  \n",
       "</tr>\n",
       "<tr>\n",
       "  <th>const</th>               <td> 1.045e+06</td> <td> 1.96e+04</td> <td>   53.344</td> <td> 0.000</td> <td> 1.01e+06</td> <td> 1.08e+06</td>\n",
       "</tr>\n",
       "<tr>\n",
       "  <th>bedrooms</th>            <td>-6.041e+04</td> <td> 3853.931</td> <td>  -15.676</td> <td> 0.000</td> <td> -6.8e+04</td> <td>-5.29e+04</td>\n",
       "</tr>\n",
       "<tr>\n",
       "  <th>sqft_living</th>         <td>  262.7855</td> <td>   12.353</td> <td>   21.272</td> <td> 0.000</td> <td>  238.572</td> <td>  286.999</td>\n",
       "</tr>\n",
       "<tr>\n",
       "  <th>sqft_lot</th>            <td>   -0.4181</td> <td>    0.246</td> <td>   -1.699</td> <td> 0.089</td> <td>   -0.900</td> <td>    0.064</td>\n",
       "</tr>\n",
       "<tr>\n",
       "  <th>sqft_above</th>          <td>  194.0084</td> <td>   12.757</td> <td>   15.208</td> <td> 0.000</td> <td>  169.004</td> <td>  219.013</td>\n",
       "</tr>\n",
       "<tr>\n",
       "  <th>sqft_basement</th>       <td>  166.9235</td> <td>    9.336</td> <td>   17.879</td> <td> 0.000</td> <td>  148.624</td> <td>  185.223</td>\n",
       "</tr>\n",
       "<tr>\n",
       "  <th>sqft_garage</th>         <td> -218.5774</td> <td>   12.298</td> <td>  -17.773</td> <td> 0.000</td> <td> -242.683</td> <td> -194.472</td>\n",
       "</tr>\n",
       "<tr>\n",
       "  <th>grade_Average</th>       <td>-7.056e+05</td> <td> 1.41e+04</td> <td>  -50.042</td> <td> 0.000</td> <td>-7.33e+05</td> <td>-6.78e+05</td>\n",
       "</tr>\n",
       "<tr>\n",
       "  <th>grade_Below Average</th> <td>-7.976e+05</td> <td> 1.79e+04</td> <td>  -44.520</td> <td> 0.000</td> <td>-8.33e+05</td> <td>-7.62e+05</td>\n",
       "</tr>\n",
       "<tr>\n",
       "  <th>grade_Poor</th>          <td>-7.214e+05</td> <td>  2.7e+05</td> <td>   -2.673</td> <td> 0.008</td> <td>-1.25e+06</td> <td>-1.93e+05</td>\n",
       "</tr>\n",
       "</table>\n",
       "<table class=\"simpletable\">\n",
       "<tr>\n",
       "  <th>Omnibus:</th>       <td>9523.654</td> <th>  Durbin-Watson:     </th> <td>   1.959</td> \n",
       "</tr>\n",
       "<tr>\n",
       "  <th>Prob(Omnibus):</th>  <td> 0.000</td>  <th>  Jarque-Bera (JB):  </th> <td>69407.526</td>\n",
       "</tr>\n",
       "<tr>\n",
       "  <th>Skew:</th>           <td> 1.382</td>  <th>  Prob(JB):          </th> <td>    0.00</td> \n",
       "</tr>\n",
       "<tr>\n",
       "  <th>Kurtosis:</th>       <td>10.044</td>  <th>  Cond. No.          </th> <td>1.53e+06</td> \n",
       "</tr>\n",
       "</table><br/><br/>Notes:<br/>[1] Standard Errors assume that the covariance matrix of the errors is correctly specified.<br/>[2] The condition number is large, 1.53e+06. This might indicate that there are<br/>strong multicollinearity or other numerical problems."
      ],
      "text/plain": [
       "<class 'statsmodels.iolib.summary.Summary'>\n",
       "\"\"\"\n",
       "                            OLS Regression Results                            \n",
       "==============================================================================\n",
       "Dep. Variable:                  price   R-squared:                       0.486\n",
       "Model:                            OLS   Adj. R-squared:                  0.486\n",
       "Method:                 Least Squares   F-statistic:                     3055.\n",
       "Date:                Thu, 29 Sep 2022   Prob (F-statistic):               0.00\n",
       "Time:                        01:16:33   Log-Likelihood:            -4.2103e+05\n",
       "No. Observations:               29094   AIC:                         8.421e+05\n",
       "Df Residuals:                   29084   BIC:                         8.422e+05\n",
       "Df Model:                           9                                         \n",
       "Covariance Type:            nonrobust                                         \n",
       "=======================================================================================\n",
       "                          coef    std err          t      P>|t|      [0.025      0.975]\n",
       "---------------------------------------------------------------------------------------\n",
       "const                1.045e+06   1.96e+04     53.344      0.000    1.01e+06    1.08e+06\n",
       "bedrooms            -6.041e+04   3853.931    -15.676      0.000    -6.8e+04   -5.29e+04\n",
       "sqft_living           262.7855     12.353     21.272      0.000     238.572     286.999\n",
       "sqft_lot               -0.4181      0.246     -1.699      0.089      -0.900       0.064\n",
       "sqft_above            194.0084     12.757     15.208      0.000     169.004     219.013\n",
       "sqft_basement         166.9235      9.336     17.879      0.000     148.624     185.223\n",
       "sqft_garage          -218.5774     12.298    -17.773      0.000    -242.683    -194.472\n",
       "grade_Average       -7.056e+05   1.41e+04    -50.042      0.000   -7.33e+05   -6.78e+05\n",
       "grade_Below Average -7.976e+05   1.79e+04    -44.520      0.000   -8.33e+05   -7.62e+05\n",
       "grade_Poor          -7.214e+05    2.7e+05     -2.673      0.008   -1.25e+06   -1.93e+05\n",
       "==============================================================================\n",
       "Omnibus:                     9523.654   Durbin-Watson:                   1.959\n",
       "Prob(Omnibus):                  0.000   Jarque-Bera (JB):            69407.526\n",
       "Skew:                           1.382   Prob(JB):                         0.00\n",
       "Kurtosis:                      10.044   Cond. No.                     1.53e+06\n",
       "==============================================================================\n",
       "\n",
       "Notes:\n",
       "[1] Standard Errors assume that the covariance matrix of the errors is correctly specified.\n",
       "[2] The condition number is large, 1.53e+06. This might indicate that there are\n",
       "strong multicollinearity or other numerical problems.\n",
       "\"\"\""
      ]
     },
     "execution_count": 221,
     "metadata": {},
     "output_type": "execute_result"
    }
   ],
   "source": [
    "X=model_clean.drop(labels =['price', 'sale_year', 'floors', 'bathrooms', 'sqft_patio'], axis=1)\n",
    "y=model_clean.price\n",
    "\n",
    "first_dummy_model = sm.OLS(y,sm.add_constant(X))\n",
    "results = first_dummy_model.fit()\n",
    "results.summary()"
   ]
  },
  {
   "cell_type": "markdown",
   "metadata": {},
   "source": [
    "R-Value lowered again. Let's look at our heatmap again."
   ]
  },
  {
   "cell_type": "code",
   "execution_count": 222,
   "metadata": {},
   "outputs": [
    {
     "data": {
      "text/plain": [
       "<AxesSubplot:>"
      ]
     },
     "execution_count": 222,
     "metadata": {},
     "output_type": "execute_result"
    },
    {
     "data": {
      "image/png": "[encoded data removed]",
      "text/plain": [
       "<Figure size 432x288 with 2 Axes>"
      ]
     },
     "metadata": {
      "needs_background": "light"
     },
     "output_type": "display_data"
    }
   ],
   "source": [
    "sns.heatmap(X.corr())"
   ]
  },
  {
   "cell_type": "markdown",
   "metadata": {},
   "source": [
    "Let's remove `sqft_above` since it has a high coorelation to `sqft_lot`."
   ]
  },
  {
   "cell_type": "code",
   "execution_count": 223,
   "metadata": {},
   "outputs": [
    {
     "name": "stderr",
     "output_type": "stream",
     "text": [
      "/opt/conda/lib/python3.9/site-packages/statsmodels/tsa/tsatools.py:142: FutureWarning: In a future version of pandas all arguments of concat except for the argument 'objs' will be keyword-only\n",
      "  x = pd.concat(x[::order], 1)\n"
     ]
    },
    {
     "data": {
      "text/html": [
       "<table class=\"simpletable\">\n",
       "<caption>OLS Regression Results</caption>\n",
       "<tr>\n",
       "  <th>Dep. Variable:</th>          <td>price</td>      <th>  R-squared:         </th>  <td>   0.482</td>  \n",
       "</tr>\n",
       "<tr>\n",
       "  <th>Model:</th>                   <td>OLS</td>       <th>  Adj. R-squared:    </th>  <td>   0.482</td>  \n",
       "</tr>\n",
       "<tr>\n",
       "  <th>Method:</th>             <td>Least Squares</td>  <th>  F-statistic:       </th>  <td>   3381.</td>  \n",
       "</tr>\n",
       "<tr>\n",
       "  <th>Date:</th>             <td>Thu, 29 Sep 2022</td> <th>  Prob (F-statistic):</th>   <td>  0.00</td>   \n",
       "</tr>\n",
       "<tr>\n",
       "  <th>Time:</th>                 <td>01:16:33</td>     <th>  Log-Likelihood:    </th> <td>-4.2115e+05</td>\n",
       "</tr>\n",
       "<tr>\n",
       "  <th>No. Observations:</th>      <td> 29094</td>      <th>  AIC:               </th>  <td>8.423e+05</td> \n",
       "</tr>\n",
       "<tr>\n",
       "  <th>Df Residuals:</th>          <td> 29085</td>      <th>  BIC:               </th>  <td>8.424e+05</td> \n",
       "</tr>\n",
       "<tr>\n",
       "  <th>Df Model:</th>              <td>     8</td>      <th>                     </th>      <td> </td>     \n",
       "</tr>\n",
       "<tr>\n",
       "  <th>Covariance Type:</th>      <td>nonrobust</td>    <th>                     </th>      <td> </td>     \n",
       "</tr>\n",
       "</table>\n",
       "<table class=\"simpletable\">\n",
       "<tr>\n",
       "           <td></td>              <th>coef</th>     <th>std err</th>      <th>t</th>      <th>P>|t|</th>  <th>[0.025</th>    <th>0.975]</th>  \n",
       "</tr>\n",
       "<tr>\n",
       "  <th>const</th>               <td> 1.098e+06</td> <td> 1.93e+04</td> <td>   56.739</td> <td> 0.000</td> <td> 1.06e+06</td> <td> 1.14e+06</td>\n",
       "</tr>\n",
       "<tr>\n",
       "  <th>bedrooms</th>            <td>-6.132e+04</td> <td> 3868.691</td> <td>  -15.851</td> <td> 0.000</td> <td>-6.89e+04</td> <td>-5.37e+04</td>\n",
       "</tr>\n",
       "<tr>\n",
       "  <th>sqft_living</th>         <td>  433.2417</td> <td>    5.214</td> <td>   83.086</td> <td> 0.000</td> <td>  423.021</td> <td>  443.462</td>\n",
       "</tr>\n",
       "<tr>\n",
       "  <th>sqft_lot</th>            <td>   -0.4577</td> <td>    0.247</td> <td>   -1.853</td> <td> 0.064</td> <td>   -0.942</td> <td>    0.026</td>\n",
       "</tr>\n",
       "<tr>\n",
       "  <th>sqft_basement</th>       <td>   49.3675</td> <td>    5.256</td> <td>    9.392</td> <td> 0.000</td> <td>   39.065</td> <td>   59.670</td>\n",
       "</tr>\n",
       "<tr>\n",
       "  <th>sqft_garage</th>         <td> -180.0316</td> <td>   12.082</td> <td>  -14.901</td> <td> 0.000</td> <td> -203.712</td> <td> -156.351</td>\n",
       "</tr>\n",
       "<tr>\n",
       "  <th>grade_Average</th>       <td>-7.222e+05</td> <td> 1.41e+04</td> <td>  -51.173</td> <td> 0.000</td> <td> -7.5e+05</td> <td>-6.95e+05</td>\n",
       "</tr>\n",
       "<tr>\n",
       "  <th>grade_Below Average</th> <td>-8.146e+05</td> <td>  1.8e+04</td> <td>  -45.377</td> <td> 0.000</td> <td> -8.5e+05</td> <td>-7.79e+05</td>\n",
       "</tr>\n",
       "<tr>\n",
       "  <th>grade_Poor</th>          <td>-7.526e+05</td> <td> 2.71e+05</td> <td>   -2.778</td> <td> 0.005</td> <td>-1.28e+06</td> <td>-2.22e+05</td>\n",
       "</tr>\n",
       "</table>\n",
       "<table class=\"simpletable\">\n",
       "<tr>\n",
       "  <th>Omnibus:</th>       <td>9602.761</td> <th>  Durbin-Watson:     </th> <td>   1.958</td> \n",
       "</tr>\n",
       "<tr>\n",
       "  <th>Prob(Omnibus):</th>  <td> 0.000</td>  <th>  Jarque-Bera (JB):  </th> <td>69444.349</td>\n",
       "</tr>\n",
       "<tr>\n",
       "  <th>Skew:</th>           <td> 1.398</td>  <th>  Prob(JB):          </th> <td>    0.00</td> \n",
       "</tr>\n",
       "<tr>\n",
       "  <th>Kurtosis:</th>       <td>10.033</td>  <th>  Cond. No.          </th> <td>1.53e+06</td> \n",
       "</tr>\n",
       "</table><br/><br/>Notes:<br/>[1] Standard Errors assume that the covariance matrix of the errors is correctly specified.<br/>[2] The condition number is large, 1.53e+06. This might indicate that there are<br/>strong multicollinearity or other numerical problems."
      ],
      "text/plain": [
       "<class 'statsmodels.iolib.summary.Summary'>\n",
       "\"\"\"\n",
       "                            OLS Regression Results                            \n",
       "==============================================================================\n",
       "Dep. Variable:                  price   R-squared:                       0.482\n",
       "Model:                            OLS   Adj. R-squared:                  0.482\n",
       "Method:                 Least Squares   F-statistic:                     3381.\n",
       "Date:                Thu, 29 Sep 2022   Prob (F-statistic):               0.00\n",
       "Time:                        01:16:33   Log-Likelihood:            -4.2115e+05\n",
       "No. Observations:               29094   AIC:                         8.423e+05\n",
       "Df Residuals:                   29085   BIC:                         8.424e+05\n",
       "Df Model:                           8                                         \n",
       "Covariance Type:            nonrobust                                         \n",
       "=======================================================================================\n",
       "                          coef    std err          t      P>|t|      [0.025      0.975]\n",
       "---------------------------------------------------------------------------------------\n",
       "const                1.098e+06   1.93e+04     56.739      0.000    1.06e+06    1.14e+06\n",
       "bedrooms            -6.132e+04   3868.691    -15.851      0.000   -6.89e+04   -5.37e+04\n",
       "sqft_living           433.2417      5.214     83.086      0.000     423.021     443.462\n",
       "sqft_lot               -0.4577      0.247     -1.853      0.064      -0.942       0.026\n",
       "sqft_basement          49.3675      5.256      9.392      0.000      39.065      59.670\n",
       "sqft_garage          -180.0316     12.082    -14.901      0.000    -203.712    -156.351\n",
       "grade_Average       -7.222e+05   1.41e+04    -51.173      0.000    -7.5e+05   -6.95e+05\n",
       "grade_Below Average -8.146e+05    1.8e+04    -45.377      0.000    -8.5e+05   -7.79e+05\n",
       "grade_Poor          -7.526e+05   2.71e+05     -2.778      0.005   -1.28e+06   -2.22e+05\n",
       "==============================================================================\n",
       "Omnibus:                     9602.761   Durbin-Watson:                   1.958\n",
       "Prob(Omnibus):                  0.000   Jarque-Bera (JB):            69444.349\n",
       "Skew:                           1.398   Prob(JB):                         0.00\n",
       "Kurtosis:                      10.033   Cond. No.                     1.53e+06\n",
       "==============================================================================\n",
       "\n",
       "Notes:\n",
       "[1] Standard Errors assume that the covariance matrix of the errors is correctly specified.\n",
       "[2] The condition number is large, 1.53e+06. This might indicate that there are\n",
       "strong multicollinearity or other numerical problems.\n",
       "\"\"\""
      ]
     },
     "execution_count": 223,
     "metadata": {},
     "output_type": "execute_result"
    }
   ],
   "source": [
    "X=model_clean.drop(labels =['price', 'sale_year', 'floors', 'bathrooms', 'sqft_patio', 'sqft_above'], axis=1)\n",
    "y=model_clean.price\n",
    "\n",
    "first_dummy_model = sm.OLS(y,sm.add_constant(X))\n",
    "results = first_dummy_model.fit()\n",
    "results.summary()"
   ]
  },
  {
   "cell_type": "markdown",
   "metadata": {},
   "source": [
    "Our `sqft_lot` P-value snuck up again. Let's look at how it's plotting against `price` again."
   ]
  },
  {
   "cell_type": "code",
   "execution_count": 224,
   "metadata": {},
   "outputs": [
    {
     "data": {
      "image/png": "[encoded data removed]",
      "text/plain": [
       "<Figure size 432x288 with 1 Axes>"
      ]
     },
     "metadata": {
      "needs_background": "light"
     },
     "output_type": "display_data"
    }
   ],
   "source": [
    "model_clean.plot(x=\"sqft_lot\", y=\"price\", kind=\"scatter\");"
   ]
  },
  {
   "cell_type": "markdown",
   "metadata": {},
   "source": [
    "From the scatter plot, it almost looks like there could be 2 seperate relationships here. Possibly urban plots versus larger rural plots."
   ]
  },
  {
   "cell_type": "markdown",
   "metadata": {},
   "source": [
    "Before we do triming of `sqft_lot`, let's remove bedrooms from the model, and see what happens."
   ]
  },
  {
   "cell_type": "code",
   "execution_count": 225,
   "metadata": {},
   "outputs": [
    {
     "name": "stderr",
     "output_type": "stream",
     "text": [
      "/opt/conda/lib/python3.9/site-packages/statsmodels/tsa/tsatools.py:142: FutureWarning: In a future version of pandas all arguments of concat except for the argument 'objs' will be keyword-only\n",
      "  x = pd.concat(x[::order], 1)\n"
     ]
    },
    {
     "data": {
      "text/html": [
       "<table class=\"simpletable\">\n",
       "<caption>OLS Regression Results</caption>\n",
       "<tr>\n",
       "  <th>Dep. Variable:</th>          <td>price</td>      <th>  R-squared:         </th>  <td>   0.477</td>  \n",
       "</tr>\n",
       "<tr>\n",
       "  <th>Model:</th>                   <td>OLS</td>       <th>  Adj. R-squared:    </th>  <td>   0.477</td>  \n",
       "</tr>\n",
       "<tr>\n",
       "  <th>Method:</th>             <td>Least Squares</td>  <th>  F-statistic:       </th>  <td>   3795.</td>  \n",
       "</tr>\n",
       "<tr>\n",
       "  <th>Date:</th>             <td>Thu, 29 Sep 2022</td> <th>  Prob (F-statistic):</th>   <td>  0.00</td>   \n",
       "</tr>\n",
       "<tr>\n",
       "  <th>Time:</th>                 <td>01:16:33</td>     <th>  Log-Likelihood:    </th> <td>-4.2127e+05</td>\n",
       "</tr>\n",
       "<tr>\n",
       "  <th>No. Observations:</th>      <td> 29094</td>      <th>  AIC:               </th>  <td>8.426e+05</td> \n",
       "</tr>\n",
       "<tr>\n",
       "  <th>Df Residuals:</th>          <td> 29086</td>      <th>  BIC:               </th>  <td>8.426e+05</td> \n",
       "</tr>\n",
       "<tr>\n",
       "  <th>Df Model:</th>              <td>     7</td>      <th>                     </th>      <td> </td>     \n",
       "</tr>\n",
       "<tr>\n",
       "  <th>Covariance Type:</th>      <td>nonrobust</td>    <th>                     </th>      <td> </td>     \n",
       "</tr>\n",
       "</table>\n",
       "<table class=\"simpletable\">\n",
       "<tr>\n",
       "           <td></td>              <th>coef</th>     <th>std err</th>      <th>t</th>      <th>P>|t|</th>  <th>[0.025</th>    <th>0.975]</th>  \n",
       "</tr>\n",
       "<tr>\n",
       "  <th>const</th>               <td> 1.022e+06</td> <td> 1.88e+04</td> <td>   54.283</td> <td> 0.000</td> <td> 9.85e+05</td> <td> 1.06e+06</td>\n",
       "</tr>\n",
       "<tr>\n",
       "  <th>sqft_living</th>         <td>  385.8483</td> <td>    4.290</td> <td>   89.932</td> <td> 0.000</td> <td>  377.439</td> <td>  394.258</td>\n",
       "</tr>\n",
       "<tr>\n",
       "  <th>sqft_lot</th>            <td>   -0.1850</td> <td>    0.247</td> <td>   -0.748</td> <td> 0.455</td> <td>   -0.670</td> <td>    0.300</td>\n",
       "</tr>\n",
       "<tr>\n",
       "  <th>sqft_basement</th>       <td>   47.7000</td> <td>    5.278</td> <td>    9.038</td> <td> 0.000</td> <td>   37.356</td> <td>   58.045</td>\n",
       "</tr>\n",
       "<tr>\n",
       "  <th>sqft_garage</th>         <td> -180.7072</td> <td>   12.134</td> <td>  -14.893</td> <td> 0.000</td> <td> -204.490</td> <td> -156.925</td>\n",
       "</tr>\n",
       "<tr>\n",
       "  <th>grade_Average</th>       <td>-7.627e+05</td> <td> 1.39e+04</td> <td>  -54.721</td> <td> 0.000</td> <td> -7.9e+05</td> <td>-7.35e+05</td>\n",
       "</tr>\n",
       "<tr>\n",
       "  <th>grade_Below Average</th> <td>-8.476e+05</td> <td> 1.79e+04</td> <td>  -47.332</td> <td> 0.000</td> <td>-8.83e+05</td> <td>-8.12e+05</td>\n",
       "</tr>\n",
       "<tr>\n",
       "  <th>grade_Poor</th>          <td>-7.412e+05</td> <td> 2.72e+05</td> <td>   -2.725</td> <td> 0.006</td> <td>-1.27e+06</td> <td>-2.08e+05</td>\n",
       "</tr>\n",
       "</table>\n",
       "<table class=\"simpletable\">\n",
       "<tr>\n",
       "  <th>Omnibus:</th>       <td>9713.039</td> <th>  Durbin-Watson:     </th> <td>   1.956</td> \n",
       "</tr>\n",
       "<tr>\n",
       "  <th>Prob(Omnibus):</th>  <td> 0.000</td>  <th>  Jarque-Bera (JB):  </th> <td>70352.465</td>\n",
       "</tr>\n",
       "<tr>\n",
       "  <th>Skew:</th>           <td> 1.416</td>  <th>  Prob(JB):          </th> <td>    0.00</td> \n",
       "</tr>\n",
       "<tr>\n",
       "  <th>Kurtosis:</th>       <td>10.072</td>  <th>  Cond. No.          </th> <td>1.53e+06</td> \n",
       "</tr>\n",
       "</table><br/><br/>Notes:<br/>[1] Standard Errors assume that the covariance matrix of the errors is correctly specified.<br/>[2] The condition number is large, 1.53e+06. This might indicate that there are<br/>strong multicollinearity or other numerical problems."
      ],
      "text/plain": [
       "<class 'statsmodels.iolib.summary.Summary'>\n",
       "\"\"\"\n",
       "                            OLS Regression Results                            \n",
       "==============================================================================\n",
       "Dep. Variable:                  price   R-squared:                       0.477\n",
       "Model:                            OLS   Adj. R-squared:                  0.477\n",
       "Method:                 Least Squares   F-statistic:                     3795.\n",
       "Date:                Thu, 29 Sep 2022   Prob (F-statistic):               0.00\n",
       "Time:                        01:16:33   Log-Likelihood:            -4.2127e+05\n",
       "No. Observations:               29094   AIC:                         8.426e+05\n",
       "Df Residuals:                   29086   BIC:                         8.426e+05\n",
       "Df Model:                           7                                         \n",
       "Covariance Type:            nonrobust                                         \n",
       "=======================================================================================\n",
       "                          coef    std err          t      P>|t|      [0.025      0.975]\n",
       "---------------------------------------------------------------------------------------\n",
       "const                1.022e+06   1.88e+04     54.283      0.000    9.85e+05    1.06e+06\n",
       "sqft_living           385.8483      4.290     89.932      0.000     377.439     394.258\n",
       "sqft_lot               -0.1850      0.247     -0.748      0.455      -0.670       0.300\n",
       "sqft_basement          47.7000      5.278      9.038      0.000      37.356      58.045\n",
       "sqft_garage          -180.7072     12.134    -14.893      0.000    -204.490    -156.925\n",
       "grade_Average       -7.627e+05   1.39e+04    -54.721      0.000    -7.9e+05   -7.35e+05\n",
       "grade_Below Average -8.476e+05   1.79e+04    -47.332      0.000   -8.83e+05   -8.12e+05\n",
       "grade_Poor          -7.412e+05   2.72e+05     -2.725      0.006   -1.27e+06   -2.08e+05\n",
       "==============================================================================\n",
       "Omnibus:                     9713.039   Durbin-Watson:                   1.956\n",
       "Prob(Omnibus):                  0.000   Jarque-Bera (JB):            70352.465\n",
       "Skew:                           1.416   Prob(JB):                         0.00\n",
       "Kurtosis:                      10.072   Cond. No.                     1.53e+06\n",
       "==============================================================================\n",
       "\n",
       "Notes:\n",
       "[1] Standard Errors assume that the covariance matrix of the errors is correctly specified.\n",
       "[2] The condition number is large, 1.53e+06. This might indicate that there are\n",
       "strong multicollinearity or other numerical problems.\n",
       "\"\"\""
      ]
     },
     "execution_count": 225,
     "metadata": {},
     "output_type": "execute_result"
    }
   ],
   "source": [
    "X=model_clean.drop(labels =['price', 'sale_year', 'floors', 'bathrooms', 'sqft_patio', 'sqft_above', 'bedrooms'], axis=1)\n",
    "y=model_clean.price\n",
    "\n",
    "first_dummy_model = sm.OLS(y,sm.add_constant(X))\n",
    "results = first_dummy_model.fit()\n",
    "results.summary()"
   ]
  },
  {
   "cell_type": "code",
   "execution_count": 226,
   "metadata": {},
   "outputs": [
    {
     "data": {
      "text/plain": [
       "<AxesSubplot:>"
      ]
     },
     "execution_count": 226,
     "metadata": {},
     "output_type": "execute_result"
    },
    {
     "data": {
      "image/png": "[encoded data removed]",
      "text/plain": [
       "<Figure size 432x288 with 2 Axes>"
      ]
     },
     "metadata": {
      "needs_background": "light"
     },
     "output_type": "display_data"
    }
   ],
   "source": [
    "sns.heatmap(X.corr())"
   ]
  },
  {
   "cell_type": "markdown",
   "metadata": {},
   "source": [
    "And let's remove `sqft_garage` next."
   ]
  },
  {
   "cell_type": "code",
   "execution_count": 227,
   "metadata": {},
   "outputs": [
    {
     "name": "stderr",
     "output_type": "stream",
     "text": [
      "/opt/conda/lib/python3.9/site-packages/statsmodels/tsa/tsatools.py:142: FutureWarning: In a future version of pandas all arguments of concat except for the argument 'objs' will be keyword-only\n",
      "  x = pd.concat(x[::order], 1)\n"
     ]
    },
    {
     "data": {
      "text/html": [
       "<table class=\"simpletable\">\n",
       "<caption>OLS Regression Results</caption>\n",
       "<tr>\n",
       "  <th>Dep. Variable:</th>          <td>price</td>      <th>  R-squared:         </th>  <td>   0.473</td>  \n",
       "</tr>\n",
       "<tr>\n",
       "  <th>Model:</th>                   <td>OLS</td>       <th>  Adj. R-squared:    </th>  <td>   0.473</td>  \n",
       "</tr>\n",
       "<tr>\n",
       "  <th>Method:</th>             <td>Least Squares</td>  <th>  F-statistic:       </th>  <td>   4358.</td>  \n",
       "</tr>\n",
       "<tr>\n",
       "  <th>Date:</th>             <td>Thu, 29 Sep 2022</td> <th>  Prob (F-statistic):</th>   <td>  0.00</td>   \n",
       "</tr>\n",
       "<tr>\n",
       "  <th>Time:</th>                 <td>01:16:34</td>     <th>  Log-Likelihood:    </th> <td>-4.2138e+05</td>\n",
       "</tr>\n",
       "<tr>\n",
       "  <th>No. Observations:</th>      <td> 29094</td>      <th>  AIC:               </th>  <td>8.428e+05</td> \n",
       "</tr>\n",
       "<tr>\n",
       "  <th>Df Residuals:</th>          <td> 29087</td>      <th>  BIC:               </th>  <td>8.428e+05</td> \n",
       "</tr>\n",
       "<tr>\n",
       "  <th>Df Model:</th>              <td>     6</td>      <th>                     </th>      <td> </td>     \n",
       "</tr>\n",
       "<tr>\n",
       "  <th>Covariance Type:</th>      <td>nonrobust</td>    <th>                     </th>      <td> </td>     \n",
       "</tr>\n",
       "</table>\n",
       "<table class=\"simpletable\">\n",
       "<tr>\n",
       "           <td></td>              <th>coef</th>     <th>std err</th>      <th>t</th>      <th>P>|t|</th>  <th>[0.025</th>    <th>0.975]</th>  \n",
       "</tr>\n",
       "<tr>\n",
       "  <th>const</th>               <td> 9.912e+05</td> <td> 1.88e+04</td> <td>   52.756</td> <td> 0.000</td> <td> 9.54e+05</td> <td> 1.03e+06</td>\n",
       "</tr>\n",
       "<tr>\n",
       "  <th>sqft_living</th>         <td>  363.0689</td> <td>    4.024</td> <td>   90.232</td> <td> 0.000</td> <td>  355.182</td> <td>  370.956</td>\n",
       "</tr>\n",
       "<tr>\n",
       "  <th>sqft_lot</th>            <td>   -0.7515</td> <td>    0.245</td> <td>   -3.062</td> <td> 0.002</td> <td>   -1.233</td> <td>   -0.271</td>\n",
       "</tr>\n",
       "<tr>\n",
       "  <th>sqft_basement</th>       <td>   62.0221</td> <td>    5.209</td> <td>   11.907</td> <td> 0.000</td> <td>   51.812</td> <td>   72.232</td>\n",
       "</tr>\n",
       "<tr>\n",
       "  <th>grade_Average</th>       <td>-7.465e+05</td> <td> 1.39e+04</td> <td>  -53.518</td> <td> 0.000</td> <td>-7.74e+05</td> <td>-7.19e+05</td>\n",
       "</tr>\n",
       "<tr>\n",
       "  <th>grade_Below Average</th> <td>-8.007e+05</td> <td> 1.77e+04</td> <td>  -45.251</td> <td> 0.000</td> <td>-8.35e+05</td> <td>-7.66e+05</td>\n",
       "</tr>\n",
       "<tr>\n",
       "  <th>grade_Poor</th>          <td>-6.853e+05</td> <td> 2.73e+05</td> <td>   -2.510</td> <td> 0.012</td> <td>-1.22e+06</td> <td> -1.5e+05</td>\n",
       "</tr>\n",
       "</table>\n",
       "<table class=\"simpletable\">\n",
       "<tr>\n",
       "  <th>Omnibus:</th>       <td>9741.115</td> <th>  Durbin-Watson:     </th> <td>   1.958</td> \n",
       "</tr>\n",
       "<tr>\n",
       "  <th>Prob(Omnibus):</th>  <td> 0.000</td>  <th>  Jarque-Bera (JB):  </th> <td>70172.675</td>\n",
       "</tr>\n",
       "<tr>\n",
       "  <th>Skew:</th>           <td> 1.423</td>  <th>  Prob(JB):          </th> <td>    0.00</td> \n",
       "</tr>\n",
       "<tr>\n",
       "  <th>Kurtosis:</th>       <td>10.056</td>  <th>  Cond. No.          </th> <td>1.53e+06</td> \n",
       "</tr>\n",
       "</table><br/><br/>Notes:<br/>[1] Standard Errors assume that the covariance matrix of the errors is correctly specified.<br/>[2] The condition number is large, 1.53e+06. This might indicate that there are<br/>strong multicollinearity or other numerical problems."
      ],
      "text/plain": [
       "<class 'statsmodels.iolib.summary.Summary'>\n",
       "\"\"\"\n",
       "                            OLS Regression Results                            \n",
       "==============================================================================\n",
       "Dep. Variable:                  price   R-squared:                       0.473\n",
       "Model:                            OLS   Adj. R-squared:                  0.473\n",
       "Method:                 Least Squares   F-statistic:                     4358.\n",
       "Date:                Thu, 29 Sep 2022   Prob (F-statistic):               0.00\n",
       "Time:                        01:16:34   Log-Likelihood:            -4.2138e+05\n",
       "No. Observations:               29094   AIC:                         8.428e+05\n",
       "Df Residuals:                   29087   BIC:                         8.428e+05\n",
       "Df Model:                           6                                         \n",
       "Covariance Type:            nonrobust                                         \n",
       "=======================================================================================\n",
       "                          coef    std err          t      P>|t|      [0.025      0.975]\n",
       "---------------------------------------------------------------------------------------\n",
       "const                9.912e+05   1.88e+04     52.756      0.000    9.54e+05    1.03e+06\n",
       "sqft_living           363.0689      4.024     90.232      0.000     355.182     370.956\n",
       "sqft_lot               -0.7515      0.245     -3.062      0.002      -1.233      -0.271\n",
       "sqft_basement          62.0221      5.209     11.907      0.000      51.812      72.232\n",
       "grade_Average       -7.465e+05   1.39e+04    -53.518      0.000   -7.74e+05   -7.19e+05\n",
       "grade_Below Average -8.007e+05   1.77e+04    -45.251      0.000   -8.35e+05   -7.66e+05\n",
       "grade_Poor          -6.853e+05   2.73e+05     -2.510      0.012   -1.22e+06    -1.5e+05\n",
       "==============================================================================\n",
       "Omnibus:                     9741.115   Durbin-Watson:                   1.958\n",
       "Prob(Omnibus):                  0.000   Jarque-Bera (JB):            70172.675\n",
       "Skew:                           1.423   Prob(JB):                         0.00\n",
       "Kurtosis:                      10.056   Cond. No.                     1.53e+06\n",
       "==============================================================================\n",
       "\n",
       "Notes:\n",
       "[1] Standard Errors assume that the covariance matrix of the errors is correctly specified.\n",
       "[2] The condition number is large, 1.53e+06. This might indicate that there are\n",
       "strong multicollinearity or other numerical problems.\n",
       "\"\"\""
      ]
     },
     "execution_count": 227,
     "metadata": {},
     "output_type": "execute_result"
    }
   ],
   "source": [
    "X=model_clean.drop(labels =['price', 'sale_year', 'floors', 'bathrooms', 'sqft_patio', 'sqft_above', 'bedrooms', 'sqft_garage'], axis=1)\n",
    "y=model_clean.price\n",
    "\n",
    "first_dummy_model = sm.OLS(y,sm.add_constant(X))\n",
    "results = first_dummy_model.fit()\n",
    "results.summary()"
   ]
  },
  {
   "cell_type": "markdown",
   "metadata": {},
   "source": [
    "Another reduction of R-value, let's try something drastic. We'll take `sqft_lot` out of this and readd some other columns to see what happens."
   ]
  },
  {
   "cell_type": "code",
   "execution_count": 228,
   "metadata": {},
   "outputs": [
    {
     "name": "stderr",
     "output_type": "stream",
     "text": [
      "/opt/conda/lib/python3.9/site-packages/statsmodels/tsa/tsatools.py:142: FutureWarning: In a future version of pandas all arguments of concat except for the argument 'objs' will be keyword-only\n",
      "  x = pd.concat(x[::order], 1)\n"
     ]
    },
    {
     "data": {
      "text/html": [
       "<table class=\"simpletable\">\n",
       "<caption>OLS Regression Results</caption>\n",
       "<tr>\n",
       "  <th>Dep. Variable:</th>          <td>price</td>      <th>  R-squared:         </th>  <td>   0.491</td>  \n",
       "</tr>\n",
       "<tr>\n",
       "  <th>Model:</th>                   <td>OLS</td>       <th>  Adj. R-squared:    </th>  <td>   0.490</td>  \n",
       "</tr>\n",
       "<tr>\n",
       "  <th>Method:</th>             <td>Least Squares</td>  <th>  F-statistic:       </th>  <td>   2800.</td>  \n",
       "</tr>\n",
       "<tr>\n",
       "  <th>Date:</th>             <td>Thu, 29 Sep 2022</td> <th>  Prob (F-statistic):</th>   <td>  0.00</td>   \n",
       "</tr>\n",
       "<tr>\n",
       "  <th>Time:</th>                 <td>01:16:34</td>     <th>  Log-Likelihood:    </th> <td>-4.2090e+05</td>\n",
       "</tr>\n",
       "<tr>\n",
       "  <th>No. Observations:</th>      <td> 29094</td>      <th>  AIC:               </th>  <td>8.418e+05</td> \n",
       "</tr>\n",
       "<tr>\n",
       "  <th>Df Residuals:</th>          <td> 29083</td>      <th>  BIC:               </th>  <td>8.419e+05</td> \n",
       "</tr>\n",
       "<tr>\n",
       "  <th>Df Model:</th>              <td>    10</td>      <th>                     </th>      <td> </td>     \n",
       "</tr>\n",
       "<tr>\n",
       "  <th>Covariance Type:</th>      <td>nonrobust</td>    <th>                     </th>      <td> </td>     \n",
       "</tr>\n",
       "</table>\n",
       "<table class=\"simpletable\">\n",
       "<tr>\n",
       "           <td></td>              <th>coef</th>     <th>std err</th>      <th>t</th>      <th>P>|t|</th>  <th>[0.025</th>    <th>0.975]</th>  \n",
       "</tr>\n",
       "<tr>\n",
       "  <th>const</th>               <td> 9.747e+05</td> <td> 1.99e+04</td> <td>   48.903</td> <td> 0.000</td> <td> 9.36e+05</td> <td> 1.01e+06</td>\n",
       "</tr>\n",
       "<tr>\n",
       "  <th>bedrooms</th>            <td> -6.34e+04</td> <td> 3891.854</td> <td>  -16.290</td> <td> 0.000</td> <td> -7.1e+04</td> <td>-5.58e+04</td>\n",
       "</tr>\n",
       "<tr>\n",
       "  <th>bathrooms</th>           <td> 6.239e+04</td> <td> 5197.209</td> <td>   12.004</td> <td> 0.000</td> <td> 5.22e+04</td> <td> 7.26e+04</td>\n",
       "</tr>\n",
       "<tr>\n",
       "  <th>sqft_living</th>         <td>  198.1213</td> <td>   12.914</td> <td>   15.341</td> <td> 0.000</td> <td>  172.809</td> <td>  223.434</td>\n",
       "</tr>\n",
       "<tr>\n",
       "  <th>sqft_above</th>          <td>  211.9764</td> <td>   12.746</td> <td>   16.630</td> <td> 0.000</td> <td>  186.993</td> <td>  236.960</td>\n",
       "</tr>\n",
       "<tr>\n",
       "  <th>sqft_basement</th>       <td>  171.9824</td> <td>    9.312</td> <td>   18.469</td> <td> 0.000</td> <td>  153.731</td> <td>  190.234</td>\n",
       "</tr>\n",
       "<tr>\n",
       "  <th>sqft_garage</th>         <td> -239.2227</td> <td>   12.157</td> <td>  -19.677</td> <td> 0.000</td> <td> -263.052</td> <td> -215.394</td>\n",
       "</tr>\n",
       "<tr>\n",
       "  <th>sqft_patio</th>          <td>  134.6545</td> <td>   12.922</td> <td>   10.420</td> <td> 0.000</td> <td>  109.326</td> <td>  159.983</td>\n",
       "</tr>\n",
       "<tr>\n",
       "  <th>grade_Average</th>       <td> -6.98e+05</td> <td> 1.41e+04</td> <td>  -49.672</td> <td> 0.000</td> <td>-7.26e+05</td> <td> -6.7e+05</td>\n",
       "</tr>\n",
       "<tr>\n",
       "  <th>grade_Below Average</th> <td>-7.645e+05</td> <td> 1.79e+04</td> <td>  -42.601</td> <td> 0.000</td> <td>   -8e+05</td> <td>-7.29e+05</td>\n",
       "</tr>\n",
       "<tr>\n",
       "  <th>grade_Poor</th>          <td>-7.039e+05</td> <td> 2.69e+05</td> <td>   -2.621</td> <td> 0.009</td> <td>-1.23e+06</td> <td>-1.77e+05</td>\n",
       "</tr>\n",
       "</table>\n",
       "<table class=\"simpletable\">\n",
       "<tr>\n",
       "  <th>Omnibus:</th>       <td>9516.107</td> <th>  Durbin-Watson:     </th> <td>   1.959</td> \n",
       "</tr>\n",
       "<tr>\n",
       "  <th>Prob(Omnibus):</th>  <td> 0.000</td>  <th>  Jarque-Bera (JB):  </th> <td>70069.789</td>\n",
       "</tr>\n",
       "<tr>\n",
       "  <th>Skew:</th>           <td> 1.378</td>  <th>  Prob(JB):          </th> <td>    0.00</td> \n",
       "</tr>\n",
       "<tr>\n",
       "  <th>Kurtosis:</th>       <td>10.086</td>  <th>  Cond. No.          </th> <td>3.00e+05</td> \n",
       "</tr>\n",
       "</table><br/><br/>Notes:<br/>[1] Standard Errors assume that the covariance matrix of the errors is correctly specified.<br/>[2] The condition number is large,  3e+05. This might indicate that there are<br/>strong multicollinearity or other numerical problems."
      ],
      "text/plain": [
       "<class 'statsmodels.iolib.summary.Summary'>\n",
       "\"\"\"\n",
       "                            OLS Regression Results                            \n",
       "==============================================================================\n",
       "Dep. Variable:                  price   R-squared:                       0.491\n",
       "Model:                            OLS   Adj. R-squared:                  0.490\n",
       "Method:                 Least Squares   F-statistic:                     2800.\n",
       "Date:                Thu, 29 Sep 2022   Prob (F-statistic):               0.00\n",
       "Time:                        01:16:34   Log-Likelihood:            -4.2090e+05\n",
       "No. Observations:               29094   AIC:                         8.418e+05\n",
       "Df Residuals:                   29083   BIC:                         8.419e+05\n",
       "Df Model:                          10                                         \n",
       "Covariance Type:            nonrobust                                         \n",
       "=======================================================================================\n",
       "                          coef    std err          t      P>|t|      [0.025      0.975]\n",
       "---------------------------------------------------------------------------------------\n",
       "const                9.747e+05   1.99e+04     48.903      0.000    9.36e+05    1.01e+06\n",
       "bedrooms             -6.34e+04   3891.854    -16.290      0.000    -7.1e+04   -5.58e+04\n",
       "bathrooms            6.239e+04   5197.209     12.004      0.000    5.22e+04    7.26e+04\n",
       "sqft_living           198.1213     12.914     15.341      0.000     172.809     223.434\n",
       "sqft_above            211.9764     12.746     16.630      0.000     186.993     236.960\n",
       "sqft_basement         171.9824      9.312     18.469      0.000     153.731     190.234\n",
       "sqft_garage          -239.2227     12.157    -19.677      0.000    -263.052    -215.394\n",
       "sqft_patio            134.6545     12.922     10.420      0.000     109.326     159.983\n",
       "grade_Average        -6.98e+05   1.41e+04    -49.672      0.000   -7.26e+05    -6.7e+05\n",
       "grade_Below Average -7.645e+05   1.79e+04    -42.601      0.000      -8e+05   -7.29e+05\n",
       "grade_Poor          -7.039e+05   2.69e+05     -2.621      0.009   -1.23e+06   -1.77e+05\n",
       "==============================================================================\n",
       "Omnibus:                     9516.107   Durbin-Watson:                   1.959\n",
       "Prob(Omnibus):                  0.000   Jarque-Bera (JB):            70069.789\n",
       "Skew:                           1.378   Prob(JB):                         0.00\n",
       "Kurtosis:                      10.086   Cond. No.                     3.00e+05\n",
       "==============================================================================\n",
       "\n",
       "Notes:\n",
       "[1] Standard Errors assume that the covariance matrix of the errors is correctly specified.\n",
       "[2] The condition number is large,  3e+05. This might indicate that there are\n",
       "strong multicollinearity or other numerical problems.\n",
       "\"\"\""
      ]
     },
     "execution_count": 228,
     "metadata": {},
     "output_type": "execute_result"
    }
   ],
   "source": [
    "X=model_clean.drop(labels =['price', 'sale_year', 'sqft_lot', 'floors'], axis=1)\n",
    "y=model_clean.price\n",
    "\n",
    "first_dummy_model = sm.OLS(y,sm.add_constant(X))\n",
    "results = first_dummy_model.fit()\n",
    "results.summary()"
   ]
  },
  {
   "cell_type": "markdown",
   "metadata": {},
   "source": [
    "We jumped back up to a .491 R-value. Time for the heatmap again."
   ]
  },
  {
   "cell_type": "code",
   "execution_count": 229,
   "metadata": {},
   "outputs": [
    {
     "data": {
      "text/plain": [
       "<AxesSubplot:>"
      ]
     },
     "execution_count": 229,
     "metadata": {},
     "output_type": "execute_result"
    },
    {
     "data": {
      "image/png": "[encoded data removed]",
      "text/plain": [
       "<Figure size 432x288 with 2 Axes>"
      ]
     },
     "metadata": {
      "needs_background": "light"
     },
     "output_type": "display_data"
    }
   ],
   "source": [
    "sns.heatmap(X.corr())"
   ]
  },
  {
   "cell_type": "markdown",
   "metadata": {},
   "source": [
    "`bedrooms`, `bathrooms`, `sqft_living`, and `sqft_above` are all correlated. Lets remove the living, garage, basement and above square footage and see what happens."
   ]
  },
  {
   "cell_type": "code",
   "execution_count": 230,
   "metadata": {},
   "outputs": [
    {
     "name": "stderr",
     "output_type": "stream",
     "text": [
      "/opt/conda/lib/python3.9/site-packages/statsmodels/tsa/tsatools.py:142: FutureWarning: In a future version of pandas all arguments of concat except for the argument 'objs' will be keyword-only\n",
      "  x = pd.concat(x[::order], 1)\n"
     ]
    },
    {
     "data": {
      "text/html": [
       "<table class=\"simpletable\">\n",
       "<caption>OLS Regression Results</caption>\n",
       "<tr>\n",
       "  <th>Dep. Variable:</th>          <td>price</td>      <th>  R-squared:         </th>  <td>   0.392</td>  \n",
       "</tr>\n",
       "<tr>\n",
       "  <th>Model:</th>                   <td>OLS</td>       <th>  Adj. R-squared:    </th>  <td>   0.392</td>  \n",
       "</tr>\n",
       "<tr>\n",
       "  <th>Method:</th>             <td>Least Squares</td>  <th>  F-statistic:       </th>  <td>   3752.</td>  \n",
       "</tr>\n",
       "<tr>\n",
       "  <th>Date:</th>             <td>Thu, 29 Sep 2022</td> <th>  Prob (F-statistic):</th>   <td>  0.00</td>   \n",
       "</tr>\n",
       "<tr>\n",
       "  <th>Time:</th>                 <td>01:16:34</td>     <th>  Log-Likelihood:    </th> <td>-4.2347e+05</td>\n",
       "</tr>\n",
       "<tr>\n",
       "  <th>No. Observations:</th>      <td> 29094</td>      <th>  AIC:               </th>  <td>8.470e+05</td> \n",
       "</tr>\n",
       "<tr>\n",
       "  <th>Df Residuals:</th>          <td> 29088</td>      <th>  BIC:               </th>  <td>8.470e+05</td> \n",
       "</tr>\n",
       "<tr>\n",
       "  <th>Df Model:</th>              <td>     5</td>      <th>                     </th>      <td> </td>     \n",
       "</tr>\n",
       "<tr>\n",
       "  <th>Covariance Type:</th>      <td>nonrobust</td>    <th>                     </th>      <td> </td>     \n",
       "</tr>\n",
       "</table>\n",
       "<table class=\"simpletable\">\n",
       "<tr>\n",
       "           <td></td>              <th>coef</th>     <th>std err</th>      <th>t</th>      <th>P>|t|</th>  <th>[0.025</th>    <th>0.975]</th>  \n",
       "</tr>\n",
       "<tr>\n",
       "  <th>const</th>               <td> 1.353e+06</td> <td> 2.05e+04</td> <td>   66.116</td> <td> 0.000</td> <td> 1.31e+06</td> <td> 1.39e+06</td>\n",
       "</tr>\n",
       "<tr>\n",
       "  <th>bedrooms</th>            <td> 5.168e+04</td> <td> 3807.807</td> <td>   13.571</td> <td> 0.000</td> <td> 4.42e+04</td> <td> 5.91e+04</td>\n",
       "</tr>\n",
       "<tr>\n",
       "  <th>bathrooms</th>           <td> 2.436e+05</td> <td> 4755.467</td> <td>   51.236</td> <td> 0.000</td> <td> 2.34e+05</td> <td> 2.53e+05</td>\n",
       "</tr>\n",
       "<tr>\n",
       "  <th>grade_Average</th>       <td>-1.088e+06</td> <td> 1.38e+04</td> <td>  -78.607</td> <td> 0.000</td> <td>-1.11e+06</td> <td>-1.06e+06</td>\n",
       "</tr>\n",
       "<tr>\n",
       "  <th>grade_Below Average</th> <td>-1.189e+06</td> <td> 1.79e+04</td> <td>  -66.480</td> <td> 0.000</td> <td>-1.22e+06</td> <td>-1.15e+06</td>\n",
       "</tr>\n",
       "<tr>\n",
       "  <th>grade_Poor</th>          <td>-1.186e+06</td> <td> 2.93e+05</td> <td>   -4.045</td> <td> 0.000</td> <td>-1.76e+06</td> <td>-6.12e+05</td>\n",
       "</tr>\n",
       "</table>\n",
       "<table class=\"simpletable\">\n",
       "<tr>\n",
       "  <th>Omnibus:</th>       <td>9979.942</td> <th>  Durbin-Watson:     </th> <td>   1.960</td> \n",
       "</tr>\n",
       "<tr>\n",
       "  <th>Prob(Omnibus):</th>  <td> 0.000</td>  <th>  Jarque-Bera (JB):  </th> <td>57324.978</td>\n",
       "</tr>\n",
       "<tr>\n",
       "  <th>Skew:</th>           <td> 1.540</td>  <th>  Prob(JB):          </th> <td>    0.00</td> \n",
       "</tr>\n",
       "<tr>\n",
       "  <th>Kurtosis:</th>       <td> 9.149</td>  <th>  Cond. No.          </th> <td>    440.</td> \n",
       "</tr>\n",
       "</table><br/><br/>Notes:<br/>[1] Standard Errors assume that the covariance matrix of the errors is correctly specified."
      ],
      "text/plain": [
       "<class 'statsmodels.iolib.summary.Summary'>\n",
       "\"\"\"\n",
       "                            OLS Regression Results                            \n",
       "==============================================================================\n",
       "Dep. Variable:                  price   R-squared:                       0.392\n",
       "Model:                            OLS   Adj. R-squared:                  0.392\n",
       "Method:                 Least Squares   F-statistic:                     3752.\n",
       "Date:                Thu, 29 Sep 2022   Prob (F-statistic):               0.00\n",
       "Time:                        01:16:34   Log-Likelihood:            -4.2347e+05\n",
       "No. Observations:               29094   AIC:                         8.470e+05\n",
       "Df Residuals:                   29088   BIC:                         8.470e+05\n",
       "Df Model:                           5                                         \n",
       "Covariance Type:            nonrobust                                         \n",
       "=======================================================================================\n",
       "                          coef    std err          t      P>|t|      [0.025      0.975]\n",
       "---------------------------------------------------------------------------------------\n",
       "const                1.353e+06   2.05e+04     66.116      0.000    1.31e+06    1.39e+06\n",
       "bedrooms             5.168e+04   3807.807     13.571      0.000    4.42e+04    5.91e+04\n",
       "bathrooms            2.436e+05   4755.467     51.236      0.000    2.34e+05    2.53e+05\n",
       "grade_Average       -1.088e+06   1.38e+04    -78.607      0.000   -1.11e+06   -1.06e+06\n",
       "grade_Below Average -1.189e+06   1.79e+04    -66.480      0.000   -1.22e+06   -1.15e+06\n",
       "grade_Poor          -1.186e+06   2.93e+05     -4.045      0.000   -1.76e+06   -6.12e+05\n",
       "==============================================================================\n",
       "Omnibus:                     9979.942   Durbin-Watson:                   1.960\n",
       "Prob(Omnibus):                  0.000   Jarque-Bera (JB):            57324.978\n",
       "Skew:                           1.540   Prob(JB):                         0.00\n",
       "Kurtosis:                       9.149   Cond. No.                         440.\n",
       "==============================================================================\n",
       "\n",
       "Notes:\n",
       "[1] Standard Errors assume that the covariance matrix of the errors is correctly specified.\n",
       "\"\"\""
      ]
     },
     "execution_count": 230,
     "metadata": {},
     "output_type": "execute_result"
    }
   ],
   "source": [
    "X=model_clean.drop(labels =['price', 'sale_year', 'sqft_lot', 'floors', 'sqft_living', 'sqft_above', 'sqft_garage', 'sqft_basement', 'sqft_patio'], axis=1)\n",
    "y=model_clean.price\n",
    "\n",
    "first_dummy_model = sm.OLS(y,sm.add_constant(X))\n",
    "results = first_dummy_model.fit()\n",
    "results.summary()"
   ]
  },
  {
   "cell_type": "markdown",
   "metadata": {},
   "source": [
    "Well, that didn't help. Let's try removing the house grading instead."
   ]
  },
  {
   "cell_type": "code",
   "execution_count": 231,
   "metadata": {},
   "outputs": [
    {
     "name": "stderr",
     "output_type": "stream",
     "text": [
      "/opt/conda/lib/python3.9/site-packages/statsmodels/tsa/tsatools.py:142: FutureWarning: In a future version of pandas all arguments of concat except for the argument 'objs' will be keyword-only\n",
      "  x = pd.concat(x[::order], 1)\n"
     ]
    },
    {
     "data": {
      "text/html": [
       "<table class=\"simpletable\">\n",
       "<caption>OLS Regression Results</caption>\n",
       "<tr>\n",
       "  <th>Dep. Variable:</th>          <td>price</td>      <th>  R-squared:         </th>  <td>   0.447</td>  \n",
       "</tr>\n",
       "<tr>\n",
       "  <th>Model:</th>                   <td>OLS</td>       <th>  Adj. R-squared:    </th>  <td>   0.447</td>  \n",
       "</tr>\n",
       "<tr>\n",
       "  <th>Method:</th>             <td>Least Squares</td>  <th>  F-statistic:       </th>  <td>   3362.</td>  \n",
       "</tr>\n",
       "<tr>\n",
       "  <th>Date:</th>             <td>Thu, 29 Sep 2022</td> <th>  Prob (F-statistic):</th>   <td>  0.00</td>   \n",
       "</tr>\n",
       "<tr>\n",
       "  <th>Time:</th>                 <td>01:16:34</td>     <th>  Log-Likelihood:    </th> <td>-4.2209e+05</td>\n",
       "</tr>\n",
       "<tr>\n",
       "  <th>No. Observations:</th>      <td> 29094</td>      <th>  AIC:               </th>  <td>8.442e+05</td> \n",
       "</tr>\n",
       "<tr>\n",
       "  <th>Df Residuals:</th>          <td> 29086</td>      <th>  BIC:               </th>  <td>8.443e+05</td> \n",
       "</tr>\n",
       "<tr>\n",
       "  <th>Df Model:</th>              <td>     7</td>      <th>                     </th>      <td> </td>     \n",
       "</tr>\n",
       "<tr>\n",
       "  <th>Covariance Type:</th>      <td>nonrobust</td>    <th>                     </th>      <td> </td>     \n",
       "</tr>\n",
       "</table>\n",
       "<table class=\"simpletable\">\n",
       "<tr>\n",
       "        <td></td>           <th>coef</th>     <th>std err</th>      <th>t</th>      <th>P>|t|</th>  <th>[0.025</th>    <th>0.975]</th>  \n",
       "</tr>\n",
       "<tr>\n",
       "  <th>const</th>         <td> 1.698e+05</td> <td> 1.12e+04</td> <td>   15.114</td> <td> 0.000</td> <td> 1.48e+05</td> <td> 1.92e+05</td>\n",
       "</tr>\n",
       "<tr>\n",
       "  <th>bedrooms</th>      <td>-9.651e+04</td> <td> 3988.179</td> <td>  -24.200</td> <td> 0.000</td> <td>-1.04e+05</td> <td>-8.87e+04</td>\n",
       "</tr>\n",
       "<tr>\n",
       "  <th>bathrooms</th>     <td> 6.336e+04</td> <td> 5297.851</td> <td>   11.960</td> <td> 0.000</td> <td>  5.3e+04</td> <td> 7.37e+04</td>\n",
       "</tr>\n",
       "<tr>\n",
       "  <th>sqft_living</th>   <td>  262.5159</td> <td>   13.381</td> <td>   19.619</td> <td> 0.000</td> <td>  236.289</td> <td>  288.743</td>\n",
       "</tr>\n",
       "<tr>\n",
       "  <th>sqft_above</th>    <td>  262.3795</td> <td>   13.233</td> <td>   19.827</td> <td> 0.000</td> <td>  236.442</td> <td>  288.317</td>\n",
       "</tr>\n",
       "<tr>\n",
       "  <th>sqft_basement</th> <td>  185.1559</td> <td>    9.688</td> <td>   19.113</td> <td> 0.000</td> <td>  166.168</td> <td>  204.144</td>\n",
       "</tr>\n",
       "<tr>\n",
       "  <th>sqft_garage</th>   <td> -199.0857</td> <td>   12.476</td> <td>  -15.958</td> <td> 0.000</td> <td> -223.539</td> <td> -174.633</td>\n",
       "</tr>\n",
       "<tr>\n",
       "  <th>sqft_patio</th>    <td>  167.0347</td> <td>   13.441</td> <td>   12.427</td> <td> 0.000</td> <td>  140.690</td> <td>  193.379</td>\n",
       "</tr>\n",
       "</table>\n",
       "<table class=\"simpletable\">\n",
       "<tr>\n",
       "  <th>Omnibus:</th>       <td>9135.011</td> <th>  Durbin-Watson:     </th> <td>   1.970</td> \n",
       "</tr>\n",
       "<tr>\n",
       "  <th>Prob(Omnibus):</th>  <td> 0.000</td>  <th>  Jarque-Bera (JB):  </th> <td>55905.448</td>\n",
       "</tr>\n",
       "<tr>\n",
       "  <th>Skew:</th>           <td> 1.372</td>  <th>  Prob(JB):          </th> <td>    0.00</td> \n",
       "</tr>\n",
       "<tr>\n",
       "  <th>Kurtosis:</th>       <td> 9.212</td>  <th>  Cond. No.          </th> <td>1.25e+04</td> \n",
       "</tr>\n",
       "</table><br/><br/>Notes:<br/>[1] Standard Errors assume that the covariance matrix of the errors is correctly specified.<br/>[2] The condition number is large, 1.25e+04. This might indicate that there are<br/>strong multicollinearity or other numerical problems."
      ],
      "text/plain": [
       "<class 'statsmodels.iolib.summary.Summary'>\n",
       "\"\"\"\n",
       "                            OLS Regression Results                            \n",
       "==============================================================================\n",
       "Dep. Variable:                  price   R-squared:                       0.447\n",
       "Model:                            OLS   Adj. R-squared:                  0.447\n",
       "Method:                 Least Squares   F-statistic:                     3362.\n",
       "Date:                Thu, 29 Sep 2022   Prob (F-statistic):               0.00\n",
       "Time:                        01:16:34   Log-Likelihood:            -4.2209e+05\n",
       "No. Observations:               29094   AIC:                         8.442e+05\n",
       "Df Residuals:                   29086   BIC:                         8.443e+05\n",
       "Df Model:                           7                                         \n",
       "Covariance Type:            nonrobust                                         \n",
       "=================================================================================\n",
       "                    coef    std err          t      P>|t|      [0.025      0.975]\n",
       "---------------------------------------------------------------------------------\n",
       "const          1.698e+05   1.12e+04     15.114      0.000    1.48e+05    1.92e+05\n",
       "bedrooms      -9.651e+04   3988.179    -24.200      0.000   -1.04e+05   -8.87e+04\n",
       "bathrooms      6.336e+04   5297.851     11.960      0.000     5.3e+04    7.37e+04\n",
       "sqft_living     262.5159     13.381     19.619      0.000     236.289     288.743\n",
       "sqft_above      262.3795     13.233     19.827      0.000     236.442     288.317\n",
       "sqft_basement   185.1559      9.688     19.113      0.000     166.168     204.144\n",
       "sqft_garage    -199.0857     12.476    -15.958      0.000    -223.539    -174.633\n",
       "sqft_patio      167.0347     13.441     12.427      0.000     140.690     193.379\n",
       "==============================================================================\n",
       "Omnibus:                     9135.011   Durbin-Watson:                   1.970\n",
       "Prob(Omnibus):                  0.000   Jarque-Bera (JB):            55905.448\n",
       "Skew:                           1.372   Prob(JB):                         0.00\n",
       "Kurtosis:                       9.212   Cond. No.                     1.25e+04\n",
       "==============================================================================\n",
       "\n",
       "Notes:\n",
       "[1] Standard Errors assume that the covariance matrix of the errors is correctly specified.\n",
       "[2] The condition number is large, 1.25e+04. This might indicate that there are\n",
       "strong multicollinearity or other numerical problems.\n",
       "\"\"\""
      ]
     },
     "execution_count": 231,
     "metadata": {},
     "output_type": "execute_result"
    }
   ],
   "source": [
    "X=model_clean.drop(labels =['price', 'sqft_lot', 'sale_year', 'floors', 'grade_Average', 'grade_Below Average', 'grade_Poor'], axis=1)\n",
    "y=model_clean.price\n",
    "\n",
    "first_dummy_model = sm.OLS(y,sm.add_constant(X))\n",
    "results = first_dummy_model.fit()\n",
    "results.summary()"
   ]
  },
  {
   "cell_type": "markdown",
   "metadata": {},
   "source": [
    "Didn't really help, lets check for more outliers."
   ]
  },
  {
   "cell_type": "markdown",
   "metadata": {},
   "source": [
    "Outliers for `Bedrooms`."
   ]
  },
  {
   "cell_type": "code",
   "execution_count": 232,
   "metadata": {},
   "outputs": [
    {
     "data": {
      "text/plain": [
       "count   29094.00\n",
       "mean        3.41\n",
       "std         0.96\n",
       "min         1.00\n",
       "25%         3.00\n",
       "50%         3.00\n",
       "75%         4.00\n",
       "max        11.00\n",
       "Name: bedrooms, dtype: float64"
      ]
     },
     "execution_count": 232,
     "metadata": {},
     "output_type": "execute_result"
    }
   ],
   "source": [
    "model_clean.bedrooms.describe()"
   ]
  },
  {
   "cell_type": "code",
   "execution_count": 233,
   "metadata": {},
   "outputs": [
    {
     "data": {
      "image/png": "[encoded data removed]",
      "text/plain": [
       "<Figure size 432x288 with 1 Axes>"
      ]
     },
     "metadata": {
      "needs_background": "light"
     },
     "output_type": "display_data"
    }
   ],
   "source": [
    "sns.boxplot(data=model_clean[[\"bedrooms\"]], orient=\"h\", width=0.5);"
   ]
  },
  {
   "cell_type": "code",
   "execution_count": 234,
   "metadata": {},
   "outputs": [
    {
     "data": {
      "text/plain": [
       "118"
      ]
     },
     "execution_count": 234,
     "metadata": {},
     "output_type": "execute_result"
    }
   ],
   "source": [
    "model_clean.bedrooms[model_clean[\"bedrooms\"] > 6].count()"
   ]
  },
  {
   "cell_type": "markdown",
   "metadata": {},
   "source": [
    "Lets cut out any rows with any `bedrooms` over 6. "
   ]
  },
  {
   "cell_type": "code",
   "execution_count": 235,
   "metadata": {},
   "outputs": [],
   "source": [
    "model_clean.drop(model_clean.index[model_clean['bedrooms'] > 6], inplace=True)"
   ]
  },
  {
   "cell_type": "markdown",
   "metadata": {},
   "source": [
    "Now lets see how it looks."
   ]
  },
  {
   "cell_type": "code",
   "execution_count": 236,
   "metadata": {},
   "outputs": [
    {
     "data": {
      "text/plain": [
       "count   28976.00\n",
       "mean        3.39\n",
       "std         0.92\n",
       "min         1.00\n",
       "25%         3.00\n",
       "50%         3.00\n",
       "75%         4.00\n",
       "max         6.00\n",
       "Name: bedrooms, dtype: float64"
      ]
     },
     "execution_count": 236,
     "metadata": {},
     "output_type": "execute_result"
    }
   ],
   "source": [
    "model_clean.bedrooms.describe()"
   ]
  },
  {
   "cell_type": "code",
   "execution_count": 237,
   "metadata": {},
   "outputs": [
    {
     "data": {
      "image/png": "[encoded data removed]",
      "text/plain": [
       "<Figure size 432x288 with 1 Axes>"
      ]
     },
     "metadata": {
      "needs_background": "light"
     },
     "output_type": "display_data"
    }
   ],
   "source": [
    "sns.boxplot(data=model_clean[[\"bedrooms\"]], orient=\"h\", width=0.5);"
   ]
  },
  {
   "cell_type": "code",
   "execution_count": 238,
   "metadata": {},
   "outputs": [],
   "source": [
    "# Final Model"
   ]
  },
  {
   "cell_type": "code",
   "execution_count": 239,
   "metadata": {},
   "outputs": [
    {
     "name": "stderr",
     "output_type": "stream",
     "text": [
      "/opt/conda/lib/python3.9/site-packages/statsmodels/tsa/tsatools.py:142: FutureWarning: In a future version of pandas all arguments of concat except for the argument 'objs' will be keyword-only\n",
      "  x = pd.concat(x[::order], 1)\n"
     ]
    },
    {
     "data": {
      "text/html": [
       "<table class=\"simpletable\">\n",
       "<caption>OLS Regression Results</caption>\n",
       "<tr>\n",
       "  <th>Dep. Variable:</th>          <td>price</td>      <th>  R-squared:         </th>  <td>   0.490</td>  \n",
       "</tr>\n",
       "<tr>\n",
       "  <th>Model:</th>                   <td>OLS</td>       <th>  Adj. R-squared:    </th>  <td>   0.490</td>  \n",
       "</tr>\n",
       "<tr>\n",
       "  <th>Method:</th>             <td>Least Squares</td>  <th>  F-statistic:       </th>  <td>   2786.</td>  \n",
       "</tr>\n",
       "<tr>\n",
       "  <th>Date:</th>             <td>Thu, 29 Sep 2022</td> <th>  Prob (F-statistic):</th>   <td>  0.00</td>   \n",
       "</tr>\n",
       "<tr>\n",
       "  <th>Time:</th>                 <td>01:16:35</td>     <th>  Log-Likelihood:    </th> <td>-4.1918e+05</td>\n",
       "</tr>\n",
       "<tr>\n",
       "  <th>No. Observations:</th>      <td> 28976</td>      <th>  AIC:               </th>  <td>8.384e+05</td> \n",
       "</tr>\n",
       "<tr>\n",
       "  <th>Df Residuals:</th>          <td> 28965</td>      <th>  BIC:               </th>  <td>8.385e+05</td> \n",
       "</tr>\n",
       "<tr>\n",
       "  <th>Df Model:</th>              <td>    10</td>      <th>                     </th>      <td> </td>     \n",
       "</tr>\n",
       "<tr>\n",
       "  <th>Covariance Type:</th>      <td>nonrobust</td>    <th>                     </th>      <td> </td>     \n",
       "</tr>\n",
       "</table>\n",
       "<table class=\"simpletable\">\n",
       "<tr>\n",
       "           <td></td>              <th>coef</th>     <th>std err</th>      <th>t</th>      <th>P>|t|</th>  <th>[0.025</th>    <th>0.975]</th>  \n",
       "</tr>\n",
       "<tr>\n",
       "  <th>const</th>               <td> 9.706e+05</td> <td> 2.02e+04</td> <td>   48.163</td> <td> 0.000</td> <td> 9.31e+05</td> <td> 1.01e+06</td>\n",
       "</tr>\n",
       "<tr>\n",
       "  <th>bedrooms</th>            <td>-6.224e+04</td> <td> 4055.482</td> <td>  -15.348</td> <td> 0.000</td> <td>-7.02e+04</td> <td>-5.43e+04</td>\n",
       "</tr>\n",
       "<tr>\n",
       "  <th>bathrooms</th>           <td> 6.258e+04</td> <td> 5231.636</td> <td>   11.961</td> <td> 0.000</td> <td> 5.23e+04</td> <td> 7.28e+04</td>\n",
       "</tr>\n",
       "<tr>\n",
       "  <th>sqft_living</th>         <td>  198.3610</td> <td>   12.983</td> <td>   15.279</td> <td> 0.000</td> <td>  172.914</td> <td>  223.808</td>\n",
       "</tr>\n",
       "<tr>\n",
       "  <th>sqft_above</th>          <td>  213.2114</td> <td>   12.808</td> <td>   16.646</td> <td> 0.000</td> <td>  188.107</td> <td>  238.316</td>\n",
       "</tr>\n",
       "<tr>\n",
       "  <th>sqft_basement</th>       <td>  172.5682</td> <td>    9.336</td> <td>   18.484</td> <td> 0.000</td> <td>  154.269</td> <td>  190.867</td>\n",
       "</tr>\n",
       "<tr>\n",
       "  <th>sqft_garage</th>         <td> -242.5409</td> <td>   12.247</td> <td>  -19.804</td> <td> 0.000</td> <td> -266.546</td> <td> -218.536</td>\n",
       "</tr>\n",
       "<tr>\n",
       "  <th>sqft_patio</th>          <td>  132.4807</td> <td>   12.966</td> <td>   10.218</td> <td> 0.000</td> <td>  107.067</td> <td>  157.894</td>\n",
       "</tr>\n",
       "<tr>\n",
       "  <th>grade_Average</th>       <td>-6.997e+05</td> <td> 1.41e+04</td> <td>  -49.640</td> <td> 0.000</td> <td>-7.27e+05</td> <td>-6.72e+05</td>\n",
       "</tr>\n",
       "<tr>\n",
       "  <th>grade_Below Average</th> <td>-7.647e+05</td> <td>  1.8e+04</td> <td>  -42.522</td> <td> 0.000</td> <td>   -8e+05</td> <td>-7.29e+05</td>\n",
       "</tr>\n",
       "<tr>\n",
       "  <th>grade_Poor</th>          <td>-7.023e+05</td> <td> 2.68e+05</td> <td>   -2.616</td> <td> 0.009</td> <td>-1.23e+06</td> <td>-1.76e+05</td>\n",
       "</tr>\n",
       "</table>\n",
       "<table class=\"simpletable\">\n",
       "<tr>\n",
       "  <th>Omnibus:</th>       <td>9507.968</td> <th>  Durbin-Watson:     </th> <td>   1.959</td> \n",
       "</tr>\n",
       "<tr>\n",
       "  <th>Prob(Omnibus):</th>  <td> 0.000</td>  <th>  Jarque-Bera (JB):  </th> <td>70208.282</td>\n",
       "</tr>\n",
       "<tr>\n",
       "  <th>Skew:</th>           <td> 1.382</td>  <th>  Prob(JB):          </th> <td>    0.00</td> \n",
       "</tr>\n",
       "<tr>\n",
       "  <th>Kurtosis:</th>       <td>10.107</td>  <th>  Cond. No.          </th> <td>2.98e+05</td> \n",
       "</tr>\n",
       "</table><br/><br/>Notes:<br/>[1] Standard Errors assume that the covariance matrix of the errors is correctly specified.<br/>[2] The condition number is large, 2.98e+05. This might indicate that there are<br/>strong multicollinearity or other numerical problems."
      ],
      "text/plain": [
       "<class 'statsmodels.iolib.summary.Summary'>\n",
       "\"\"\"\n",
       "                            OLS Regression Results                            \n",
       "==============================================================================\n",
       "Dep. Variable:                  price   R-squared:                       0.490\n",
       "Model:                            OLS   Adj. R-squared:                  0.490\n",
       "Method:                 Least Squares   F-statistic:                     2786.\n",
       "Date:                Thu, 29 Sep 2022   Prob (F-statistic):               0.00\n",
       "Time:                        01:16:35   Log-Likelihood:            -4.1918e+05\n",
       "No. Observations:               28976   AIC:                         8.384e+05\n",
       "Df Residuals:                   28965   BIC:                         8.385e+05\n",
       "Df Model:                          10                                         \n",
       "Covariance Type:            nonrobust                                         \n",
       "=======================================================================================\n",
       "                          coef    std err          t      P>|t|      [0.025      0.975]\n",
       "---------------------------------------------------------------------------------------\n",
       "const                9.706e+05   2.02e+04     48.163      0.000    9.31e+05    1.01e+06\n",
       "bedrooms            -6.224e+04   4055.482    -15.348      0.000   -7.02e+04   -5.43e+04\n",
       "bathrooms            6.258e+04   5231.636     11.961      0.000    5.23e+04    7.28e+04\n",
       "sqft_living           198.3610     12.983     15.279      0.000     172.914     223.808\n",
       "sqft_above            213.2114     12.808     16.646      0.000     188.107     238.316\n",
       "sqft_basement         172.5682      9.336     18.484      0.000     154.269     190.867\n",
       "sqft_garage          -242.5409     12.247    -19.804      0.000    -266.546    -218.536\n",
       "sqft_patio            132.4807     12.966     10.218      0.000     107.067     157.894\n",
       "grade_Average       -6.997e+05   1.41e+04    -49.640      0.000   -7.27e+05   -6.72e+05\n",
       "grade_Below Average -7.647e+05    1.8e+04    -42.522      0.000      -8e+05   -7.29e+05\n",
       "grade_Poor          -7.023e+05   2.68e+05     -2.616      0.009   -1.23e+06   -1.76e+05\n",
       "==============================================================================\n",
       "Omnibus:                     9507.968   Durbin-Watson:                   1.959\n",
       "Prob(Omnibus):                  0.000   Jarque-Bera (JB):            70208.282\n",
       "Skew:                           1.382   Prob(JB):                         0.00\n",
       "Kurtosis:                      10.107   Cond. No.                     2.98e+05\n",
       "==============================================================================\n",
       "\n",
       "Notes:\n",
       "[1] Standard Errors assume that the covariance matrix of the errors is correctly specified.\n",
       "[2] The condition number is large, 2.98e+05. This might indicate that there are\n",
       "strong multicollinearity or other numerical problems.\n",
       "\"\"\""
      ]
     },
     "execution_count": 239,
     "metadata": {},
     "output_type": "execute_result"
    }
   ],
   "source": [
    "X=model_clean.drop(labels =['price', 'sqft_lot', 'sale_year', 'floors'], axis=1)\n",
    "y=model_clean.price\n",
    "\n",
    "first_dummy_model = sm.OLS(y,sm.add_constant(X))\n",
    "results = first_dummy_model.fit()\n",
    "results.summary()"
   ]
  },
  {
   "cell_type": "markdown",
   "metadata": {},
   "source": [
    "Back at .490 with all our predictors. This will be the final model for the presentation. Further attempts went down a rabbit hole of worse results."
   ]
  },
  {
   "cell_type": "markdown",
   "metadata": {
    "index": 67
   },
   "source": [
    "## Regression Results"
   ]
  },
  {
   "cell_type": "markdown",
   "metadata": {
    "index": 86
   },
   "source": [
    "## Conclusion"
   ]
  },
  {
   "cell_type": "markdown",
   "metadata": {},
   "source": [
    "Well, the regression doesn't fit that well with a R-Squared of only .490. The the modeled predictors are statistically significant, though. The base constant for my last model is 970,600. The main predictors affecting this model is the building condition, bedrooms, and bathrooms. The condition of the house is assumed to be \"Above Average\", but lower grades lower the overall price. Although, the poor grade seems to have less of an effect on the price, but then the standard error on that predictor is larger then \"Average\" and \"\"Below Average\". For some reason, the more bedrooms there is seems to lower the price of the house. And each bathroom increases the price by 62,580, this seems high though."
   ]
  },
  {
   "cell_type": "markdown",
   "metadata": {},
   "source": [
    "## Limitations"
   ]
  },
  {
   "cell_type": "markdown",
   "metadata": {},
   "source": [
    "This analysis wasn't the greatest. I should of included more predictors and winnowed out more of the colinear predictors. I also think we could of split up the zip codes into rural/urbans and done two sperate linear regressions. I think this would have shown differences in the base price and lot size effects on property values."
   ]
  },
  {
   "cell_type": "markdown",
   "metadata": {
    "index": 85
   },
   "source": [
    "## Level Up: Project Enhancements\n",
    "\n",
    "After completing the minimum project requirements, you could consider the following enhancements if you have time:\n",
    "\n",
    "* Consider applying a linear or non-linear transformation to your features and/or target\n",
    "* Investigate the linear regression assumptions for your final model\n",
    "* Identify and remove outliers, then redo the analysis\n",
    "* Compile the data cleaning code into a function"
   ]
  },
  {
   "cell_type": "markdown",
   "metadata": {},
   "source": [
    "# The End - Before the Rabbit Hole.... :>"
   ]
  },
  {
   "cell_type": "markdown",
   "metadata": {},
   "source": [
    "# The Rabbit Hole of trying to get a better R-value."
   ]
  },
  {
   "cell_type": "code",
   "execution_count": 88,
   "metadata": {},
   "outputs": [
    {
     "data": {
      "text/plain": [
       "<AxesSubplot:>"
      ]
     },
     "execution_count": 88,
     "metadata": {},
     "output_type": "execute_result"
    },
    {
     "data": {
      "image/png": "[encoded data removed]",
      "text/plain": [
       "<Figure size 432x288 with 2 Axes>"
      ]
     },
     "metadata": {
      "needs_background": "light"
     },
     "output_type": "display_data"
    }
   ],
   "source": [
    "sns.heatmap(X.corr())"
   ]
  },
  {
   "cell_type": "markdown",
   "metadata": {},
   "source": [
    "Let's try no `bedrooms` or `bathrooms` now."
   ]
  },
  {
   "cell_type": "code",
   "execution_count": 89,
   "metadata": {},
   "outputs": [
    {
     "name": "stderr",
     "output_type": "stream",
     "text": [
      "/opt/conda/lib/python3.9/site-packages/statsmodels/tsa/tsatools.py:142: FutureWarning: In a future version of pandas all arguments of concat except for the argument 'objs' will be keyword-only\n",
      "  x = pd.concat(x[::order], 1)\n"
     ]
    },
    {
     "data": {
      "text/html": [
       "<table class=\"simpletable\">\n",
       "<caption>OLS Regression Results</caption>\n",
       "<tr>\n",
       "  <th>Dep. Variable:</th>          <td>price</td>      <th>  R-squared:         </th>  <td>   0.484</td>  \n",
       "</tr>\n",
       "<tr>\n",
       "  <th>Model:</th>                   <td>OLS</td>       <th>  Adj. R-squared:    </th>  <td>   0.484</td>  \n",
       "</tr>\n",
       "<tr>\n",
       "  <th>Method:</th>             <td>Least Squares</td>  <th>  F-statistic:       </th>  <td>   3402.</td>  \n",
       "</tr>\n",
       "<tr>\n",
       "  <th>Date:</th>             <td>Thu, 29 Sep 2022</td> <th>  Prob (F-statistic):</th>   <td>  0.00</td>   \n",
       "</tr>\n",
       "<tr>\n",
       "  <th>Time:</th>                 <td>00:40:44</td>     <th>  Log-Likelihood:    </th> <td>-4.1934e+05</td>\n",
       "</tr>\n",
       "<tr>\n",
       "  <th>No. Observations:</th>      <td> 28976</td>      <th>  AIC:               </th>  <td>8.387e+05</td> \n",
       "</tr>\n",
       "<tr>\n",
       "  <th>Df Residuals:</th>          <td> 28967</td>      <th>  BIC:               </th>  <td>8.388e+05</td> \n",
       "</tr>\n",
       "<tr>\n",
       "  <th>Df Model:</th>              <td>     8</td>      <th>                     </th>      <td> </td>     \n",
       "</tr>\n",
       "<tr>\n",
       "  <th>Covariance Type:</th>      <td>nonrobust</td>    <th>                     </th>      <td> </td>     \n",
       "</tr>\n",
       "</table>\n",
       "<table class=\"simpletable\">\n",
       "<tr>\n",
       "           <td></td>              <th>coef</th>     <th>std err</th>      <th>t</th>      <th>P>|t|</th>  <th>[0.025</th>    <th>0.975]</th>  \n",
       "</tr>\n",
       "<tr>\n",
       "  <th>const</th>               <td> 9.459e+05</td> <td> 1.91e+04</td> <td>   49.475</td> <td> 0.000</td> <td> 9.08e+05</td> <td> 9.83e+05</td>\n",
       "</tr>\n",
       "<tr>\n",
       "  <th>sqft_living</th>         <td>  197.5750</td> <td>   12.089</td> <td>   16.344</td> <td> 0.000</td> <td>  173.881</td> <td>  221.269</td>\n",
       "</tr>\n",
       "<tr>\n",
       "  <th>sqft_above</th>          <td>  206.0195</td> <td>   12.846</td> <td>   16.038</td> <td> 0.000</td> <td>  180.841</td> <td>  231.198</td>\n",
       "</tr>\n",
       "<tr>\n",
       "  <th>sqft_basement</th>       <td>  165.7596</td> <td>    9.373</td> <td>   17.686</td> <td> 0.000</td> <td>  147.389</td> <td>  184.130</td>\n",
       "</tr>\n",
       "<tr>\n",
       "  <th>sqft_garage</th>         <td> -232.0329</td> <td>   12.257</td> <td>  -18.931</td> <td> 0.000</td> <td> -256.057</td> <td> -208.009</td>\n",
       "</tr>\n",
       "<tr>\n",
       "  <th>sqft_patio</th>          <td>  156.7999</td> <td>   12.969</td> <td>   12.091</td> <td> 0.000</td> <td>  131.381</td> <td>  182.219</td>\n",
       "</tr>\n",
       "<tr>\n",
       "  <th>grade_Average</th>       <td>-7.329e+05</td> <td>  1.4e+04</td> <td>  -52.488</td> <td> 0.000</td> <td> -7.6e+05</td> <td>-7.06e+05</td>\n",
       "</tr>\n",
       "<tr>\n",
       "  <th>grade_Below Average</th> <td>-8.136e+05</td> <td> 1.79e+04</td> <td>  -45.493</td> <td> 0.000</td> <td>-8.49e+05</td> <td>-7.79e+05</td>\n",
       "</tr>\n",
       "<tr>\n",
       "  <th>grade_Poor</th>          <td>-6.948e+05</td> <td>  2.7e+05</td> <td>   -2.573</td> <td> 0.010</td> <td>-1.22e+06</td> <td>-1.66e+05</td>\n",
       "</tr>\n",
       "</table>\n",
       "<table class=\"simpletable\">\n",
       "<tr>\n",
       "  <th>Omnibus:</th>       <td>9545.625</td> <th>  Durbin-Watson:     </th> <td>   1.957</td> \n",
       "</tr>\n",
       "<tr>\n",
       "  <th>Prob(Omnibus):</th>  <td> 0.000</td>  <th>  Jarque-Bera (JB):  </th> <td>70237.602</td>\n",
       "</tr>\n",
       "<tr>\n",
       "  <th>Skew:</th>           <td> 1.389</td>  <th>  Prob(JB):          </th> <td>    0.00</td> \n",
       "</tr>\n",
       "<tr>\n",
       "  <th>Kurtosis:</th>       <td>10.103</td>  <th>  Cond. No.          </th> <td>2.98e+05</td> \n",
       "</tr>\n",
       "</table><br/><br/>Notes:<br/>[1] Standard Errors assume that the covariance matrix of the errors is correctly specified.<br/>[2] The condition number is large, 2.98e+05. This might indicate that there are<br/>strong multicollinearity or other numerical problems."
      ],
      "text/plain": [
       "<class 'statsmodels.iolib.summary.Summary'>\n",
       "\"\"\"\n",
       "                            OLS Regression Results                            \n",
       "==============================================================================\n",
       "Dep. Variable:                  price   R-squared:                       0.484\n",
       "Model:                            OLS   Adj. R-squared:                  0.484\n",
       "Method:                 Least Squares   F-statistic:                     3402.\n",
       "Date:                Thu, 29 Sep 2022   Prob (F-statistic):               0.00\n",
       "Time:                        00:40:44   Log-Likelihood:            -4.1934e+05\n",
       "No. Observations:               28976   AIC:                         8.387e+05\n",
       "Df Residuals:                   28967   BIC:                         8.388e+05\n",
       "Df Model:                           8                                         \n",
       "Covariance Type:            nonrobust                                         \n",
       "=======================================================================================\n",
       "                          coef    std err          t      P>|t|      [0.025      0.975]\n",
       "---------------------------------------------------------------------------------------\n",
       "const                9.459e+05   1.91e+04     49.475      0.000    9.08e+05    9.83e+05\n",
       "sqft_living           197.5750     12.089     16.344      0.000     173.881     221.269\n",
       "sqft_above            206.0195     12.846     16.038      0.000     180.841     231.198\n",
       "sqft_basement         165.7596      9.373     17.686      0.000     147.389     184.130\n",
       "sqft_garage          -232.0329     12.257    -18.931      0.000    -256.057    -208.009\n",
       "sqft_patio            156.7999     12.969     12.091      0.000     131.381     182.219\n",
       "grade_Average       -7.329e+05    1.4e+04    -52.488      0.000    -7.6e+05   -7.06e+05\n",
       "grade_Below Average -8.136e+05   1.79e+04    -45.493      0.000   -8.49e+05   -7.79e+05\n",
       "grade_Poor          -6.948e+05    2.7e+05     -2.573      0.010   -1.22e+06   -1.66e+05\n",
       "==============================================================================\n",
       "Omnibus:                     9545.625   Durbin-Watson:                   1.957\n",
       "Prob(Omnibus):                  0.000   Jarque-Bera (JB):            70237.602\n",
       "Skew:                           1.389   Prob(JB):                         0.00\n",
       "Kurtosis:                      10.103   Cond. No.                     2.98e+05\n",
       "==============================================================================\n",
       "\n",
       "Notes:\n",
       "[1] Standard Errors assume that the covariance matrix of the errors is correctly specified.\n",
       "[2] The condition number is large, 2.98e+05. This might indicate that there are\n",
       "strong multicollinearity or other numerical problems.\n",
       "\"\"\""
      ]
     },
     "execution_count": 89,
     "metadata": {},
     "output_type": "execute_result"
    }
   ],
   "source": [
    "X=model_clean.drop(labels =['price', 'sqft_lot', 'sale_year', 'floors', 'bedrooms', 'bathrooms'], axis=1)\n",
    "y=model_clean.price\n",
    "\n",
    "first_dummy_model = sm.OLS(y,sm.add_constant(X))\n",
    "results = first_dummy_model.fit()\n",
    "results.summary()"
   ]
  },
  {
   "cell_type": "markdown",
   "metadata": {},
   "source": [
    "Let's check out 'sqft_living' and see how it does against price."
   ]
  },
  {
   "cell_type": "code",
   "execution_count": 90,
   "metadata": {},
   "outputs": [
    {
     "data": {
      "image/png": "[encoded data removed]",
      "text/plain": [
       "<Figure size 432x288 with 1 Axes>"
      ]
     },
     "metadata": {
      "needs_background": "light"
     },
     "output_type": "display_data"
    }
   ],
   "source": [
    "model_clean.plot(x=\"sqft_living\", y=\"price\", kind=\"scatter\");"
   ]
  },
  {
   "cell_type": "markdown",
   "metadata": {},
   "source": [
    "Let's cut down the `sqft_living` and see if the relationship clears up some. There could be a linear one in there, but buried."
   ]
  },
  {
   "cell_type": "code",
   "execution_count": 91,
   "metadata": {},
   "outputs": [
    {
     "data": {
      "text/plain": [
       "count   28976.00\n",
       "mean     2067.11\n",
       "std       890.10\n",
       "min       310.00\n",
       "25%      1410.00\n",
       "50%      1900.00\n",
       "75%      2570.00\n",
       "max      8882.00\n",
       "Name: sqft_living, dtype: float64"
      ]
     },
     "execution_count": 91,
     "metadata": {},
     "output_type": "execute_result"
    }
   ],
   "source": [
    "model_clean.sqft_living.describe()"
   ]
  },
  {
   "cell_type": "code",
   "execution_count": 92,
   "metadata": {},
   "outputs": [
    {
     "data": {
      "image/png": "[encoded data removed]",
      "text/plain": [
       "<Figure size 432x288 with 1 Axes>"
      ]
     },
     "metadata": {
      "needs_background": "light"
     },
     "output_type": "display_data"
    }
   ],
   "source": [
    "sns.boxplot(data=model_clean[[\"sqft_living\"]], orient=\"h\", width=0.5);"
   ]
  },
  {
   "cell_type": "markdown",
   "metadata": {},
   "source": [
    "There are quite a few outliers in the `sqft_living`, so we will limit the range to a max of 5,000 since that is just over 3 standard deviations from the mean from these 2 years. "
   ]
  },
  {
   "cell_type": "code",
   "execution_count": 93,
   "metadata": {},
   "outputs": [],
   "source": [
    "model_clean.drop(model_clean.index[model_clean['sqft_living'] > 5000], inplace=True)"
   ]
  },
  {
   "cell_type": "markdown",
   "metadata": {},
   "source": [
    "Now lets see how it looks."
   ]
  },
  {
   "cell_type": "code",
   "execution_count": 94,
   "metadata": {},
   "outputs": [
    {
     "data": {
      "text/plain": [
       "count   28788.00\n",
       "mean     2043.72\n",
       "std       842.57\n",
       "min       310.00\n",
       "25%      1400.00\n",
       "50%      1890.00\n",
       "75%      2550.00\n",
       "max      5000.00\n",
       "Name: sqft_living, dtype: float64"
      ]
     },
     "execution_count": 94,
     "metadata": {},
     "output_type": "execute_result"
    }
   ],
   "source": [
    "model_clean.sqft_living.describe()"
   ]
  },
  {
   "cell_type": "code",
   "execution_count": 95,
   "metadata": {},
   "outputs": [
    {
     "data": {
      "image/png": "[encoded data removed]",
      "text/plain": [
       "<Figure size 432x288 with 1 Axes>"
      ]
     },
     "metadata": {
      "needs_background": "light"
     },
     "output_type": "display_data"
    }
   ],
   "source": [
    "sns.boxplot(data=model_clean[[\"sqft_living\"]], orient=\"h\", width=0.5);"
   ]
  },
  {
   "cell_type": "code",
   "execution_count": 96,
   "metadata": {},
   "outputs": [
    {
     "data": {
      "image/png": "[encoded data removed]",
      "text/plain": [
       "<Figure size 432x288 with 1 Axes>"
      ]
     },
     "metadata": {
      "needs_background": "light"
     },
     "output_type": "display_data"
    }
   ],
   "source": [
    "model_clean.plot(x=\"sqft_living\", y=\"price\", kind=\"scatter\");"
   ]
  },
  {
   "cell_type": "markdown",
   "metadata": {},
   "source": [
    "Here we go again with the model."
   ]
  },
  {
   "cell_type": "code",
   "execution_count": 97,
   "metadata": {},
   "outputs": [
    {
     "name": "stderr",
     "output_type": "stream",
     "text": [
      "/opt/conda/lib/python3.9/site-packages/statsmodels/tsa/tsatools.py:142: FutureWarning: In a future version of pandas all arguments of concat except for the argument 'objs' will be keyword-only\n",
      "  x = pd.concat(x[::order], 1)\n"
     ]
    },
    {
     "data": {
      "text/html": [
       "<table class=\"simpletable\">\n",
       "<caption>OLS Regression Results</caption>\n",
       "<tr>\n",
       "  <th>Dep. Variable:</th>          <td>price</td>      <th>  R-squared:         </th>  <td>   0.457</td>  \n",
       "</tr>\n",
       "<tr>\n",
       "  <th>Model:</th>                   <td>OLS</td>       <th>  Adj. R-squared:    </th>  <td>   0.457</td>  \n",
       "</tr>\n",
       "<tr>\n",
       "  <th>Method:</th>             <td>Least Squares</td>  <th>  F-statistic:       </th>  <td>   2199.</td>  \n",
       "</tr>\n",
       "<tr>\n",
       "  <th>Date:</th>             <td>Thu, 29 Sep 2022</td> <th>  Prob (F-statistic):</th>   <td>  0.00</td>   \n",
       "</tr>\n",
       "<tr>\n",
       "  <th>Time:</th>                 <td>00:40:44</td>     <th>  Log-Likelihood:    </th> <td>-4.1613e+05</td>\n",
       "</tr>\n",
       "<tr>\n",
       "  <th>No. Observations:</th>      <td> 28788</td>      <th>  AIC:               </th>  <td>8.323e+05</td> \n",
       "</tr>\n",
       "<tr>\n",
       "  <th>Df Residuals:</th>          <td> 28776</td>      <th>  BIC:               </th>  <td>8.324e+05</td> \n",
       "</tr>\n",
       "<tr>\n",
       "  <th>Df Model:</th>              <td>    11</td>      <th>                     </th>      <td> </td>     \n",
       "</tr>\n",
       "<tr>\n",
       "  <th>Covariance Type:</th>      <td>nonrobust</td>    <th>                     </th>      <td> </td>     \n",
       "</tr>\n",
       "</table>\n",
       "<table class=\"simpletable\">\n",
       "<tr>\n",
       "           <td></td>              <th>coef</th>     <th>std err</th>      <th>t</th>      <th>P>|t|</th>  <th>[0.025</th>    <th>0.975]</th>  \n",
       "</tr>\n",
       "<tr>\n",
       "  <th>const</th>               <td> 9.644e+05</td> <td> 2.02e+04</td> <td>   47.851</td> <td> 0.000</td> <td> 9.25e+05</td> <td>    1e+06</td>\n",
       "</tr>\n",
       "<tr>\n",
       "  <th>bedrooms</th>            <td>-6.287e+04</td> <td> 4051.449</td> <td>  -15.518</td> <td> 0.000</td> <td>-7.08e+04</td> <td>-5.49e+04</td>\n",
       "</tr>\n",
       "<tr>\n",
       "  <th>bathrooms</th>           <td> 5.804e+04</td> <td> 5277.255</td> <td>   10.998</td> <td> 0.000</td> <td> 4.77e+04</td> <td> 6.84e+04</td>\n",
       "</tr>\n",
       "<tr>\n",
       "  <th>sqft_living</th>         <td>  203.1502</td> <td>   13.069</td> <td>   15.545</td> <td> 0.000</td> <td>  177.535</td> <td>  228.765</td>\n",
       "</tr>\n",
       "<tr>\n",
       "  <th>sqft_lot</th>            <td>   -0.2836</td> <td>    0.253</td> <td>   -1.121</td> <td> 0.262</td> <td>   -0.779</td> <td>    0.212</td>\n",
       "</tr>\n",
       "<tr>\n",
       "  <th>sqft_above</th>          <td>  209.4806</td> <td>   12.811</td> <td>   16.351</td> <td> 0.000</td> <td>  184.370</td> <td>  234.591</td>\n",
       "</tr>\n",
       "<tr>\n",
       "  <th>sqft_basement</th>       <td>  173.1186</td> <td>    9.312</td> <td>   18.592</td> <td> 0.000</td> <td>  154.868</td> <td>  191.370</td>\n",
       "</tr>\n",
       "<tr>\n",
       "  <th>sqft_garage</th>         <td> -238.1046</td> <td>   12.384</td> <td>  -19.227</td> <td> 0.000</td> <td> -262.377</td> <td> -213.832</td>\n",
       "</tr>\n",
       "<tr>\n",
       "  <th>sqft_patio</th>          <td>  135.4272</td> <td>   13.252</td> <td>   10.219</td> <td> 0.000</td> <td>  109.453</td> <td>  161.402</td>\n",
       "</tr>\n",
       "<tr>\n",
       "  <th>grade_Average</th>       <td>-6.835e+05</td> <td> 1.42e+04</td> <td>  -48.108</td> <td> 0.000</td> <td>-7.11e+05</td> <td>-6.56e+05</td>\n",
       "</tr>\n",
       "<tr>\n",
       "  <th>grade_Below Average</th> <td>-7.503e+05</td> <td>  1.8e+04</td> <td>  -41.745</td> <td> 0.000</td> <td>-7.86e+05</td> <td>-7.15e+05</td>\n",
       "</tr>\n",
       "<tr>\n",
       "  <th>grade_Poor</th>          <td>-6.845e+05</td> <td> 2.65e+05</td> <td>   -2.578</td> <td> 0.010</td> <td> -1.2e+06</td> <td>-1.64e+05</td>\n",
       "</tr>\n",
       "</table>\n",
       "<table class=\"simpletable\">\n",
       "<tr>\n",
       "  <th>Omnibus:</th>       <td>9967.429</td> <th>  Durbin-Watson:     </th> <td>   1.959</td> \n",
       "</tr>\n",
       "<tr>\n",
       "  <th>Prob(Omnibus):</th>  <td> 0.000</td>  <th>  Jarque-Bera (JB):  </th> <td>74339.917</td>\n",
       "</tr>\n",
       "<tr>\n",
       "  <th>Skew:</th>           <td> 1.469</td>  <th>  Prob(JB):          </th> <td>    0.00</td> \n",
       "</tr>\n",
       "<tr>\n",
       "  <th>Kurtosis:</th>       <td>10.304</td>  <th>  Cond. No.          </th> <td>1.51e+06</td> \n",
       "</tr>\n",
       "</table><br/><br/>Notes:<br/>[1] Standard Errors assume that the covariance matrix of the errors is correctly specified.<br/>[2] The condition number is large, 1.51e+06. This might indicate that there are<br/>strong multicollinearity or other numerical problems."
      ],
      "text/plain": [
       "<class 'statsmodels.iolib.summary.Summary'>\n",
       "\"\"\"\n",
       "                            OLS Regression Results                            \n",
       "==============================================================================\n",
       "Dep. Variable:                  price   R-squared:                       0.457\n",
       "Model:                            OLS   Adj. R-squared:                  0.457\n",
       "Method:                 Least Squares   F-statistic:                     2199.\n",
       "Date:                Thu, 29 Sep 2022   Prob (F-statistic):               0.00\n",
       "Time:                        00:40:44   Log-Likelihood:            -4.1613e+05\n",
       "No. Observations:               28788   AIC:                         8.323e+05\n",
       "Df Residuals:                   28776   BIC:                         8.324e+05\n",
       "Df Model:                          11                                         \n",
       "Covariance Type:            nonrobust                                         \n",
       "=======================================================================================\n",
       "                          coef    std err          t      P>|t|      [0.025      0.975]\n",
       "---------------------------------------------------------------------------------------\n",
       "const                9.644e+05   2.02e+04     47.851      0.000    9.25e+05       1e+06\n",
       "bedrooms            -6.287e+04   4051.449    -15.518      0.000   -7.08e+04   -5.49e+04\n",
       "bathrooms            5.804e+04   5277.255     10.998      0.000    4.77e+04    6.84e+04\n",
       "sqft_living           203.1502     13.069     15.545      0.000     177.535     228.765\n",
       "sqft_lot               -0.2836      0.253     -1.121      0.262      -0.779       0.212\n",
       "sqft_above            209.4806     12.811     16.351      0.000     184.370     234.591\n",
       "sqft_basement         173.1186      9.312     18.592      0.000     154.868     191.370\n",
       "sqft_garage          -238.1046     12.384    -19.227      0.000    -262.377    -213.832\n",
       "sqft_patio            135.4272     13.252     10.219      0.000     109.453     161.402\n",
       "grade_Average       -6.835e+05   1.42e+04    -48.108      0.000   -7.11e+05   -6.56e+05\n",
       "grade_Below Average -7.503e+05    1.8e+04    -41.745      0.000   -7.86e+05   -7.15e+05\n",
       "grade_Poor          -6.845e+05   2.65e+05     -2.578      0.010    -1.2e+06   -1.64e+05\n",
       "==============================================================================\n",
       "Omnibus:                     9967.429   Durbin-Watson:                   1.959\n",
       "Prob(Omnibus):                  0.000   Jarque-Bera (JB):            74339.917\n",
       "Skew:                           1.469   Prob(JB):                         0.00\n",
       "Kurtosis:                      10.304   Cond. No.                     1.51e+06\n",
       "==============================================================================\n",
       "\n",
       "Notes:\n",
       "[1] Standard Errors assume that the covariance matrix of the errors is correctly specified.\n",
       "[2] The condition number is large, 1.51e+06. This might indicate that there are\n",
       "strong multicollinearity or other numerical problems.\n",
       "\"\"\""
      ]
     },
     "execution_count": 97,
     "metadata": {},
     "output_type": "execute_result"
    }
   ],
   "source": [
    "X=model_clean.drop(labels =['price', 'sale_year', 'floors'], axis=1)\n",
    "y=model_clean.price\n",
    "\n",
    "first_dummy_model = sm.OLS(y,sm.add_constant(X))\n",
    "results = first_dummy_model.fit()\n",
    "results.summary()"
   ]
  },
  {
   "cell_type": "markdown",
   "metadata": {},
   "source": [
    "Let's go lower with price to about 3 million."
   ]
  },
  {
   "cell_type": "code",
   "execution_count": 98,
   "metadata": {},
   "outputs": [],
   "source": [
    "model_clean.drop(model_clean.index[model_clean['price'] > 3000000], inplace=True)"
   ]
  },
  {
   "cell_type": "code",
   "execution_count": 99,
   "metadata": {},
   "outputs": [
    {
     "data": {
      "text/plain": [
       "count     28313.00\n",
       "mean     995026.78\n",
       "std      524318.49\n",
       "min       27360.00\n",
       "25%      635000.00\n",
       "50%      841000.00\n",
       "75%     1238000.00\n",
       "max     3000000.00\n",
       "Name: price, dtype: float64"
      ]
     },
     "execution_count": 99,
     "metadata": {},
     "output_type": "execute_result"
    }
   ],
   "source": [
    "model_clean.price.describe()"
   ]
  },
  {
   "cell_type": "code",
   "execution_count": 100,
   "metadata": {},
   "outputs": [
    {
     "data": {
      "image/png": "[encoded data removed]",
      "text/plain": [
       "<Figure size 432x288 with 1 Axes>"
      ]
     },
     "metadata": {
      "needs_background": "light"
     },
     "output_type": "display_data"
    }
   ],
   "source": [
    "sns.boxplot(data=model_clean[[\"price\"]], orient=\"h\", width=0.5);"
   ]
  },
  {
   "cell_type": "code",
   "execution_count": 101,
   "metadata": {},
   "outputs": [
    {
     "name": "stderr",
     "output_type": "stream",
     "text": [
      "/opt/conda/lib/python3.9/site-packages/statsmodels/tsa/tsatools.py:142: FutureWarning: In a future version of pandas all arguments of concat except for the argument 'objs' will be keyword-only\n",
      "  x = pd.concat(x[::order], 1)\n"
     ]
    },
    {
     "data": {
      "text/html": [
       "<table class=\"simpletable\">\n",
       "<caption>OLS Regression Results</caption>\n",
       "<tr>\n",
       "  <th>Dep. Variable:</th>          <td>price</td>      <th>  R-squared:         </th>  <td>   0.422</td>  \n",
       "</tr>\n",
       "<tr>\n",
       "  <th>Model:</th>                   <td>OLS</td>       <th>  Adj. R-squared:    </th>  <td>   0.422</td>  \n",
       "</tr>\n",
       "<tr>\n",
       "  <th>Method:</th>             <td>Least Squares</td>  <th>  F-statistic:       </th>  <td>   1877.</td>  \n",
       "</tr>\n",
       "<tr>\n",
       "  <th>Date:</th>             <td>Thu, 29 Sep 2022</td> <th>  Prob (F-statistic):</th>   <td>  0.00</td>   \n",
       "</tr>\n",
       "<tr>\n",
       "  <th>Time:</th>                 <td>00:40:45</td>     <th>  Log-Likelihood:    </th> <td>-4.0530e+05</td>\n",
       "</tr>\n",
       "<tr>\n",
       "  <th>No. Observations:</th>      <td> 28313</td>      <th>  AIC:               </th>  <td>8.106e+05</td> \n",
       "</tr>\n",
       "<tr>\n",
       "  <th>Df Residuals:</th>          <td> 28301</td>      <th>  BIC:               </th>  <td>8.107e+05</td> \n",
       "</tr>\n",
       "<tr>\n",
       "  <th>Df Model:</th>              <td>    11</td>      <th>                     </th>      <td> </td>     \n",
       "</tr>\n",
       "<tr>\n",
       "  <th>Covariance Type:</th>      <td>nonrobust</td>    <th>                     </th>      <td> </td>     \n",
       "</tr>\n",
       "</table>\n",
       "<table class=\"simpletable\">\n",
       "<tr>\n",
       "           <td></td>              <th>coef</th>     <th>std err</th>      <th>t</th>      <th>P>|t|</th>  <th>[0.025</th>    <th>0.975]</th>  \n",
       "</tr>\n",
       "<tr>\n",
       "  <th>const</th>               <td> 8.306e+05</td> <td> 1.82e+04</td> <td>   45.647</td> <td> 0.000</td> <td> 7.95e+05</td> <td> 8.66e+05</td>\n",
       "</tr>\n",
       "<tr>\n",
       "  <th>bedrooms</th>            <td> -4.83e+04</td> <td> 3561.808</td> <td>  -13.560</td> <td> 0.000</td> <td>-5.53e+04</td> <td>-4.13e+04</td>\n",
       "</tr>\n",
       "<tr>\n",
       "  <th>bathrooms</th>           <td> 4.338e+04</td> <td> 4655.006</td> <td>    9.318</td> <td> 0.000</td> <td> 3.43e+04</td> <td> 5.25e+04</td>\n",
       "</tr>\n",
       "<tr>\n",
       "  <th>sqft_living</th>         <td>  194.6276</td> <td>   11.560</td> <td>   16.837</td> <td> 0.000</td> <td>  171.970</td> <td>  217.285</td>\n",
       "</tr>\n",
       "<tr>\n",
       "  <th>sqft_lot</th>            <td>   -0.3809</td> <td>    0.222</td> <td>   -1.716</td> <td> 0.086</td> <td>   -0.816</td> <td>    0.054</td>\n",
       "</tr>\n",
       "<tr>\n",
       "  <th>sqft_above</th>          <td>  170.4966</td> <td>   11.338</td> <td>   15.037</td> <td> 0.000</td> <td>  148.273</td> <td>  192.720</td>\n",
       "</tr>\n",
       "<tr>\n",
       "  <th>sqft_basement</th>       <td>  148.0304</td> <td>    8.218</td> <td>   18.014</td> <td> 0.000</td> <td>  131.924</td> <td>  164.137</td>\n",
       "</tr>\n",
       "<tr>\n",
       "  <th>sqft_garage</th>         <td> -187.6164</td> <td>   10.921</td> <td>  -17.179</td> <td> 0.000</td> <td> -209.023</td> <td> -166.210</td>\n",
       "</tr>\n",
       "<tr>\n",
       "  <th>sqft_patio</th>          <td>  114.6075</td> <td>   11.731</td> <td>    9.770</td> <td> 0.000</td> <td>   91.615</td> <td>  137.600</td>\n",
       "</tr>\n",
       "<tr>\n",
       "  <th>grade_Average</th>       <td>-4.959e+05</td> <td> 1.33e+04</td> <td>  -37.252</td> <td> 0.000</td> <td>-5.22e+05</td> <td> -4.7e+05</td>\n",
       "</tr>\n",
       "<tr>\n",
       "  <th>grade_Below Average</th> <td>-5.876e+05</td> <td> 1.64e+04</td> <td>  -35.895</td> <td> 0.000</td> <td> -6.2e+05</td> <td>-5.56e+05</td>\n",
       "</tr>\n",
       "<tr>\n",
       "  <th>grade_Poor</th>          <td>-5.257e+05</td> <td> 2.31e+05</td> <td>   -2.278</td> <td> 0.023</td> <td>-9.78e+05</td> <td>-7.33e+04</td>\n",
       "</tr>\n",
       "</table>\n",
       "<table class=\"simpletable\">\n",
       "<tr>\n",
       "  <th>Omnibus:</th>       <td>4045.176</td> <th>  Durbin-Watson:     </th> <td>   2.008</td> \n",
       "</tr>\n",
       "<tr>\n",
       "  <th>Prob(Omnibus):</th>  <td> 0.000</td>  <th>  Jarque-Bera (JB):  </th> <td>10023.477</td>\n",
       "</tr>\n",
       "<tr>\n",
       "  <th>Skew:</th>           <td> 0.815</td>  <th>  Prob(JB):          </th> <td>    0.00</td> \n",
       "</tr>\n",
       "<tr>\n",
       "  <th>Kurtosis:</th>       <td> 5.417</td>  <th>  Cond. No.          </th> <td>1.49e+06</td> \n",
       "</tr>\n",
       "</table><br/><br/>Notes:<br/>[1] Standard Errors assume that the covariance matrix of the errors is correctly specified.<br/>[2] The condition number is large, 1.49e+06. This might indicate that there are<br/>strong multicollinearity or other numerical problems."
      ],
      "text/plain": [
       "<class 'statsmodels.iolib.summary.Summary'>\n",
       "\"\"\"\n",
       "                            OLS Regression Results                            \n",
       "==============================================================================\n",
       "Dep. Variable:                  price   R-squared:                       0.422\n",
       "Model:                            OLS   Adj. R-squared:                  0.422\n",
       "Method:                 Least Squares   F-statistic:                     1877.\n",
       "Date:                Thu, 29 Sep 2022   Prob (F-statistic):               0.00\n",
       "Time:                        00:40:45   Log-Likelihood:            -4.0530e+05\n",
       "No. Observations:               28313   AIC:                         8.106e+05\n",
       "Df Residuals:                   28301   BIC:                         8.107e+05\n",
       "Df Model:                          11                                         \n",
       "Covariance Type:            nonrobust                                         \n",
       "=======================================================================================\n",
       "                          coef    std err          t      P>|t|      [0.025      0.975]\n",
       "---------------------------------------------------------------------------------------\n",
       "const                8.306e+05   1.82e+04     45.647      0.000    7.95e+05    8.66e+05\n",
       "bedrooms             -4.83e+04   3561.808    -13.560      0.000   -5.53e+04   -4.13e+04\n",
       "bathrooms            4.338e+04   4655.006      9.318      0.000    3.43e+04    5.25e+04\n",
       "sqft_living           194.6276     11.560     16.837      0.000     171.970     217.285\n",
       "sqft_lot               -0.3809      0.222     -1.716      0.086      -0.816       0.054\n",
       "sqft_above            170.4966     11.338     15.037      0.000     148.273     192.720\n",
       "sqft_basement         148.0304      8.218     18.014      0.000     131.924     164.137\n",
       "sqft_garage          -187.6164     10.921    -17.179      0.000    -209.023    -166.210\n",
       "sqft_patio            114.6075     11.731      9.770      0.000      91.615     137.600\n",
       "grade_Average       -4.959e+05   1.33e+04    -37.252      0.000   -5.22e+05    -4.7e+05\n",
       "grade_Below Average -5.876e+05   1.64e+04    -35.895      0.000    -6.2e+05   -5.56e+05\n",
       "grade_Poor          -5.257e+05   2.31e+05     -2.278      0.023   -9.78e+05   -7.33e+04\n",
       "==============================================================================\n",
       "Omnibus:                     4045.176   Durbin-Watson:                   2.008\n",
       "Prob(Omnibus):                  0.000   Jarque-Bera (JB):            10023.477\n",
       "Skew:                           0.815   Prob(JB):                         0.00\n",
       "Kurtosis:                       5.417   Cond. No.                     1.49e+06\n",
       "==============================================================================\n",
       "\n",
       "Notes:\n",
       "[1] Standard Errors assume that the covariance matrix of the errors is correctly specified.\n",
       "[2] The condition number is large, 1.49e+06. This might indicate that there are\n",
       "strong multicollinearity or other numerical problems.\n",
       "\"\"\""
      ]
     },
     "execution_count": 101,
     "metadata": {},
     "output_type": "execute_result"
    }
   ],
   "source": [
    "X=model_clean.drop(labels =['price', 'sale_year', 'floors'], axis=1)\n",
    "y=model_clean.price\n",
    "\n",
    "first_dummy_model = sm.OLS(y,sm.add_constant(X))\n",
    "results = first_dummy_model.fit()\n",
    "results.summary()"
   ]
  },
  {
   "cell_type": "markdown",
   "metadata": {},
   "source": [
    "Okay, back to looking at lot size, let's see if we can trim it enough to clean up enough so we don't see two potential sets of linear regression."
   ]
  },
  {
   "cell_type": "code",
   "execution_count": 102,
   "metadata": {
    "scrolled": true
   },
   "outputs": [
    {
     "data": {
      "image/png": "[encoded data removed]",
      "text/plain": [
       "<Figure size 432x288 with 1 Axes>"
      ]
     },
     "metadata": {
      "needs_background": "light"
     },
     "output_type": "display_data"
    }
   ],
   "source": [
    "model_clean.plot(x=\"sqft_lot\", y=\"price\", kind=\"scatter\");"
   ]
  },
  {
   "cell_type": "code",
   "execution_count": 103,
   "metadata": {
    "scrolled": false
   },
   "outputs": [
    {
     "data": {
      "text/plain": [
       "count   28313.00\n",
       "mean     9874.21\n",
       "std     11477.49\n",
       "min       402.00\n",
       "25%      4741.00\n",
       "50%      7273.00\n",
       "75%     10000.00\n",
       "max     99916.00\n",
       "Name: sqft_lot, dtype: float64"
      ]
     },
     "execution_count": 103,
     "metadata": {},
     "output_type": "execute_result"
    }
   ],
   "source": [
    "model_clean.sqft_lot.describe()"
   ]
  },
  {
   "cell_type": "markdown",
   "metadata": {},
   "source": [
    "Let's drop the limit down to 50,000 square foot and see what happens."
   ]
  },
  {
   "cell_type": "code",
   "execution_count": 104,
   "metadata": {},
   "outputs": [],
   "source": [
    "model_clean.drop(model_clean.index[model_clean['sqft_lot'] > 50000], inplace=True)"
   ]
  },
  {
   "cell_type": "code",
   "execution_count": 105,
   "metadata": {},
   "outputs": [
    {
     "data": {
      "text/plain": [
       "count   27759.00\n",
       "mean     8680.45\n",
       "std      7556.65\n",
       "min       402.00\n",
       "25%      4672.00\n",
       "50%      7210.00\n",
       "75%      9773.00\n",
       "max     50000.00\n",
       "Name: sqft_lot, dtype: float64"
      ]
     },
     "execution_count": 105,
     "metadata": {},
     "output_type": "execute_result"
    }
   ],
   "source": [
    "model_clean.sqft_lot.describe()"
   ]
  },
  {
   "cell_type": "code",
   "execution_count": 106,
   "metadata": {},
   "outputs": [
    {
     "data": {
      "image/png": "[encoded data removed]",
      "text/plain": [
       "<Figure size 432x288 with 1 Axes>"
      ]
     },
     "metadata": {
      "needs_background": "light"
     },
     "output_type": "display_data"
    }
   ],
   "source": [
    "sns.boxplot(data=model_clean[[\"sqft_lot\"]], orient=\"h\", width=0.5);"
   ]
  },
  {
   "cell_type": "code",
   "execution_count": 107,
   "metadata": {
    "scrolled": true
   },
   "outputs": [
    {
     "data": {
      "image/png": "[encoded data removed]",
      "text/plain": [
       "<Figure size 432x288 with 1 Axes>"
      ]
     },
     "metadata": {
      "needs_background": "light"
     },
     "output_type": "display_data"
    }
   ],
   "source": [
    "model_clean.plot(x=\"sqft_lot\", y=\"price\", kind=\"scatter\");"
   ]
  },
  {
   "cell_type": "markdown",
   "metadata": {},
   "source": [
    "Still a viable double set, but lets look at the model."
   ]
  },
  {
   "cell_type": "code",
   "execution_count": 108,
   "metadata": {},
   "outputs": [
    {
     "name": "stderr",
     "output_type": "stream",
     "text": [
      "/opt/conda/lib/python3.9/site-packages/statsmodels/tsa/tsatools.py:142: FutureWarning: In a future version of pandas all arguments of concat except for the argument 'objs' will be keyword-only\n",
      "  x = pd.concat(x[::order], 1)\n"
     ]
    },
    {
     "data": {
      "text/html": [
       "<table class=\"simpletable\">\n",
       "<caption>OLS Regression Results</caption>\n",
       "<tr>\n",
       "  <th>Dep. Variable:</th>          <td>price</td>      <th>  R-squared:         </th>  <td>   0.425</td>  \n",
       "</tr>\n",
       "<tr>\n",
       "  <th>Model:</th>                   <td>OLS</td>       <th>  Adj. R-squared:    </th>  <td>   0.425</td>  \n",
       "</tr>\n",
       "<tr>\n",
       "  <th>Method:</th>             <td>Least Squares</td>  <th>  F-statistic:       </th>  <td>   1867.</td>  \n",
       "</tr>\n",
       "<tr>\n",
       "  <th>Date:</th>             <td>Thu, 29 Sep 2022</td> <th>  Prob (F-statistic):</th>   <td>  0.00</td>   \n",
       "</tr>\n",
       "<tr>\n",
       "  <th>Time:</th>                 <td>00:40:45</td>     <th>  Log-Likelihood:    </th> <td>-3.9723e+05</td>\n",
       "</tr>\n",
       "<tr>\n",
       "  <th>No. Observations:</th>      <td> 27759</td>      <th>  AIC:               </th>  <td>7.945e+05</td> \n",
       "</tr>\n",
       "<tr>\n",
       "  <th>Df Residuals:</th>          <td> 27747</td>      <th>  BIC:               </th>  <td>7.946e+05</td> \n",
       "</tr>\n",
       "<tr>\n",
       "  <th>Df Model:</th>              <td>    11</td>      <th>                     </th>      <td> </td>     \n",
       "</tr>\n",
       "<tr>\n",
       "  <th>Covariance Type:</th>      <td>nonrobust</td>    <th>                     </th>      <td> </td>     \n",
       "</tr>\n",
       "</table>\n",
       "<table class=\"simpletable\">\n",
       "<tr>\n",
       "           <td></td>              <th>coef</th>     <th>std err</th>      <th>t</th>      <th>P>|t|</th>  <th>[0.025</th>    <th>0.975]</th>  \n",
       "</tr>\n",
       "<tr>\n",
       "  <th>const</th>               <td> 8.395e+05</td> <td> 1.85e+04</td> <td>   45.410</td> <td> 0.000</td> <td> 8.03e+05</td> <td> 8.76e+05</td>\n",
       "</tr>\n",
       "<tr>\n",
       "  <th>bedrooms</th>            <td>-5.043e+04</td> <td> 3591.396</td> <td>  -14.042</td> <td> 0.000</td> <td>-5.75e+04</td> <td>-4.34e+04</td>\n",
       "</tr>\n",
       "<tr>\n",
       "  <th>bathrooms</th>           <td> 4.313e+04</td> <td> 4721.929</td> <td>    9.133</td> <td> 0.000</td> <td> 3.39e+04</td> <td> 5.24e+04</td>\n",
       "</tr>\n",
       "<tr>\n",
       "  <th>sqft_living</th>         <td>  197.3174</td> <td>   11.690</td> <td>   16.879</td> <td> 0.000</td> <td>  174.405</td> <td>  220.230</td>\n",
       "</tr>\n",
       "<tr>\n",
       "  <th>sqft_lot</th>            <td>    0.0456</td> <td>    0.346</td> <td>    0.132</td> <td> 0.895</td> <td>   -0.632</td> <td>    0.724</td>\n",
       "</tr>\n",
       "<tr>\n",
       "  <th>sqft_above</th>          <td>  171.5748</td> <td>   11.443</td> <td>   14.994</td> <td> 0.000</td> <td>  149.146</td> <td>  194.003</td>\n",
       "</tr>\n",
       "<tr>\n",
       "  <th>sqft_basement</th>       <td>  152.5777</td> <td>    8.281</td> <td>   18.425</td> <td> 0.000</td> <td>  136.347</td> <td>  168.809</td>\n",
       "</tr>\n",
       "<tr>\n",
       "  <th>sqft_garage</th>         <td> -198.6329</td> <td>   11.297</td> <td>  -17.583</td> <td> 0.000</td> <td> -220.775</td> <td> -176.491</td>\n",
       "</tr>\n",
       "<tr>\n",
       "  <th>sqft_patio</th>          <td>  117.4002</td> <td>   12.085</td> <td>    9.714</td> <td> 0.000</td> <td>   93.713</td> <td>  141.088</td>\n",
       "</tr>\n",
       "<tr>\n",
       "  <th>grade_Average</th>       <td>-5.066e+05</td> <td> 1.36e+04</td> <td>  -37.353</td> <td> 0.000</td> <td>-5.33e+05</td> <td> -4.8e+05</td>\n",
       "</tr>\n",
       "<tr>\n",
       "  <th>grade_Below Average</th> <td>-6.039e+05</td> <td> 1.66e+04</td> <td>  -36.369</td> <td> 0.000</td> <td>-6.36e+05</td> <td>-5.71e+05</td>\n",
       "</tr>\n",
       "<tr>\n",
       "  <th>grade_Poor</th>          <td>-5.444e+05</td> <td>  2.3e+05</td> <td>   -2.369</td> <td> 0.018</td> <td>-9.95e+05</td> <td> -9.4e+04</td>\n",
       "</tr>\n",
       "</table>\n",
       "<table class=\"simpletable\">\n",
       "<tr>\n",
       "  <th>Omnibus:</th>       <td>3983.439</td> <th>  Durbin-Watson:     </th> <td>   2.011</td>\n",
       "</tr>\n",
       "<tr>\n",
       "  <th>Prob(Omnibus):</th>  <td> 0.000</td>  <th>  Jarque-Bera (JB):  </th> <td>9753.950</td>\n",
       "</tr>\n",
       "<tr>\n",
       "  <th>Skew:</th>           <td> 0.821</td>  <th>  Prob(JB):          </th> <td>    0.00</td>\n",
       "</tr>\n",
       "<tr>\n",
       "  <th>Kurtosis:</th>       <td> 5.395</td>  <th>  Cond. No.          </th> <td>1.13e+06</td>\n",
       "</tr>\n",
       "</table><br/><br/>Notes:<br/>[1] Standard Errors assume that the covariance matrix of the errors is correctly specified.<br/>[2] The condition number is large, 1.13e+06. This might indicate that there are<br/>strong multicollinearity or other numerical problems."
      ],
      "text/plain": [
       "<class 'statsmodels.iolib.summary.Summary'>\n",
       "\"\"\"\n",
       "                            OLS Regression Results                            \n",
       "==============================================================================\n",
       "Dep. Variable:                  price   R-squared:                       0.425\n",
       "Model:                            OLS   Adj. R-squared:                  0.425\n",
       "Method:                 Least Squares   F-statistic:                     1867.\n",
       "Date:                Thu, 29 Sep 2022   Prob (F-statistic):               0.00\n",
       "Time:                        00:40:45   Log-Likelihood:            -3.9723e+05\n",
       "No. Observations:               27759   AIC:                         7.945e+05\n",
       "Df Residuals:                   27747   BIC:                         7.946e+05\n",
       "Df Model:                          11                                         \n",
       "Covariance Type:            nonrobust                                         \n",
       "=======================================================================================\n",
       "                          coef    std err          t      P>|t|      [0.025      0.975]\n",
       "---------------------------------------------------------------------------------------\n",
       "const                8.395e+05   1.85e+04     45.410      0.000    8.03e+05    8.76e+05\n",
       "bedrooms            -5.043e+04   3591.396    -14.042      0.000   -5.75e+04   -4.34e+04\n",
       "bathrooms            4.313e+04   4721.929      9.133      0.000    3.39e+04    5.24e+04\n",
       "sqft_living           197.3174     11.690     16.879      0.000     174.405     220.230\n",
       "sqft_lot                0.0456      0.346      0.132      0.895      -0.632       0.724\n",
       "sqft_above            171.5748     11.443     14.994      0.000     149.146     194.003\n",
       "sqft_basement         152.5777      8.281     18.425      0.000     136.347     168.809\n",
       "sqft_garage          -198.6329     11.297    -17.583      0.000    -220.775    -176.491\n",
       "sqft_patio            117.4002     12.085      9.714      0.000      93.713     141.088\n",
       "grade_Average       -5.066e+05   1.36e+04    -37.353      0.000   -5.33e+05    -4.8e+05\n",
       "grade_Below Average -6.039e+05   1.66e+04    -36.369      0.000   -6.36e+05   -5.71e+05\n",
       "grade_Poor          -5.444e+05    2.3e+05     -2.369      0.018   -9.95e+05    -9.4e+04\n",
       "==============================================================================\n",
       "Omnibus:                     3983.439   Durbin-Watson:                   2.011\n",
       "Prob(Omnibus):                  0.000   Jarque-Bera (JB):             9753.950\n",
       "Skew:                           0.821   Prob(JB):                         0.00\n",
       "Kurtosis:                       5.395   Cond. No.                     1.13e+06\n",
       "==============================================================================\n",
       "\n",
       "Notes:\n",
       "[1] Standard Errors assume that the covariance matrix of the errors is correctly specified.\n",
       "[2] The condition number is large, 1.13e+06. This might indicate that there are\n",
       "strong multicollinearity or other numerical problems.\n",
       "\"\"\""
      ]
     },
     "execution_count": 108,
     "metadata": {},
     "output_type": "execute_result"
    }
   ],
   "source": [
    "X=model_clean.drop(labels =['price', 'sale_year', 'floors'], axis=1)\n",
    "y=model_clean.price\n",
    "\n",
    "first_dummy_model = sm.OLS(y,sm.add_constant(X))\n",
    "results = first_dummy_model.fit()\n",
    "results.summary()"
   ]
  },
  {
   "cell_type": "markdown",
   "metadata": {},
   "source": [
    "Let's try cutting max price down again."
   ]
  },
  {
   "cell_type": "code",
   "execution_count": 109,
   "metadata": {},
   "outputs": [
    {
     "data": {
      "text/plain": [
       "count     27759.00\n",
       "mean     991713.38\n",
       "std      523429.03\n",
       "min       27360.00\n",
       "25%      634118.00\n",
       "50%      839000.00\n",
       "75%     1230000.00\n",
       "max     3000000.00\n",
       "Name: price, dtype: float64"
      ]
     },
     "execution_count": 109,
     "metadata": {},
     "output_type": "execute_result"
    }
   ],
   "source": [
    "model_clean.price.describe()"
   ]
  },
  {
   "cell_type": "code",
   "execution_count": 110,
   "metadata": {},
   "outputs": [
    {
     "data": {
      "image/png": "[encoded data removed]",
      "text/plain": [
       "<Figure size 432x288 with 1 Axes>"
      ]
     },
     "metadata": {
      "needs_background": "light"
     },
     "output_type": "display_data"
    }
   ],
   "source": [
    "sns.boxplot(data=model_clean[[\"price\"]], orient=\"h\", width=0.5);"
   ]
  },
  {
   "cell_type": "markdown",
   "metadata": {},
   "source": [
    "Let's drop the price down to $3 million."
   ]
  },
  {
   "cell_type": "code",
   "execution_count": 111,
   "metadata": {},
   "outputs": [],
   "source": [
    "model_clean.drop(model_clean.index[model_clean['price'] > 3000000], inplace=True)"
   ]
  },
  {
   "cell_type": "code",
   "execution_count": 112,
   "metadata": {},
   "outputs": [
    {
     "data": {
      "text/plain": [
       "count     27759.00\n",
       "mean     991713.38\n",
       "std      523429.03\n",
       "min       27360.00\n",
       "25%      634118.00\n",
       "50%      839000.00\n",
       "75%     1230000.00\n",
       "max     3000000.00\n",
       "Name: price, dtype: float64"
      ]
     },
     "execution_count": 112,
     "metadata": {},
     "output_type": "execute_result"
    }
   ],
   "source": [
    "model_clean.price.describe()"
   ]
  },
  {
   "cell_type": "code",
   "execution_count": 113,
   "metadata": {},
   "outputs": [
    {
     "data": {
      "image/png": "[encoded data removed]",
      "text/plain": [
       "<Figure size 432x288 with 1 Axes>"
      ]
     },
     "metadata": {
      "needs_background": "light"
     },
     "output_type": "display_data"
    }
   ],
   "source": [
    "sns.boxplot(data=model_clean[[\"price\"]], orient=\"h\", width=0.5);"
   ]
  },
  {
   "cell_type": "code",
   "execution_count": 114,
   "metadata": {},
   "outputs": [
    {
     "name": "stderr",
     "output_type": "stream",
     "text": [
      "/opt/conda/lib/python3.9/site-packages/statsmodels/tsa/tsatools.py:142: FutureWarning: In a future version of pandas all arguments of concat except for the argument 'objs' will be keyword-only\n",
      "  x = pd.concat(x[::order], 1)\n"
     ]
    },
    {
     "data": {
      "text/html": [
       "<table class=\"simpletable\">\n",
       "<caption>OLS Regression Results</caption>\n",
       "<tr>\n",
       "  <th>Dep. Variable:</th>          <td>price</td>      <th>  R-squared:         </th>  <td>   0.425</td>  \n",
       "</tr>\n",
       "<tr>\n",
       "  <th>Model:</th>                   <td>OLS</td>       <th>  Adj. R-squared:    </th>  <td>   0.425</td>  \n",
       "</tr>\n",
       "<tr>\n",
       "  <th>Method:</th>             <td>Least Squares</td>  <th>  F-statistic:       </th>  <td>   1867.</td>  \n",
       "</tr>\n",
       "<tr>\n",
       "  <th>Date:</th>             <td>Thu, 29 Sep 2022</td> <th>  Prob (F-statistic):</th>   <td>  0.00</td>   \n",
       "</tr>\n",
       "<tr>\n",
       "  <th>Time:</th>                 <td>00:40:46</td>     <th>  Log-Likelihood:    </th> <td>-3.9723e+05</td>\n",
       "</tr>\n",
       "<tr>\n",
       "  <th>No. Observations:</th>      <td> 27759</td>      <th>  AIC:               </th>  <td>7.945e+05</td> \n",
       "</tr>\n",
       "<tr>\n",
       "  <th>Df Residuals:</th>          <td> 27747</td>      <th>  BIC:               </th>  <td>7.946e+05</td> \n",
       "</tr>\n",
       "<tr>\n",
       "  <th>Df Model:</th>              <td>    11</td>      <th>                     </th>      <td> </td>     \n",
       "</tr>\n",
       "<tr>\n",
       "  <th>Covariance Type:</th>      <td>nonrobust</td>    <th>                     </th>      <td> </td>     \n",
       "</tr>\n",
       "</table>\n",
       "<table class=\"simpletable\">\n",
       "<tr>\n",
       "           <td></td>              <th>coef</th>     <th>std err</th>      <th>t</th>      <th>P>|t|</th>  <th>[0.025</th>    <th>0.975]</th>  \n",
       "</tr>\n",
       "<tr>\n",
       "  <th>const</th>               <td> 8.395e+05</td> <td> 1.85e+04</td> <td>   45.410</td> <td> 0.000</td> <td> 8.03e+05</td> <td> 8.76e+05</td>\n",
       "</tr>\n",
       "<tr>\n",
       "  <th>bedrooms</th>            <td>-5.043e+04</td> <td> 3591.396</td> <td>  -14.042</td> <td> 0.000</td> <td>-5.75e+04</td> <td>-4.34e+04</td>\n",
       "</tr>\n",
       "<tr>\n",
       "  <th>bathrooms</th>           <td> 4.313e+04</td> <td> 4721.929</td> <td>    9.133</td> <td> 0.000</td> <td> 3.39e+04</td> <td> 5.24e+04</td>\n",
       "</tr>\n",
       "<tr>\n",
       "  <th>sqft_living</th>         <td>  197.3174</td> <td>   11.690</td> <td>   16.879</td> <td> 0.000</td> <td>  174.405</td> <td>  220.230</td>\n",
       "</tr>\n",
       "<tr>\n",
       "  <th>sqft_lot</th>            <td>    0.0456</td> <td>    0.346</td> <td>    0.132</td> <td> 0.895</td> <td>   -0.632</td> <td>    0.724</td>\n",
       "</tr>\n",
       "<tr>\n",
       "  <th>sqft_above</th>          <td>  171.5748</td> <td>   11.443</td> <td>   14.994</td> <td> 0.000</td> <td>  149.146</td> <td>  194.003</td>\n",
       "</tr>\n",
       "<tr>\n",
       "  <th>sqft_basement</th>       <td>  152.5777</td> <td>    8.281</td> <td>   18.425</td> <td> 0.000</td> <td>  136.347</td> <td>  168.809</td>\n",
       "</tr>\n",
       "<tr>\n",
       "  <th>sqft_garage</th>         <td> -198.6329</td> <td>   11.297</td> <td>  -17.583</td> <td> 0.000</td> <td> -220.775</td> <td> -176.491</td>\n",
       "</tr>\n",
       "<tr>\n",
       "  <th>sqft_patio</th>          <td>  117.4002</td> <td>   12.085</td> <td>    9.714</td> <td> 0.000</td> <td>   93.713</td> <td>  141.088</td>\n",
       "</tr>\n",
       "<tr>\n",
       "  <th>grade_Average</th>       <td>-5.066e+05</td> <td> 1.36e+04</td> <td>  -37.353</td> <td> 0.000</td> <td>-5.33e+05</td> <td> -4.8e+05</td>\n",
       "</tr>\n",
       "<tr>\n",
       "  <th>grade_Below Average</th> <td>-6.039e+05</td> <td> 1.66e+04</td> <td>  -36.369</td> <td> 0.000</td> <td>-6.36e+05</td> <td>-5.71e+05</td>\n",
       "</tr>\n",
       "<tr>\n",
       "  <th>grade_Poor</th>          <td>-5.444e+05</td> <td>  2.3e+05</td> <td>   -2.369</td> <td> 0.018</td> <td>-9.95e+05</td> <td> -9.4e+04</td>\n",
       "</tr>\n",
       "</table>\n",
       "<table class=\"simpletable\">\n",
       "<tr>\n",
       "  <th>Omnibus:</th>       <td>3983.439</td> <th>  Durbin-Watson:     </th> <td>   2.011</td>\n",
       "</tr>\n",
       "<tr>\n",
       "  <th>Prob(Omnibus):</th>  <td> 0.000</td>  <th>  Jarque-Bera (JB):  </th> <td>9753.950</td>\n",
       "</tr>\n",
       "<tr>\n",
       "  <th>Skew:</th>           <td> 0.821</td>  <th>  Prob(JB):          </th> <td>    0.00</td>\n",
       "</tr>\n",
       "<tr>\n",
       "  <th>Kurtosis:</th>       <td> 5.395</td>  <th>  Cond. No.          </th> <td>1.13e+06</td>\n",
       "</tr>\n",
       "</table><br/><br/>Notes:<br/>[1] Standard Errors assume that the covariance matrix of the errors is correctly specified.<br/>[2] The condition number is large, 1.13e+06. This might indicate that there are<br/>strong multicollinearity or other numerical problems."
      ],
      "text/plain": [
       "<class 'statsmodels.iolib.summary.Summary'>\n",
       "\"\"\"\n",
       "                            OLS Regression Results                            \n",
       "==============================================================================\n",
       "Dep. Variable:                  price   R-squared:                       0.425\n",
       "Model:                            OLS   Adj. R-squared:                  0.425\n",
       "Method:                 Least Squares   F-statistic:                     1867.\n",
       "Date:                Thu, 29 Sep 2022   Prob (F-statistic):               0.00\n",
       "Time:                        00:40:46   Log-Likelihood:            -3.9723e+05\n",
       "No. Observations:               27759   AIC:                         7.945e+05\n",
       "Df Residuals:                   27747   BIC:                         7.946e+05\n",
       "Df Model:                          11                                         \n",
       "Covariance Type:            nonrobust                                         \n",
       "=======================================================================================\n",
       "                          coef    std err          t      P>|t|      [0.025      0.975]\n",
       "---------------------------------------------------------------------------------------\n",
       "const                8.395e+05   1.85e+04     45.410      0.000    8.03e+05    8.76e+05\n",
       "bedrooms            -5.043e+04   3591.396    -14.042      0.000   -5.75e+04   -4.34e+04\n",
       "bathrooms            4.313e+04   4721.929      9.133      0.000    3.39e+04    5.24e+04\n",
       "sqft_living           197.3174     11.690     16.879      0.000     174.405     220.230\n",
       "sqft_lot                0.0456      0.346      0.132      0.895      -0.632       0.724\n",
       "sqft_above            171.5748     11.443     14.994      0.000     149.146     194.003\n",
       "sqft_basement         152.5777      8.281     18.425      0.000     136.347     168.809\n",
       "sqft_garage          -198.6329     11.297    -17.583      0.000    -220.775    -176.491\n",
       "sqft_patio            117.4002     12.085      9.714      0.000      93.713     141.088\n",
       "grade_Average       -5.066e+05   1.36e+04    -37.353      0.000   -5.33e+05    -4.8e+05\n",
       "grade_Below Average -6.039e+05   1.66e+04    -36.369      0.000   -6.36e+05   -5.71e+05\n",
       "grade_Poor          -5.444e+05    2.3e+05     -2.369      0.018   -9.95e+05    -9.4e+04\n",
       "==============================================================================\n",
       "Omnibus:                     3983.439   Durbin-Watson:                   2.011\n",
       "Prob(Omnibus):                  0.000   Jarque-Bera (JB):             9753.950\n",
       "Skew:                           0.821   Prob(JB):                         0.00\n",
       "Kurtosis:                       5.395   Cond. No.                     1.13e+06\n",
       "==============================================================================\n",
       "\n",
       "Notes:\n",
       "[1] Standard Errors assume that the covariance matrix of the errors is correctly specified.\n",
       "[2] The condition number is large, 1.13e+06. This might indicate that there are\n",
       "strong multicollinearity or other numerical problems.\n",
       "\"\"\""
      ]
     },
     "execution_count": 114,
     "metadata": {},
     "output_type": "execute_result"
    }
   ],
   "source": [
    "X=model_clean.drop(labels =['price', 'sale_year', 'floors'], axis=1)\n",
    "y=model_clean.price\n",
    "\n",
    "first_dummy_model = sm.OLS(y,sm.add_constant(X))\n",
    "results = first_dummy_model.fit()\n",
    "results.summary()"
   ]
  },
  {
   "cell_type": "markdown",
   "metadata": {},
   "source": [
    "Well, `sqft_lot` is behaving again somewhat accourding to it's P-value, but our R-square is still at .425."
   ]
  },
  {
   "cell_type": "markdown",
   "metadata": {},
   "source": [
    "Heatmap time!"
   ]
  },
  {
   "cell_type": "code",
   "execution_count": 115,
   "metadata": {},
   "outputs": [
    {
     "data": {
      "text/plain": [
       "<AxesSubplot:>"
      ]
     },
     "execution_count": 115,
     "metadata": {},
     "output_type": "execute_result"
    },
    {
     "data": {
      "image/png": "[encoded data removed]",
      "text/plain": [
       "<Figure size 432x288 with 2 Axes>"
      ]
     },
     "metadata": {
      "needs_background": "light"
     },
     "output_type": "display_data"
    }
   ],
   "source": [
    "sns.heatmap(X.corr())"
   ]
  },
  {
   "cell_type": "markdown",
   "metadata": {},
   "source": [
    "Let's remove those high correlations again, and see what happens."
   ]
  },
  {
   "cell_type": "code",
   "execution_count": 116,
   "metadata": {},
   "outputs": [
    {
     "name": "stderr",
     "output_type": "stream",
     "text": [
      "/opt/conda/lib/python3.9/site-packages/statsmodels/tsa/tsatools.py:142: FutureWarning: In a future version of pandas all arguments of concat except for the argument 'objs' will be keyword-only\n",
      "  x = pd.concat(x[::order], 1)\n"
     ]
    },
    {
     "data": {
      "text/html": [
       "<table class=\"simpletable\">\n",
       "<caption>OLS Regression Results</caption>\n",
       "<tr>\n",
       "  <th>Dep. Variable:</th>          <td>price</td>      <th>  R-squared:         </th>  <td>   0.416</td>  \n",
       "</tr>\n",
       "<tr>\n",
       "  <th>Model:</th>                   <td>OLS</td>       <th>  Adj. R-squared:    </th>  <td>   0.416</td>  \n",
       "</tr>\n",
       "<tr>\n",
       "  <th>Method:</th>             <td>Least Squares</td>  <th>  F-statistic:       </th>  <td>   2821.</td>  \n",
       "</tr>\n",
       "<tr>\n",
       "  <th>Date:</th>             <td>Thu, 29 Sep 2022</td> <th>  Prob (F-statistic):</th>   <td>  0.00</td>   \n",
       "</tr>\n",
       "<tr>\n",
       "  <th>Time:</th>                 <td>00:40:46</td>     <th>  Log-Likelihood:    </th> <td>-3.9746e+05</td>\n",
       "</tr>\n",
       "<tr>\n",
       "  <th>No. Observations:</th>      <td> 27759</td>      <th>  AIC:               </th>  <td>7.949e+05</td> \n",
       "</tr>\n",
       "<tr>\n",
       "  <th>Df Residuals:</th>          <td> 27751</td>      <th>  BIC:               </th>  <td>7.950e+05</td> \n",
       "</tr>\n",
       "<tr>\n",
       "  <th>Df Model:</th>              <td>     7</td>      <th>                     </th>      <td> </td>     \n",
       "</tr>\n",
       "<tr>\n",
       "  <th>Covariance Type:</th>      <td>nonrobust</td>    <th>                     </th>      <td> </td>     \n",
       "</tr>\n",
       "</table>\n",
       "<table class=\"simpletable\">\n",
       "<tr>\n",
       "           <td></td>              <th>coef</th>     <th>std err</th>      <th>t</th>      <th>P>|t|</th>  <th>[0.025</th>    <th>0.975]</th>  \n",
       "</tr>\n",
       "<tr>\n",
       "  <th>const</th>               <td> 8.573e+05</td> <td> 1.73e+04</td> <td>   49.548</td> <td> 0.000</td> <td> 8.23e+05</td> <td> 8.91e+05</td>\n",
       "</tr>\n",
       "<tr>\n",
       "  <th>sqft_living</th>         <td>  334.7967</td> <td>    3.971</td> <td>   84.318</td> <td> 0.000</td> <td>  327.014</td> <td>  342.579</td>\n",
       "</tr>\n",
       "<tr>\n",
       "  <th>sqft_basement</th>       <td>   47.9534</td> <td>    4.731</td> <td>   10.136</td> <td> 0.000</td> <td>   38.681</td> <td>   57.226</td>\n",
       "</tr>\n",
       "<tr>\n",
       "  <th>sqft_garage</th>         <td> -157.8378</td> <td>   10.796</td> <td>  -14.621</td> <td> 0.000</td> <td> -178.998</td> <td> -136.678</td>\n",
       "</tr>\n",
       "<tr>\n",
       "  <th>sqft_patio</th>          <td>  127.6865</td> <td>   11.870</td> <td>   10.757</td> <td> 0.000</td> <td>  104.421</td> <td>  150.952</td>\n",
       "</tr>\n",
       "<tr>\n",
       "  <th>grade_Average</th>       <td>-5.442e+05</td> <td> 1.35e+04</td> <td>  -40.372</td> <td> 0.000</td> <td>-5.71e+05</td> <td>-5.18e+05</td>\n",
       "</tr>\n",
       "<tr>\n",
       "  <th>grade_Below Average</th> <td>-6.534e+05</td> <td> 1.66e+04</td> <td>  -39.465</td> <td> 0.000</td> <td>-6.86e+05</td> <td>-6.21e+05</td>\n",
       "</tr>\n",
       "<tr>\n",
       "  <th>grade_Poor</th>          <td>-5.615e+05</td> <td> 2.32e+05</td> <td>   -2.425</td> <td> 0.015</td> <td>-1.02e+06</td> <td>-1.08e+05</td>\n",
       "</tr>\n",
       "</table>\n",
       "<table class=\"simpletable\">\n",
       "<tr>\n",
       "  <th>Omnibus:</th>       <td>4014.201</td> <th>  Durbin-Watson:     </th> <td>   2.010</td>\n",
       "</tr>\n",
       "<tr>\n",
       "  <th>Prob(Omnibus):</th>  <td> 0.000</td>  <th>  Jarque-Bera (JB):  </th> <td>9684.461</td>\n",
       "</tr>\n",
       "<tr>\n",
       "  <th>Skew:</th>           <td> 0.832</td>  <th>  Prob(JB):          </th> <td>    0.00</td>\n",
       "</tr>\n",
       "<tr>\n",
       "  <th>Kurtosis:</th>       <td> 5.367</td>  <th>  Cond. No.          </th> <td>2.18e+05</td>\n",
       "</tr>\n",
       "</table><br/><br/>Notes:<br/>[1] Standard Errors assume that the covariance matrix of the errors is correctly specified.<br/>[2] The condition number is large, 2.18e+05. This might indicate that there are<br/>strong multicollinearity or other numerical problems."
      ],
      "text/plain": [
       "<class 'statsmodels.iolib.summary.Summary'>\n",
       "\"\"\"\n",
       "                            OLS Regression Results                            \n",
       "==============================================================================\n",
       "Dep. Variable:                  price   R-squared:                       0.416\n",
       "Model:                            OLS   Adj. R-squared:                  0.416\n",
       "Method:                 Least Squares   F-statistic:                     2821.\n",
       "Date:                Thu, 29 Sep 2022   Prob (F-statistic):               0.00\n",
       "Time:                        00:40:46   Log-Likelihood:            -3.9746e+05\n",
       "No. Observations:               27759   AIC:                         7.949e+05\n",
       "Df Residuals:                   27751   BIC:                         7.950e+05\n",
       "Df Model:                           7                                         \n",
       "Covariance Type:            nonrobust                                         \n",
       "=======================================================================================\n",
       "                          coef    std err          t      P>|t|      [0.025      0.975]\n",
       "---------------------------------------------------------------------------------------\n",
       "const                8.573e+05   1.73e+04     49.548      0.000    8.23e+05    8.91e+05\n",
       "sqft_living           334.7967      3.971     84.318      0.000     327.014     342.579\n",
       "sqft_basement          47.9534      4.731     10.136      0.000      38.681      57.226\n",
       "sqft_garage          -157.8378     10.796    -14.621      0.000    -178.998    -136.678\n",
       "sqft_patio            127.6865     11.870     10.757      0.000     104.421     150.952\n",
       "grade_Average       -5.442e+05   1.35e+04    -40.372      0.000   -5.71e+05   -5.18e+05\n",
       "grade_Below Average -6.534e+05   1.66e+04    -39.465      0.000   -6.86e+05   -6.21e+05\n",
       "grade_Poor          -5.615e+05   2.32e+05     -2.425      0.015   -1.02e+06   -1.08e+05\n",
       "==============================================================================\n",
       "Omnibus:                     4014.201   Durbin-Watson:                   2.010\n",
       "Prob(Omnibus):                  0.000   Jarque-Bera (JB):             9684.461\n",
       "Skew:                           0.832   Prob(JB):                         0.00\n",
       "Kurtosis:                       5.367   Cond. No.                     2.18e+05\n",
       "==============================================================================\n",
       "\n",
       "Notes:\n",
       "[1] Standard Errors assume that the covariance matrix of the errors is correctly specified.\n",
       "[2] The condition number is large, 2.18e+05. This might indicate that there are\n",
       "strong multicollinearity or other numerical problems.\n",
       "\"\"\""
      ]
     },
     "execution_count": 116,
     "metadata": {},
     "output_type": "execute_result"
    }
   ],
   "source": [
    "X=model_clean.drop(labels =['price', 'sqft_lot', 'sale_year', 'floors', 'bedrooms', 'bathrooms', 'sqft_above'], axis=1)\n",
    "y=model_clean.price\n",
    "\n",
    "first_dummy_model = sm.OLS(y,sm.add_constant(X))\n",
    "results = first_dummy_model.fit()\n",
    "results.summary()"
   ]
  },
  {
   "cell_type": "code",
   "execution_count": 117,
   "metadata": {},
   "outputs": [
    {
     "data": {
      "text/plain": [
       "<AxesSubplot:>"
      ]
     },
     "execution_count": 117,
     "metadata": {},
     "output_type": "execute_result"
    },
    {
     "data": {
      "image/png": "[encoded data removed]",
      "text/plain": [
       "<Figure size 432x288 with 2 Axes>"
      ]
     },
     "metadata": {
      "needs_background": "light"
     },
     "output_type": "display_data"
    }
   ],
   "source": [
    "sns.heatmap(X.corr())"
   ]
  },
  {
   "cell_type": "code",
   "execution_count": 118,
   "metadata": {},
   "outputs": [
    {
     "name": "stderr",
     "output_type": "stream",
     "text": [
      "/opt/conda/lib/python3.9/site-packages/statsmodels/tsa/tsatools.py:142: FutureWarning: In a future version of pandas all arguments of concat except for the argument 'objs' will be keyword-only\n",
      "  x = pd.concat(x[::order], 1)\n"
     ]
    },
    {
     "data": {
      "text/html": [
       "<table class=\"simpletable\">\n",
       "<caption>OLS Regression Results</caption>\n",
       "<tr>\n",
       "  <th>Dep. Variable:</th>          <td>price</td>      <th>  R-squared:         </th>  <td>   0.411</td>  \n",
       "</tr>\n",
       "<tr>\n",
       "  <th>Model:</th>                   <td>OLS</td>       <th>  Adj. R-squared:    </th>  <td>   0.411</td>  \n",
       "</tr>\n",
       "<tr>\n",
       "  <th>Method:</th>             <td>Least Squares</td>  <th>  F-statistic:       </th>  <td>   3867.</td>  \n",
       "</tr>\n",
       "<tr>\n",
       "  <th>Date:</th>             <td>Thu, 29 Sep 2022</td> <th>  Prob (F-statistic):</th>   <td>  0.00</td>   \n",
       "</tr>\n",
       "<tr>\n",
       "  <th>Time:</th>                 <td>00:40:47</td>     <th>  Log-Likelihood:    </th> <td>-3.9758e+05</td>\n",
       "</tr>\n",
       "<tr>\n",
       "  <th>No. Observations:</th>      <td> 27759</td>      <th>  AIC:               </th>  <td>7.952e+05</td> \n",
       "</tr>\n",
       "<tr>\n",
       "  <th>Df Residuals:</th>          <td> 27753</td>      <th>  BIC:               </th>  <td>7.952e+05</td> \n",
       "</tr>\n",
       "<tr>\n",
       "  <th>Df Model:</th>              <td>     5</td>      <th>                     </th>      <td> </td>     \n",
       "</tr>\n",
       "<tr>\n",
       "  <th>Covariance Type:</th>      <td>nonrobust</td>    <th>                     </th>      <td> </td>     \n",
       "</tr>\n",
       "</table>\n",
       "<table class=\"simpletable\">\n",
       "<tr>\n",
       "           <td></td>              <th>coef</th>     <th>std err</th>      <th>t</th>      <th>P>|t|</th>  <th>[0.025</th>    <th>0.975]</th>  \n",
       "</tr>\n",
       "<tr>\n",
       "  <th>const</th>               <td> 8.669e+05</td> <td> 1.73e+04</td> <td>   50.040</td> <td> 0.000</td> <td> 8.33e+05</td> <td> 9.01e+05</td>\n",
       "</tr>\n",
       "<tr>\n",
       "  <th>sqft_living</th>         <td>  357.0952</td> <td>    3.713</td> <td>   96.187</td> <td> 0.000</td> <td>  349.819</td> <td>  364.372</td>\n",
       "</tr>\n",
       "<tr>\n",
       "  <th>sqft_garage</th>         <td> -180.9009</td> <td>   10.649</td> <td>  -16.988</td> <td> 0.000</td> <td> -201.773</td> <td> -160.028</td>\n",
       "</tr>\n",
       "<tr>\n",
       "  <th>grade_Average</th>       <td>-5.429e+05</td> <td> 1.35e+04</td> <td>  -40.256</td> <td> 0.000</td> <td>-5.69e+05</td> <td>-5.17e+05</td>\n",
       "</tr>\n",
       "<tr>\n",
       "  <th>grade_Below Average</th> <td>-6.611e+05</td> <td> 1.66e+04</td> <td>  -39.865</td> <td> 0.000</td> <td>-6.94e+05</td> <td>-6.29e+05</td>\n",
       "</tr>\n",
       "<tr>\n",
       "  <th>grade_Poor</th>          <td>-5.724e+05</td> <td> 2.33e+05</td> <td>   -2.461</td> <td> 0.014</td> <td>-1.03e+06</td> <td>-1.16e+05</td>\n",
       "</tr>\n",
       "</table>\n",
       "<table class=\"simpletable\">\n",
       "<tr>\n",
       "  <th>Omnibus:</th>       <td>4010.067</td> <th>  Durbin-Watson:     </th> <td>   2.009</td>\n",
       "</tr>\n",
       "<tr>\n",
       "  <th>Prob(Omnibus):</th>  <td> 0.000</td>  <th>  Jarque-Bera (JB):  </th> <td>9429.288</td>\n",
       "</tr>\n",
       "<tr>\n",
       "  <th>Skew:</th>           <td> 0.839</td>  <th>  Prob(JB):          </th> <td>    0.00</td>\n",
       "</tr>\n",
       "<tr>\n",
       "  <th>Kurtosis:</th>       <td> 5.310</td>  <th>  Cond. No.          </th> <td>2.11e+05</td>\n",
       "</tr>\n",
       "</table><br/><br/>Notes:<br/>[1] Standard Errors assume that the covariance matrix of the errors is correctly specified.<br/>[2] The condition number is large, 2.11e+05. This might indicate that there are<br/>strong multicollinearity or other numerical problems."
      ],
      "text/plain": [
       "<class 'statsmodels.iolib.summary.Summary'>\n",
       "\"\"\"\n",
       "                            OLS Regression Results                            \n",
       "==============================================================================\n",
       "Dep. Variable:                  price   R-squared:                       0.411\n",
       "Model:                            OLS   Adj. R-squared:                  0.411\n",
       "Method:                 Least Squares   F-statistic:                     3867.\n",
       "Date:                Thu, 29 Sep 2022   Prob (F-statistic):               0.00\n",
       "Time:                        00:40:47   Log-Likelihood:            -3.9758e+05\n",
       "No. Observations:               27759   AIC:                         7.952e+05\n",
       "Df Residuals:                   27753   BIC:                         7.952e+05\n",
       "Df Model:                           5                                         \n",
       "Covariance Type:            nonrobust                                         \n",
       "=======================================================================================\n",
       "                          coef    std err          t      P>|t|      [0.025      0.975]\n",
       "---------------------------------------------------------------------------------------\n",
       "const                8.669e+05   1.73e+04     50.040      0.000    8.33e+05    9.01e+05\n",
       "sqft_living           357.0952      3.713     96.187      0.000     349.819     364.372\n",
       "sqft_garage          -180.9009     10.649    -16.988      0.000    -201.773    -160.028\n",
       "grade_Average       -5.429e+05   1.35e+04    -40.256      0.000   -5.69e+05   -5.17e+05\n",
       "grade_Below Average -6.611e+05   1.66e+04    -39.865      0.000   -6.94e+05   -6.29e+05\n",
       "grade_Poor          -5.724e+05   2.33e+05     -2.461      0.014   -1.03e+06   -1.16e+05\n",
       "==============================================================================\n",
       "Omnibus:                     4010.067   Durbin-Watson:                   2.009\n",
       "Prob(Omnibus):                  0.000   Jarque-Bera (JB):             9429.288\n",
       "Skew:                           0.839   Prob(JB):                         0.00\n",
       "Kurtosis:                       5.310   Cond. No.                     2.11e+05\n",
       "==============================================================================\n",
       "\n",
       "Notes:\n",
       "[1] Standard Errors assume that the covariance matrix of the errors is correctly specified.\n",
       "[2] The condition number is large, 2.11e+05. This might indicate that there are\n",
       "strong multicollinearity or other numerical problems.\n",
       "\"\"\""
      ]
     },
     "execution_count": 118,
     "metadata": {},
     "output_type": "execute_result"
    }
   ],
   "source": [
    "X=model_clean.drop(labels =['price', 'sqft_lot', 'sale_year', 'floors', 'bedrooms', 'bathrooms', 'sqft_above', 'sqft_basement', 'sqft_patio'], axis=1)\n",
    "y=model_clean.price\n",
    "\n",
    "first_dummy_model = sm.OLS(y,sm.add_constant(X))\n",
    "results = first_dummy_model.fit()\n",
    "results.summary()"
   ]
  },
  {
   "cell_type": "code",
   "execution_count": null,
   "metadata": {},
   "outputs": [],
   "source": []
  }
 ],
 "metadata": {
  "kernelspec": {
   "display_name": "Python 3",
   "language": "python",
   "name": "python3"
  },
  "language_info": {
   "codemirror_mode": {
    "name": "ipython",
    "version": 3
   },
   "file_extension": ".py",
   "mimetype": "text/x-python",
   "name": "python",
   "nbconvert_exporter": "python",
   "pygments_lexer": "ipython3",
   "version": "3.9.5"
  }
 },
 "nbformat": 4,
 "nbformat_minor": 4
}
